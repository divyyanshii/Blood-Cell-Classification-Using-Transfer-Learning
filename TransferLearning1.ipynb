{
  "cells": [
    {
      "cell_type": "code",
      "execution_count": null,
      "metadata": {
        "id": "kZf35uQAw7k6"
      },
      "outputs": [],
      "source": [
        "!pip install opendatasets --upgrade --quiet"
      ]
    },
    {
      "cell_type": "code",
      "execution_count": null,
      "metadata": {
        "id": "m0dMDelsxA4A"
      },
      "outputs": [],
      "source": [
        "import opendatasets as od"
      ]
    },
    {
      "cell_type": "code",
      "execution_count": null,
      "metadata": {
        "id": "SdMC_OqP0TPF"
      },
      "outputs": [],
      "source": [
        "import os\n",
        "import torch\n",
        "import pandas as pd\n",
        "import numpy as np\n",
        "from torch.utils.data import Dataset, random_split, DataLoader\n",
        "from PIL import Image\n",
        "import torchvision.models as models\n",
        "import matplotlib.pyplot as plt\n",
        "import torchvision.transforms as transforms\n",
        "from sklearn.metrics import f1_score\n",
        "import torch.nn.functional as F\n",
        "import torch.nn as nn\n",
        "from torchvision.utils import make_grid\n",
        "%matplotlib inline"
      ]
    },
    {
      "cell_type": "code",
      "execution_count": null,
      "metadata": {
        "colab": {
          "base_uri": "https://localhost:8080/"
        },
        "id": "I6QLvozpxG6w",
        "outputId": "6e6f6910-9a9f-4aee-89d9-d625b9db4d9c"
      },
      "outputs": [
        {
          "name": "stdout",
          "output_type": "stream",
          "text": [
            "Please provide your Kaggle credentials to download this dataset. Learn more: http://bit.ly/kaggle-creds\n",
            "Your Kaggle username: maniyarsuyash\n",
            "Your Kaggle Key: ··········\n",
            "Downloading blood-cells.zip to ./blood-cells\n"
          ]
        },
        {
          "name": "stderr",
          "output_type": "stream",
          "text": [
            "100%|██████████| 108M/108M [00:00<00:00, 191MB/s]\n"
          ]
        },
        {
          "name": "stdout",
          "output_type": "stream",
          "text": [
            "\n"
          ]
        }
      ],
      "source": [
        "od.download('https://www.kaggle.com/paultimothymooney/blood-cells')"
      ]
    },
    {
      "cell_type": "code",
      "execution_count": null,
      "metadata": {
        "colab": {
          "base_uri": "https://localhost:8080/"
        },
        "id": "5_gb55iLxI4l",
        "outputId": "3ed7569c-f567-4a5d-a005-a7c6ccb44e54"
      },
      "outputs": [
        {
          "name": "stdout",
          "output_type": "stream",
          "text": [
            "Mounted at /content/drive\n"
          ]
        }
      ],
      "source": [
        "from google.colab import drive\n",
        "drive.mount('/content/drive')"
      ]
    },
    {
      "cell_type": "code",
      "execution_count": null,
      "metadata": {
        "colab": {
          "base_uri": "https://localhost:8080/"
        },
        "id": "E1ovDAAK0ixq",
        "outputId": "5f160a07-1041-4771-fc21-45e6dd621ffc"
      },
      "outputs": [
        {
          "name": "stdout",
          "output_type": "stream",
          "text": [
            "/content/blood-cells\n"
          ]
        }
      ],
      "source": [
        "%cd blood-cells"
      ]
    },
    {
      "cell_type": "code",
      "execution_count": null,
      "metadata": {
        "colab": {
          "base_uri": "https://localhost:8080/"
        },
        "id": "ic0PBraAzxYY",
        "outputId": "f5d58d3e-78aa-4048-9a51-dded91ae6e3b"
      },
      "outputs": [
        {
          "name": "stdout",
          "output_type": "stream",
          "text": [
            "/content/blood-cells/dataset2-master/dataset2-master/images\n"
          ]
        }
      ],
      "source": [
        "%cd dataset2-master/dataset2-master/images"
      ]
    },
    {
      "cell_type": "code",
      "execution_count": null,
      "metadata": {
        "id": "EpZV-o5J0uQ_"
      },
      "outputs": [],
      "source": [
        "DATA_DIR = '/content/blood-cells/dataset2-master/dataset2-master'\n",
        "\n",
        "\n",
        "TRAIN_DIR = DATA_DIR + '/images/TRAIN'                           # Contains training images\n",
        "TEST_DIR = DATA_DIR + '/images/TEST'                             # Contains test images\n",
        "\n",
        "LABELS_CSV = DATA_DIR + '/labels.csv'                       # Contains real labels for training images"
      ]
    },
    {
      "cell_type": "code",
      "execution_count": null,
      "metadata": {
        "colab": {
          "base_uri": "https://localhost:8080/"
        },
        "id": "VGOMXrhP5lkM",
        "outputId": "09199d31-efa4-4aa8-cafe-64fccb0153f6"
      },
      "outputs": [
        {
          "name": "stdout",
          "output_type": "stream",
          "text": [
            "/content/blood-cells/dataset2-master/dataset2-master\n"
          ]
        }
      ],
      "source": [
        "%cd .."
      ]
    },
    {
      "cell_type": "code",
      "execution_count": null,
      "metadata": {
        "id": "tdIiGYYj0x6h"
      },
      "outputs": [],
      "source": [
        "df = pd.read_csv(\"labels.csv\") "
      ]
    },
    {
      "cell_type": "code",
      "execution_count": null,
      "metadata": {
        "colab": {
          "base_uri": "https://localhost:8080/",
          "height": 423
        },
        "id": "Pqw8AiiE64qL",
        "outputId": "6c3250f4-2e54-4309-c935-7176b0f9833c"
      },
      "outputs": [
        {
          "data": {
            "text/html": [
              "\n",
              "  <div id=\"df-c68ebae5-5629-491c-9684-837fc2981b38\">\n",
              "    <div class=\"colab-df-container\">\n",
              "      <div>\n",
              "<style scoped>\n",
              "    .dataframe tbody tr th:only-of-type {\n",
              "        vertical-align: middle;\n",
              "    }\n",
              "\n",
              "    .dataframe tbody tr th {\n",
              "        vertical-align: top;\n",
              "    }\n",
              "\n",
              "    .dataframe thead th {\n",
              "        text-align: right;\n",
              "    }\n",
              "</style>\n",
              "<table border=\"1\" class=\"dataframe\">\n",
              "  <thead>\n",
              "    <tr style=\"text-align: right;\">\n",
              "      <th></th>\n",
              "      <th>Unnamed: 0</th>\n",
              "      <th>Image</th>\n",
              "      <th>Category</th>\n",
              "    </tr>\n",
              "  </thead>\n",
              "  <tbody>\n",
              "    <tr>\n",
              "      <th>0</th>\n",
              "      <td>NaN</td>\n",
              "      <td>0</td>\n",
              "      <td>NEUTROPHIL</td>\n",
              "    </tr>\n",
              "    <tr>\n",
              "      <th>1</th>\n",
              "      <td>NaN</td>\n",
              "      <td>1</td>\n",
              "      <td>NEUTROPHIL</td>\n",
              "    </tr>\n",
              "    <tr>\n",
              "      <th>2</th>\n",
              "      <td>NaN</td>\n",
              "      <td>2</td>\n",
              "      <td>NEUTROPHIL</td>\n",
              "    </tr>\n",
              "    <tr>\n",
              "      <th>3</th>\n",
              "      <td>NaN</td>\n",
              "      <td>3</td>\n",
              "      <td>NEUTROPHIL</td>\n",
              "    </tr>\n",
              "    <tr>\n",
              "      <th>4</th>\n",
              "      <td>NaN</td>\n",
              "      <td>4</td>\n",
              "      <td>NEUTROPHIL</td>\n",
              "    </tr>\n",
              "    <tr>\n",
              "      <th>...</th>\n",
              "      <td>...</td>\n",
              "      <td>...</td>\n",
              "      <td>...</td>\n",
              "    </tr>\n",
              "    <tr>\n",
              "      <th>406</th>\n",
              "      <td>NaN</td>\n",
              "      <td>406</td>\n",
              "      <td>NaN</td>\n",
              "    </tr>\n",
              "    <tr>\n",
              "      <th>407</th>\n",
              "      <td>NaN</td>\n",
              "      <td>407</td>\n",
              "      <td>NEUTROPHIL</td>\n",
              "    </tr>\n",
              "    <tr>\n",
              "      <th>408</th>\n",
              "      <td>NaN</td>\n",
              "      <td>408</td>\n",
              "      <td>NEUTROPHIL</td>\n",
              "    </tr>\n",
              "    <tr>\n",
              "      <th>409</th>\n",
              "      <td>NaN</td>\n",
              "      <td>409</td>\n",
              "      <td>NEUTROPHIL</td>\n",
              "    </tr>\n",
              "    <tr>\n",
              "      <th>410</th>\n",
              "      <td>NaN</td>\n",
              "      <td>410</td>\n",
              "      <td>EOSINOPHIL</td>\n",
              "    </tr>\n",
              "  </tbody>\n",
              "</table>\n",
              "<p>411 rows × 3 columns</p>\n",
              "</div>\n",
              "      <button class=\"colab-df-convert\" onclick=\"convertToInteractive('df-c68ebae5-5629-491c-9684-837fc2981b38')\"\n",
              "              title=\"Convert this dataframe to an interactive table.\"\n",
              "              style=\"display:none;\">\n",
              "        \n",
              "  <svg xmlns=\"http://www.w3.org/2000/svg\" height=\"24px\"viewBox=\"0 0 24 24\"\n",
              "       width=\"24px\">\n",
              "    <path d=\"M0 0h24v24H0V0z\" fill=\"none\"/>\n",
              "    <path d=\"M18.56 5.44l.94 2.06.94-2.06 2.06-.94-2.06-.94-.94-2.06-.94 2.06-2.06.94zm-11 1L8.5 8.5l.94-2.06 2.06-.94-2.06-.94L8.5 2.5l-.94 2.06-2.06.94zm10 10l.94 2.06.94-2.06 2.06-.94-2.06-.94-.94-2.06-.94 2.06-2.06.94z\"/><path d=\"M17.41 7.96l-1.37-1.37c-.4-.4-.92-.59-1.43-.59-.52 0-1.04.2-1.43.59L10.3 9.45l-7.72 7.72c-.78.78-.78 2.05 0 2.83L4 21.41c.39.39.9.59 1.41.59.51 0 1.02-.2 1.41-.59l7.78-7.78 2.81-2.81c.8-.78.8-2.07 0-2.86zM5.41 20L4 18.59l7.72-7.72 1.47 1.35L5.41 20z\"/>\n",
              "  </svg>\n",
              "      </button>\n",
              "      \n",
              "  <style>\n",
              "    .colab-df-container {\n",
              "      display:flex;\n",
              "      flex-wrap:wrap;\n",
              "      gap: 12px;\n",
              "    }\n",
              "\n",
              "    .colab-df-convert {\n",
              "      background-color: #E8F0FE;\n",
              "      border: none;\n",
              "      border-radius: 50%;\n",
              "      cursor: pointer;\n",
              "      display: none;\n",
              "      fill: #1967D2;\n",
              "      height: 32px;\n",
              "      padding: 0 0 0 0;\n",
              "      width: 32px;\n",
              "    }\n",
              "\n",
              "    .colab-df-convert:hover {\n",
              "      background-color: #E2EBFA;\n",
              "      box-shadow: 0px 1px 2px rgba(60, 64, 67, 0.3), 0px 1px 3px 1px rgba(60, 64, 67, 0.15);\n",
              "      fill: #174EA6;\n",
              "    }\n",
              "\n",
              "    [theme=dark] .colab-df-convert {\n",
              "      background-color: #3B4455;\n",
              "      fill: #D2E3FC;\n",
              "    }\n",
              "\n",
              "    [theme=dark] .colab-df-convert:hover {\n",
              "      background-color: #434B5C;\n",
              "      box-shadow: 0px 1px 3px 1px rgba(0, 0, 0, 0.15);\n",
              "      filter: drop-shadow(0px 1px 2px rgba(0, 0, 0, 0.3));\n",
              "      fill: #FFFFFF;\n",
              "    }\n",
              "  </style>\n",
              "\n",
              "      <script>\n",
              "        const buttonEl =\n",
              "          document.querySelector('#df-c68ebae5-5629-491c-9684-837fc2981b38 button.colab-df-convert');\n",
              "        buttonEl.style.display =\n",
              "          google.colab.kernel.accessAllowed ? 'block' : 'none';\n",
              "\n",
              "        async function convertToInteractive(key) {\n",
              "          const element = document.querySelector('#df-c68ebae5-5629-491c-9684-837fc2981b38');\n",
              "          const dataTable =\n",
              "            await google.colab.kernel.invokeFunction('convertToInteractive',\n",
              "                                                     [key], {});\n",
              "          if (!dataTable) return;\n",
              "\n",
              "          const docLinkHtml = 'Like what you see? Visit the ' +\n",
              "            '<a target=\"_blank\" href=https://colab.research.google.com/notebooks/data_table.ipynb>data table notebook</a>'\n",
              "            + ' to learn more about interactive tables.';\n",
              "          element.innerHTML = '';\n",
              "          dataTable['output_type'] = 'display_data';\n",
              "          await google.colab.output.renderOutput(dataTable, element);\n",
              "          const docLink = document.createElement('div');\n",
              "          docLink.innerHTML = docLinkHtml;\n",
              "          element.appendChild(docLink);\n",
              "        }\n",
              "      </script>\n",
              "    </div>\n",
              "  </div>\n",
              "  "
            ],
            "text/plain": [
              "     Unnamed: 0  Image    Category\n",
              "0           NaN      0  NEUTROPHIL\n",
              "1           NaN      1  NEUTROPHIL\n",
              "2           NaN      2  NEUTROPHIL\n",
              "3           NaN      3  NEUTROPHIL\n",
              "4           NaN      4  NEUTROPHIL\n",
              "..          ...    ...         ...\n",
              "406         NaN    406         NaN\n",
              "407         NaN    407  NEUTROPHIL\n",
              "408         NaN    408  NEUTROPHIL\n",
              "409         NaN    409  NEUTROPHIL\n",
              "410         NaN    410  EOSINOPHIL\n",
              "\n",
              "[411 rows x 3 columns]"
            ]
          },
          "execution_count": 11,
          "metadata": {},
          "output_type": "execute_result"
        }
      ],
      "source": [
        "df"
      ]
    },
    {
      "cell_type": "code",
      "execution_count": null,
      "metadata": {
        "colab": {
          "base_uri": "https://localhost:8080/"
        },
        "id": "-Zda6tBF0yUJ",
        "outputId": "e68041b6-b4f6-401d-eaad-cc5822d420bf"
      },
      "outputs": [
        {
          "name": "stdout",
          "output_type": "stream",
          "text": [
            "EOSINOPHIL\n",
            "LYMPHOCYTE\n",
            "MONOCYTE\n",
            "NEUTROPHIL\n"
          ]
        }
      ],
      "source": [
        "!ls \"{TRAIN_DIR}\" | head"
      ]
    },
    {
      "cell_type": "code",
      "execution_count": null,
      "metadata": {
        "colab": {
          "base_uri": "https://localhost:8080/"
        },
        "id": "78KyXggc09qr",
        "outputId": "93656a95-b2d4-454b-84e8-e49d518fd92f"
      },
      "outputs": [
        {
          "name": "stdout",
          "output_type": "stream",
          "text": [
            "_0_1169.jpeg\n",
            "_0_1414.jpeg\n",
            "_0_207.jpeg\n",
            "_0_2142.jpeg\n",
            "_0_2370.jpeg\n",
            "_0_3072.jpeg\n",
            "_0_4431.jpeg\n",
            "_0_4480.jpeg\n",
            "_0_4574.jpeg\n",
            "_0_4747.jpeg\n"
          ]
        }
      ],
      "source": [
        "!ls \"{TRAIN_DIR}/EOSINOPHIL\" | head"
      ]
    },
    {
      "cell_type": "code",
      "execution_count": null,
      "metadata": {
        "colab": {
          "base_uri": "https://localhost:8080/"
        },
        "id": "VwLK9iah0_b6",
        "outputId": "bebb5711-a961-4db0-9a78-6c391561c65f"
      },
      "outputs": [
        {
          "data": {
            "text/plain": [
              "2497"
            ]
          },
          "execution_count": 14,
          "metadata": {},
          "output_type": "execute_result"
        }
      ],
      "source": [
        "all_eosinophils=os.listdir(TRAIN_DIR + \"/EOSINOPHIL\")\n",
        "len(all_eosinophils)"
      ]
    },
    {
      "cell_type": "code",
      "execution_count": null,
      "metadata": {
        "colab": {
          "base_uri": "https://localhost:8080/"
        },
        "id": "7O-gW35d1Avx",
        "outputId": "c63636ff-adde-4e77-f7dd-3f7536d20fba"
      },
      "outputs": [
        {
          "data": {
            "text/plain": [
              "2497"
            ]
          },
          "execution_count": 15,
          "metadata": {},
          "output_type": "execute_result"
        }
      ],
      "source": [
        "all_eosinophils=os.listdir(TRAIN_DIR + \"/EOSINOPHIL\")\n",
        "len(all_eosinophils)"
      ]
    },
    {
      "cell_type": "code",
      "execution_count": null,
      "metadata": {
        "id": "RYKGerLx8GaG"
      },
      "outputs": [],
      "source": [
        "PROCESSED_DATA_DIR = '/content/blood-cells'\n",
        "PROCESSED_TRAIN_DIR = PROCESSED_DATA_DIR + '/train'\n",
        "PROCESSED_TEST_DIR = PROCESSED_DATA_DIR + '/test'\n",
        "TRAIN_CSV = PROCESSED_DATA_DIR + '/train_labels.csv'\n",
        "TEST_CSV = PROCESSED_DATA_DIR + '/test_labels.csv'"
      ]
    },
    {
      "cell_type": "code",
      "execution_count": null,
      "metadata": {
        "id": "TkAgUa3a8MvG"
      },
      "outputs": [],
      "source": [
        "def get_labels(folder_path, filename_to_save=None):\n",
        "  ''' Gets folder path and returns labels dataframe '''\n",
        "  labels = np.column_stack(([],[],[]))\n",
        "  dirnames = os.listdir(folder_path)\n",
        "  for i, dirname in enumerate(dirnames):\n",
        "    if os.path.isdir(os.path.join(folder_path, dirname)):\n",
        "      files_list = os.listdir(os.path.join(folder_path, dirname))      \n",
        "      labels = np.vstack((labels, np.column_stack((([dirname] * len(files_list)),([i] * len(files_list)), files_list))))\n",
        "  labels_df = pd.DataFrame(labels, columns = ['text_label', 'num_label', 'img_name'])\n",
        "  if filename_to_save:\n",
        "    labels_df.to_csv(filename_to_save)\n",
        "  return labels_df"
      ]
    },
    {
      "cell_type": "code",
      "execution_count": null,
      "metadata": {
        "id": "GZFGBmoS8TDa"
      },
      "outputs": [],
      "source": [
        "train_labels = get_labels(TRAIN_DIR, TRAIN_CSV)"
      ]
    },
    {
      "cell_type": "code",
      "execution_count": null,
      "metadata": {
        "id": "0y_0NXwT8W90"
      },
      "outputs": [],
      "source": [
        "test_labels = get_labels(TEST_DIR, TEST_CSV)"
      ]
    },
    {
      "cell_type": "code",
      "execution_count": null,
      "metadata": {
        "colab": {
          "base_uri": "https://localhost:8080/",
          "height": 206
        },
        "id": "a4JKBcbL8cG8",
        "outputId": "2d21714e-7657-42e4-f860-65f90391e25c"
      },
      "outputs": [
        {
          "data": {
            "text/html": [
              "\n",
              "  <div id=\"df-a84fad8a-75e1-49c7-a589-8467bb727a4a\">\n",
              "    <div class=\"colab-df-container\">\n",
              "      <div>\n",
              "<style scoped>\n",
              "    .dataframe tbody tr th:only-of-type {\n",
              "        vertical-align: middle;\n",
              "    }\n",
              "\n",
              "    .dataframe tbody tr th {\n",
              "        vertical-align: top;\n",
              "    }\n",
              "\n",
              "    .dataframe thead th {\n",
              "        text-align: right;\n",
              "    }\n",
              "</style>\n",
              "<table border=\"1\" class=\"dataframe\">\n",
              "  <thead>\n",
              "    <tr style=\"text-align: right;\">\n",
              "      <th></th>\n",
              "      <th></th>\n",
              "      <th>img_name</th>\n",
              "    </tr>\n",
              "    <tr>\n",
              "      <th>text_label</th>\n",
              "      <th>num_label</th>\n",
              "      <th></th>\n",
              "    </tr>\n",
              "  </thead>\n",
              "  <tbody>\n",
              "    <tr>\n",
              "      <th>EOSINOPHIL</th>\n",
              "      <th>2</th>\n",
              "      <td>623</td>\n",
              "    </tr>\n",
              "    <tr>\n",
              "      <th>LYMPHOCYTE</th>\n",
              "      <th>0</th>\n",
              "      <td>620</td>\n",
              "    </tr>\n",
              "    <tr>\n",
              "      <th>MONOCYTE</th>\n",
              "      <th>3</th>\n",
              "      <td>620</td>\n",
              "    </tr>\n",
              "    <tr>\n",
              "      <th>NEUTROPHIL</th>\n",
              "      <th>1</th>\n",
              "      <td>624</td>\n",
              "    </tr>\n",
              "  </tbody>\n",
              "</table>\n",
              "</div>\n",
              "      <button class=\"colab-df-convert\" onclick=\"convertToInteractive('df-a84fad8a-75e1-49c7-a589-8467bb727a4a')\"\n",
              "              title=\"Convert this dataframe to an interactive table.\"\n",
              "              style=\"display:none;\">\n",
              "        \n",
              "  <svg xmlns=\"http://www.w3.org/2000/svg\" height=\"24px\"viewBox=\"0 0 24 24\"\n",
              "       width=\"24px\">\n",
              "    <path d=\"M0 0h24v24H0V0z\" fill=\"none\"/>\n",
              "    <path d=\"M18.56 5.44l.94 2.06.94-2.06 2.06-.94-2.06-.94-.94-2.06-.94 2.06-2.06.94zm-11 1L8.5 8.5l.94-2.06 2.06-.94-2.06-.94L8.5 2.5l-.94 2.06-2.06.94zm10 10l.94 2.06.94-2.06 2.06-.94-2.06-.94-.94-2.06-.94 2.06-2.06.94z\"/><path d=\"M17.41 7.96l-1.37-1.37c-.4-.4-.92-.59-1.43-.59-.52 0-1.04.2-1.43.59L10.3 9.45l-7.72 7.72c-.78.78-.78 2.05 0 2.83L4 21.41c.39.39.9.59 1.41.59.51 0 1.02-.2 1.41-.59l7.78-7.78 2.81-2.81c.8-.78.8-2.07 0-2.86zM5.41 20L4 18.59l7.72-7.72 1.47 1.35L5.41 20z\"/>\n",
              "  </svg>\n",
              "      </button>\n",
              "      \n",
              "  <style>\n",
              "    .colab-df-container {\n",
              "      display:flex;\n",
              "      flex-wrap:wrap;\n",
              "      gap: 12px;\n",
              "    }\n",
              "\n",
              "    .colab-df-convert {\n",
              "      background-color: #E8F0FE;\n",
              "      border: none;\n",
              "      border-radius: 50%;\n",
              "      cursor: pointer;\n",
              "      display: none;\n",
              "      fill: #1967D2;\n",
              "      height: 32px;\n",
              "      padding: 0 0 0 0;\n",
              "      width: 32px;\n",
              "    }\n",
              "\n",
              "    .colab-df-convert:hover {\n",
              "      background-color: #E2EBFA;\n",
              "      box-shadow: 0px 1px 2px rgba(60, 64, 67, 0.3), 0px 1px 3px 1px rgba(60, 64, 67, 0.15);\n",
              "      fill: #174EA6;\n",
              "    }\n",
              "\n",
              "    [theme=dark] .colab-df-convert {\n",
              "      background-color: #3B4455;\n",
              "      fill: #D2E3FC;\n",
              "    }\n",
              "\n",
              "    [theme=dark] .colab-df-convert:hover {\n",
              "      background-color: #434B5C;\n",
              "      box-shadow: 0px 1px 3px 1px rgba(0, 0, 0, 0.15);\n",
              "      filter: drop-shadow(0px 1px 2px rgba(0, 0, 0, 0.3));\n",
              "      fill: #FFFFFF;\n",
              "    }\n",
              "  </style>\n",
              "\n",
              "      <script>\n",
              "        const buttonEl =\n",
              "          document.querySelector('#df-a84fad8a-75e1-49c7-a589-8467bb727a4a button.colab-df-convert');\n",
              "        buttonEl.style.display =\n",
              "          google.colab.kernel.accessAllowed ? 'block' : 'none';\n",
              "\n",
              "        async function convertToInteractive(key) {\n",
              "          const element = document.querySelector('#df-a84fad8a-75e1-49c7-a589-8467bb727a4a');\n",
              "          const dataTable =\n",
              "            await google.colab.kernel.invokeFunction('convertToInteractive',\n",
              "                                                     [key], {});\n",
              "          if (!dataTable) return;\n",
              "\n",
              "          const docLinkHtml = 'Like what you see? Visit the ' +\n",
              "            '<a target=\"_blank\" href=https://colab.research.google.com/notebooks/data_table.ipynb>data table notebook</a>'\n",
              "            + ' to learn more about interactive tables.';\n",
              "          element.innerHTML = '';\n",
              "          dataTable['output_type'] = 'display_data';\n",
              "          await google.colab.output.renderOutput(dataTable, element);\n",
              "          const docLink = document.createElement('div');\n",
              "          docLink.innerHTML = docLinkHtml;\n",
              "          element.appendChild(docLink);\n",
              "        }\n",
              "      </script>\n",
              "    </div>\n",
              "  </div>\n",
              "  "
            ],
            "text/plain": [
              "                      img_name\n",
              "text_label num_label          \n",
              "EOSINOPHIL 2               623\n",
              "LYMPHOCYTE 0               620\n",
              "MONOCYTE   3               620\n",
              "NEUTROPHIL 1               624"
            ]
          },
          "execution_count": 20,
          "metadata": {},
          "output_type": "execute_result"
        }
      ],
      "source": [
        "lab_test = pd.DataFrame(test_labels.groupby(['text_label', 'num_label']).count())\n",
        "lab_test"
      ]
    },
    {
      "cell_type": "code",
      "execution_count": null,
      "metadata": {
        "colab": {
          "base_uri": "https://localhost:8080/",
          "height": 206
        },
        "id": "jskmqmm88xbz",
        "outputId": "c83148d8-f664-4219-b070-d48786ed4f5e"
      },
      "outputs": [
        {
          "data": {
            "text/html": [
              "\n",
              "  <div id=\"df-b7593b8f-89a8-4e51-b677-f175ce3629f7\">\n",
              "    <div class=\"colab-df-container\">\n",
              "      <div>\n",
              "<style scoped>\n",
              "    .dataframe tbody tr th:only-of-type {\n",
              "        vertical-align: middle;\n",
              "    }\n",
              "\n",
              "    .dataframe tbody tr th {\n",
              "        vertical-align: top;\n",
              "    }\n",
              "\n",
              "    .dataframe thead th {\n",
              "        text-align: right;\n",
              "    }\n",
              "</style>\n",
              "<table border=\"1\" class=\"dataframe\">\n",
              "  <thead>\n",
              "    <tr style=\"text-align: right;\">\n",
              "      <th></th>\n",
              "      <th></th>\n",
              "      <th>img_name</th>\n",
              "    </tr>\n",
              "    <tr>\n",
              "      <th>text_label</th>\n",
              "      <th>num_label</th>\n",
              "      <th></th>\n",
              "    </tr>\n",
              "  </thead>\n",
              "  <tbody>\n",
              "    <tr>\n",
              "      <th>EOSINOPHIL</th>\n",
              "      <th>2</th>\n",
              "      <td>2497</td>\n",
              "    </tr>\n",
              "    <tr>\n",
              "      <th>LYMPHOCYTE</th>\n",
              "      <th>0</th>\n",
              "      <td>2483</td>\n",
              "    </tr>\n",
              "    <tr>\n",
              "      <th>MONOCYTE</th>\n",
              "      <th>3</th>\n",
              "      <td>2478</td>\n",
              "    </tr>\n",
              "    <tr>\n",
              "      <th>NEUTROPHIL</th>\n",
              "      <th>1</th>\n",
              "      <td>2499</td>\n",
              "    </tr>\n",
              "  </tbody>\n",
              "</table>\n",
              "</div>\n",
              "      <button class=\"colab-df-convert\" onclick=\"convertToInteractive('df-b7593b8f-89a8-4e51-b677-f175ce3629f7')\"\n",
              "              title=\"Convert this dataframe to an interactive table.\"\n",
              "              style=\"display:none;\">\n",
              "        \n",
              "  <svg xmlns=\"http://www.w3.org/2000/svg\" height=\"24px\"viewBox=\"0 0 24 24\"\n",
              "       width=\"24px\">\n",
              "    <path d=\"M0 0h24v24H0V0z\" fill=\"none\"/>\n",
              "    <path d=\"M18.56 5.44l.94 2.06.94-2.06 2.06-.94-2.06-.94-.94-2.06-.94 2.06-2.06.94zm-11 1L8.5 8.5l.94-2.06 2.06-.94-2.06-.94L8.5 2.5l-.94 2.06-2.06.94zm10 10l.94 2.06.94-2.06 2.06-.94-2.06-.94-.94-2.06-.94 2.06-2.06.94z\"/><path d=\"M17.41 7.96l-1.37-1.37c-.4-.4-.92-.59-1.43-.59-.52 0-1.04.2-1.43.59L10.3 9.45l-7.72 7.72c-.78.78-.78 2.05 0 2.83L4 21.41c.39.39.9.59 1.41.59.51 0 1.02-.2 1.41-.59l7.78-7.78 2.81-2.81c.8-.78.8-2.07 0-2.86zM5.41 20L4 18.59l7.72-7.72 1.47 1.35L5.41 20z\"/>\n",
              "  </svg>\n",
              "      </button>\n",
              "      \n",
              "  <style>\n",
              "    .colab-df-container {\n",
              "      display:flex;\n",
              "      flex-wrap:wrap;\n",
              "      gap: 12px;\n",
              "    }\n",
              "\n",
              "    .colab-df-convert {\n",
              "      background-color: #E8F0FE;\n",
              "      border: none;\n",
              "      border-radius: 50%;\n",
              "      cursor: pointer;\n",
              "      display: none;\n",
              "      fill: #1967D2;\n",
              "      height: 32px;\n",
              "      padding: 0 0 0 0;\n",
              "      width: 32px;\n",
              "    }\n",
              "\n",
              "    .colab-df-convert:hover {\n",
              "      background-color: #E2EBFA;\n",
              "      box-shadow: 0px 1px 2px rgba(60, 64, 67, 0.3), 0px 1px 3px 1px rgba(60, 64, 67, 0.15);\n",
              "      fill: #174EA6;\n",
              "    }\n",
              "\n",
              "    [theme=dark] .colab-df-convert {\n",
              "      background-color: #3B4455;\n",
              "      fill: #D2E3FC;\n",
              "    }\n",
              "\n",
              "    [theme=dark] .colab-df-convert:hover {\n",
              "      background-color: #434B5C;\n",
              "      box-shadow: 0px 1px 3px 1px rgba(0, 0, 0, 0.15);\n",
              "      filter: drop-shadow(0px 1px 2px rgba(0, 0, 0, 0.3));\n",
              "      fill: #FFFFFF;\n",
              "    }\n",
              "  </style>\n",
              "\n",
              "      <script>\n",
              "        const buttonEl =\n",
              "          document.querySelector('#df-b7593b8f-89a8-4e51-b677-f175ce3629f7 button.colab-df-convert');\n",
              "        buttonEl.style.display =\n",
              "          google.colab.kernel.accessAllowed ? 'block' : 'none';\n",
              "\n",
              "        async function convertToInteractive(key) {\n",
              "          const element = document.querySelector('#df-b7593b8f-89a8-4e51-b677-f175ce3629f7');\n",
              "          const dataTable =\n",
              "            await google.colab.kernel.invokeFunction('convertToInteractive',\n",
              "                                                     [key], {});\n",
              "          if (!dataTable) return;\n",
              "\n",
              "          const docLinkHtml = 'Like what you see? Visit the ' +\n",
              "            '<a target=\"_blank\" href=https://colab.research.google.com/notebooks/data_table.ipynb>data table notebook</a>'\n",
              "            + ' to learn more about interactive tables.';\n",
              "          element.innerHTML = '';\n",
              "          dataTable['output_type'] = 'display_data';\n",
              "          await google.colab.output.renderOutput(dataTable, element);\n",
              "          const docLink = document.createElement('div');\n",
              "          docLink.innerHTML = docLinkHtml;\n",
              "          element.appendChild(docLink);\n",
              "        }\n",
              "      </script>\n",
              "    </div>\n",
              "  </div>\n",
              "  "
            ],
            "text/plain": [
              "                      img_name\n",
              "text_label num_label          \n",
              "EOSINOPHIL 2              2497\n",
              "LYMPHOCYTE 0              2483\n",
              "MONOCYTE   3              2478\n",
              "NEUTROPHIL 1              2499"
            ]
          },
          "execution_count": 21,
          "metadata": {},
          "output_type": "execute_result"
        }
      ],
      "source": [
        "lab = pd.DataFrame(train_labels.groupby(['text_label', 'num_label']).count())\n",
        "lab"
      ]
    },
    {
      "cell_type": "code",
      "execution_count": null,
      "metadata": {
        "id": "2MCqJ4fC82JV"
      },
      "outputs": [],
      "source": [
        "labels_dict = {\n",
        "    0: 'MONOCYTE',\n",
        "    1: 'EOSINOPHIL',\n",
        "    2: 'LYMPHOCYTE',\n",
        "    3: 'NEUTROPHIL',    \n",
        "}"
      ]
    },
    {
      "cell_type": "code",
      "execution_count": null,
      "metadata": {
        "id": "Dxrv4fIc876l"
      },
      "outputs": [],
      "source": [
        "import shutil\n",
        "\n",
        "def move_files(folder_path, folder):\n",
        "  if not os.path.exists(folder):\n",
        "    os.makedirs(folder)\n",
        "  dirnames = os.listdir(folder_path)\n",
        "  for i, dirname in enumerate(dirnames):\n",
        "    if os.path.isdir(os.path.join(folder_path, dirname)):\n",
        "      files_list = os.listdir(os.path.join(folder_path, dirname))\n",
        "      for item in files_list:\n",
        "          shutil.move(os.path.join(folder_path, dirname, item), os.path.join(folder, item))\n",
        "  print(len(os.listdir(folder)), 'files moved.')"
      ]
    },
    {
      "cell_type": "code",
      "execution_count": null,
      "metadata": {
        "colab": {
          "base_uri": "https://localhost:8080/"
        },
        "id": "OFAdeQ1v9Ahe",
        "outputId": "a16e2895-9bee-40d5-994c-b5c1e309d3e2"
      },
      "outputs": [
        {
          "name": "stdout",
          "output_type": "stream",
          "text": [
            "9893 files moved.\n"
          ]
        }
      ],
      "source": [
        "move_files(TRAIN_DIR, PROCESSED_TRAIN_DIR)\n"
      ]
    },
    {
      "cell_type": "code",
      "execution_count": null,
      "metadata": {
        "id": "I2ZtNswc-RRK"
      },
      "outputs": [],
      "source": [
        "duplicated_img_name = list(train_labels[train_labels.img_name.duplicated()]['img_name'])"
      ]
    },
    {
      "cell_type": "code",
      "execution_count": null,
      "metadata": {
        "id": "i6EAejNh-ZB4"
      },
      "outputs": [],
      "source": [
        "removed_df = train_labels[train_labels.img_name.isin(duplicated_img_name)]"
      ]
    },
    {
      "cell_type": "code",
      "execution_count": null,
      "metadata": {
        "id": "YzEWWVBp-p7o"
      },
      "outputs": [],
      "source": [
        "def clean_data(img_dir, df, df_csv, removed_img_dir, removed_file):\n",
        "  if not os.path.exists(removed_img_dir):\n",
        "    os.makedirs(removed_img_dir)\n",
        "  duplicated_img_list = list(df[df.img_name.duplicated()]['img_name'])\n",
        "  removed_df = df[df.img_name.isin(duplicated_img_list)]\n",
        "  removed_df.to_csv(removed_file)\n",
        "  print(removed_df.shape[0], 'ambigous items moved to', removed_file)\n",
        "  df.drop(index = df.index[df.img_name.isin(duplicated_img_list)], axis = 0, inplace = True)\n",
        "  df.to_csv(df_csv)\n",
        "  print('Now shape of dataframe', df.shape)\n",
        "  \n",
        "  files_list = os.listdir(img_dir)\n",
        "  for item in files_list:\n",
        "    if item in duplicated_img_list:\n",
        "      shutil.move(os.path.join(img_dir, item), os.path.join(removed_img_dir, item))\n",
        "  print(len(os.listdir(removed_img_dir)), 'moved to', removed_img_dir)"
      ]
    },
    {
      "cell_type": "code",
      "execution_count": null,
      "metadata": {
        "colab": {
          "base_uri": "https://localhost:8080/"
        },
        "id": "MJllePyg-rMy",
        "outputId": "b0e34a47-d6fb-4819-c822-415433521500"
      },
      "outputs": [
        {
          "name": "stdout",
          "output_type": "stream",
          "text": [
            "128 ambigous items moved to /content/blood-cells/removed_train.csv\n",
            "Now shape of dataframe (9829, 3)\n",
            "64 moved to /content/blood-cells/removed_train\n"
          ]
        }
      ],
      "source": [
        "clean_data(PROCESSED_TRAIN_DIR, train_labels, TRAIN_CSV, PROCESSED_DATA_DIR + '/removed_train', PROCESSED_DATA_DIR + '/removed_train.csv')"
      ]
    },
    {
      "cell_type": "code",
      "execution_count": null,
      "metadata": {
        "id": "XSnEI1oX-y3H"
      },
      "outputs": [],
      "source": [
        "assert(len(os.listdir(PROCESSED_TRAIN_DIR)) == train_labels.shape[0])"
      ]
    },
    {
      "cell_type": "code",
      "execution_count": null,
      "metadata": {
        "colab": {
          "base_uri": "https://localhost:8080/"
        },
        "id": "Iw4JtIwH-2Yp",
        "outputId": "fef22139-0d28-48b6-8f09-357e239c4cac"
      },
      "outputs": [
        {
          "name": "stdout",
          "output_type": "stream",
          "text": [
            "2476 files moved.\n"
          ]
        }
      ],
      "source": [
        "move_files(TEST_DIR, PROCESSED_TEST_DIR)"
      ]
    },
    {
      "cell_type": "code",
      "execution_count": null,
      "metadata": {
        "id": "mvWCEJ_7-6zC"
      },
      "outputs": [],
      "source": [
        "duplicated_test_img_name = test_labels[test_labels.img_name.duplicated()]['img_name']\n"
      ]
    },
    {
      "cell_type": "code",
      "execution_count": null,
      "metadata": {
        "colab": {
          "base_uri": "https://localhost:8080/"
        },
        "id": "luaCUnbB--HH",
        "outputId": "d6cf475b-aa02-4b3d-969b-84a8c867754c"
      },
      "outputs": [
        {
          "name": "stdout",
          "output_type": "stream",
          "text": [
            "22 ambigous items moved to /content/blood-cells/removed_test.csv\n",
            "Now shape of dataframe (2465, 3)\n",
            "11 moved to /content/blood-cells/removed_test\n"
          ]
        }
      ],
      "source": [
        "clean_data(PROCESSED_TEST_DIR, test_labels, TEST_CSV, PROCESSED_DATA_DIR + '/removed_test', PROCESSED_DATA_DIR + '/removed_test.csv')"
      ]
    },
    {
      "cell_type": "code",
      "execution_count": null,
      "metadata": {
        "id": "fen4Kopt_D1u"
      },
      "outputs": [],
      "source": [
        "assert(len(os.listdir(PROCESSED_TEST_DIR)) == test_labels.shape[0])"
      ]
    },
    {
      "cell_type": "code",
      "execution_count": null,
      "metadata": {
        "id": "WQUvbSJE_Ge2"
      },
      "outputs": [],
      "source": [
        "def encode_label(label):\n",
        "    target = torch.zeros(4)\n",
        "    target[int(label)] = 1.\n",
        "    return target\n",
        "\n",
        "def decode_target(target, text_labels=False):\n",
        "    result = []\n",
        "    i = np.argmax(target.numpy())\n",
        "    if text_labels:\n",
        "        result.append(labels_dict[i] + \"(\" + str(i) + \")\")\n",
        "    else:\n",
        "        result.append(str(i))\n",
        "    return ' '.join(result)"
      ]
    },
    {
      "cell_type": "code",
      "execution_count": null,
      "metadata": {
        "id": "9FHIc0g-_N42"
      },
      "outputs": [],
      "source": [
        "class HumanBloodCellDataset(Dataset):\n",
        "    def __init__(self, csv_file, root_dir, transform=None):\n",
        "        self.df = pd.read_csv(csv_file)\n",
        "        self.transform = transform\n",
        "        self.root_dir = root_dir\n",
        "        \n",
        "    def __len__(self):\n",
        "        return len(self.df)    \n",
        "    \n",
        "    def __getitem__(self, idx):\n",
        "        row = self.df.loc[idx]\n",
        "        img_name, img_label = row['img_name'], row['num_label']\n",
        "        img_fname = self.root_dir + \"/\" + str(img_name)\n",
        "        img = Image.open(img_fname)\n",
        "        if self.transform:\n",
        "            img = self.transform(img)\n",
        "        return img, encode_label(img_label) "
      ]
    },
    {
      "cell_type": "code",
      "execution_count": null,
      "metadata": {
        "id": "EtrOA_Eq_iLK"
      },
      "outputs": [],
      "source": [
        "transform = transforms.Compose([transforms.ToTensor()])\n",
        "dataset = HumanBloodCellDataset(TRAIN_CSV, PROCESSED_TRAIN_DIR, transform=transform)"
      ]
    },
    {
      "cell_type": "code",
      "execution_count": null,
      "metadata": {
        "id": "306bM8Arw_a2"
      },
      "outputs": [],
      "source": [
        ""
      ]
    },
    {
      "cell_type": "code",
      "execution_count": null,
      "metadata": {
        "id": "LBDhiOdo_Rvc"
      },
      "outputs": [],
      "source": [
        "dataset = HumanBloodCellDataset(TRAIN_CSV, PROCESSED_TRAIN_DIR, transform=transform)"
      ]
    },
    {
      "cell_type": "code",
      "execution_count": null,
      "metadata": {
        "id": "hUCHU8T1xAQV"
      },
      "outputs": [],
      "source": [
        "class HumanBloodCellDataset2(Dataset):\n",
        "    def __init__(self, csv_file, root_dir, transform=None):\n",
        "        self.df = pd.read_csv(csv_file)\n",
        "        self.transform = transform\n",
        "        self.root_dir = root_dir\n",
        "        \n",
        "    def __len__(self):\n",
        "        return len(self.df)    \n",
        "    \n",
        "    def __getitem__(self, idx):\n",
        "        row = self.df.loc[idx]\n",
        "        img_name, img_label = row['img_name'], row['num_label']\n",
        "        img_fname = self.root_dir + \"/\" + str(img_name)\n",
        "        img = Image.open(img_fname)\n",
        "        if self.transform:\n",
        "            img = self.transform(img)\n",
        "        return img,int(img_label)"
      ]
    },
    {
      "cell_type": "code",
      "execution_count": null,
      "metadata": {
        "id": "YrsgmWi9xJ5i"
      },
      "outputs": [],
      "source": [
        "dataset2 = HumanBloodCellDataset2(TRAIN_CSV, PROCESSED_TRAIN_DIR, transform=transform)"
      ]
    },
    {
      "cell_type": "code",
      "execution_count": null,
      "metadata": {
        "id": "YciFUU-q_ozn"
      },
      "outputs": [],
      "source": [
        "def show_sample(img, target, invert=False):\n",
        "    if invert:\n",
        "        plt.imshow(1 - img.permute((1, 2, 0)))\n",
        "    else:\n",
        "        plt.imshow(img.permute(1, 2, 0))\n",
        "    print('Labels:', decode_target(target, text_labels=True))"
      ]
    },
    {
      "cell_type": "code",
      "execution_count": null,
      "metadata": {
        "colab": {
          "base_uri": "https://localhost:8080/",
          "height": 286
        },
        "id": "jdA9-wRL_rui",
        "outputId": "27628250-21bd-46bd-eade-04b14bd6ced1"
      },
      "outputs": [
        {
          "name": "stdout",
          "output_type": "stream",
          "text": [
            "Labels: MONOCYTE(0)\n"
          ]
        },
        {
          "data": {
            "image/png": "[encoded data removed]",
            "text/plain": [
              "<Figure size 432x288 with 1 Axes>"
            ]
          },
          "metadata": {},
          "output_type": "display_data"
        }
      ],
      "source": [
        "show_sample(*dataset[0], invert=False)"
      ]
    },
    {
      "cell_type": "code",
      "execution_count": null,
      "metadata": {
        "colab": {
          "base_uri": "https://localhost:8080/"
        },
        "id": "_NPOCb9d_w7N",
        "outputId": "7872b32a-caa3-4730-acfe-c0fd1c4a321e"
      },
      "outputs": [
        {
          "data": {
            "text/plain": [
              "<torch._C.Generator at 0x7f0c500f9670>"
            ]
          },
          "execution_count": 42,
          "metadata": {},
          "output_type": "execute_result"
        }
      ],
      "source": [
        "torch.manual_seed(10)"
      ]
    },
    {
      "cell_type": "code",
      "execution_count": null,
      "metadata": {
        "id": "Kpa7hKBH_2Fy"
      },
      "outputs": [],
      "source": [
        "val_pct = 0.1\n",
        "val_size = int(val_pct * len(dataset))\n",
        "train_size = len(dataset) - val_size"
      ]
    },
    {
      "cell_type": "code",
      "execution_count": null,
      "metadata": {
        "colab": {
          "base_uri": "https://localhost:8080/"
        },
        "id": "VGLHQbIo_7H1",
        "outputId": "c72a758f-f1fe-42c7-ca45-a0336554ebe8"
      },
      "outputs": [
        {
          "data": {
            "text/plain": [
              "(8847, 982)"
            ]
          },
          "execution_count": 44,
          "metadata": {},
          "output_type": "execute_result"
        }
      ],
      "source": [
        "train_ds, val_ds = random_split(dataset, [train_size, val_size])\n",
        "len(train_ds), len(val_ds)"
      ]
    },
    {
      "cell_type": "code",
      "execution_count": null,
      "metadata": {
        "colab": {
          "base_uri": "https://localhost:8080/"
        },
        "id": "enDPnWzKxSng",
        "outputId": "178212c3-e3cb-484a-f7aa-a7f278036cc2"
      },
      "outputs": [
        {
          "data": {
            "text/plain": [
              "(8847, 982)"
            ]
          },
          "execution_count": 48,
          "metadata": {},
          "output_type": "execute_result"
        }
      ],
      "source": [
        "train_ds2, val_ds2 = random_split(dataset2, [train_size, val_size])\n",
        "len(train_ds2), len(val_ds2)"
      ]
    },
    {
      "cell_type": "code",
      "execution_count": null,
      "metadata": {
        "id": "vJpQEdkU_-Jk"
      },
      "outputs": [],
      "source": [
        "batch_size = 64"
      ]
    },
    {
      "cell_type": "code",
      "execution_count": null,
      "metadata": {
        "id": "_5Kg4YiSAB0f"
      },
      "outputs": [],
      "source": [
        "train_dl = DataLoader(train_ds, batch_size, shuffle=True, num_workers=2, pin_memory=True)\n",
        "val_dl = DataLoader(val_ds, batch_size*2, num_workers=2, pin_memory=True)"
      ]
    },
    {
      "cell_type": "code",
      "execution_count": null,
      "metadata": {
        "id": "Aa_rXXevqjpj"
      },
      "outputs": [],
      "source": [
        "import numpy as np\n",
        "import torch\n",
        "import pandas as pd\n",
        "import matplotlib.pyplot as plt\n",
        "import torchvision\n",
        "from torchvision import transforms\n",
        "import random\n",
        "from torch import nn\n",
        "from sklearn import svm\n",
        "train_on_gpu = torch.cuda.is_available()\n",
        "!pip install torchinfo -q\n",
        "import torchvision.models as models\n",
        "from torchinfo import summary\n",
        "import torch.optim as optim\n",
        "from torch.utils.data import DataLoader\n",
        "from sklearn import svm\n",
        "import matplotlib.pyplot as plt"
      ]
    },
    {
      "cell_type": "code",
      "execution_count": null,
      "metadata": {
        "colab": {
          "base_uri": "https://localhost:8080/",
          "height": 66,
          "referenced_widgets": [
            "80e7b472a88240e7a50a1b8b3a34a0b1",
            "d89482eb5e8c4792be0ced708bd782d4",
            "505b163bd0c54a7cb93acbacc523e536",
            "c063ce77acec4d99ad85713296e0d0a2",
            "6b04a3cb7da34803810de2613f45d2bd",
            "86c847799bb94080ba0a35f4c1efc7c8",
            "95ce8a88f5c04e10974b90b87f558efe",
            "870d0b9106ae4d95acc73c354251cd09",
            "d9a794cd5ddc46bd9ec38f50000b8fec",
            "b405e76530b4428da912f28d07951c10",
            "8cf98d04042545499bf4d9a1baa88dd2"
          ]
        },
        "id": "ikBY5JP7A4uP",
        "outputId": "c55d8355-5b90-4610-97d7-b2120b3193a1"
      },
      "outputs": [
        {
          "name": "stderr",
          "output_type": "stream",
          "text": [
            "Downloading: \"https://download.pytorch.org/models/resnet50-0676ba61.pth\" to /root/.cache/torch/hub/checkpoints/resnet50-0676ba61.pth\n"
          ]
        },
        {
          "data": {
            "application/vnd.jupyter.widget-view+json": {
              "model_id": "80e7b472a88240e7a50a1b8b3a34a0b1",
              "version_major": 2,
              "version_minor": 0
            },
            "text/plain": [
              "  0%|          | 0.00/97.8M [00:00<?, ?B/s]"
            ]
          },
          "metadata": {},
          "output_type": "display_data"
        }
      ],
      "source": [
        "trained_resnet_model = models.resnet50(pretrained=True)"
      ]
    },
    {
      "cell_type": "code",
      "execution_count": null,
      "metadata": {
        "colab": {
          "base_uri": "https://localhost:8080/"
        },
        "id": "8DNwXrZLqfoU",
        "outputId": "364b1c0e-eff4-4d81-c98c-812ea43dabd6"
      },
      "outputs": [
        {
          "data": {
            "text/plain": [
              "==========================================================================================\n",
              "Layer (type:depth-idx)                   Output Shape              Param #\n",
              "==========================================================================================\n",
              "ResNet                                   --                        --\n",
              "├─Conv2d: 1-1                            [1, 64, 120, 160]         9,408\n",
              "├─BatchNorm2d: 1-2                       [1, 64, 120, 160]         128\n",
              "├─ReLU: 1-3                              [1, 64, 120, 160]         --\n",
              "├─MaxPool2d: 1-4                         [1, 64, 60, 80]           --\n",
              "├─Sequential: 1-5                        [1, 256, 60, 80]          --\n",
              "│    └─Bottleneck: 2-1                   [1, 256, 60, 80]          --\n",
              "│    │    └─Conv2d: 3-1                  [1, 64, 60, 80]           4,096\n",
              "│    │    └─BatchNorm2d: 3-2             [1, 64, 60, 80]           128\n",
              "│    │    └─ReLU: 3-3                    [1, 64, 60, 80]           --\n",
              "│    │    └─Conv2d: 3-4                  [1, 64, 60, 80]           36,864\n",
              "│    │    └─BatchNorm2d: 3-5             [1, 64, 60, 80]           128\n",
              "│    │    └─ReLU: 3-6                    [1, 64, 60, 80]           --\n",
              "│    │    └─Conv2d: 3-7                  [1, 256, 60, 80]          16,384\n",
              "│    │    └─BatchNorm2d: 3-8             [1, 256, 60, 80]          512\n",
              "│    │    └─Sequential: 3-9              [1, 256, 60, 80]          16,896\n",
              "│    │    └─ReLU: 3-10                   [1, 256, 60, 80]          --\n",
              "│    └─Bottleneck: 2-2                   [1, 256, 60, 80]          --\n",
              "│    │    └─Conv2d: 3-11                 [1, 64, 60, 80]           16,384\n",
              "│    │    └─BatchNorm2d: 3-12            [1, 64, 60, 80]           128\n",
              "│    │    └─ReLU: 3-13                   [1, 64, 60, 80]           --\n",
              "│    │    └─Conv2d: 3-14                 [1, 64, 60, 80]           36,864\n",
              "│    │    └─BatchNorm2d: 3-15            [1, 64, 60, 80]           128\n",
              "│    │    └─ReLU: 3-16                   [1, 64, 60, 80]           --\n",
              "│    │    └─Conv2d: 3-17                 [1, 256, 60, 80]          16,384\n",
              "│    │    └─BatchNorm2d: 3-18            [1, 256, 60, 80]          512\n",
              "│    │    └─ReLU: 3-19                   [1, 256, 60, 80]          --\n",
              "│    └─Bottleneck: 2-3                   [1, 256, 60, 80]          --\n",
              "│    │    └─Conv2d: 3-20                 [1, 64, 60, 80]           16,384\n",
              "│    │    └─BatchNorm2d: 3-21            [1, 64, 60, 80]           128\n",
              "│    │    └─ReLU: 3-22                   [1, 64, 60, 80]           --\n",
              "│    │    └─Conv2d: 3-23                 [1, 64, 60, 80]           36,864\n",
              "│    │    └─BatchNorm2d: 3-24            [1, 64, 60, 80]           128\n",
              "│    │    └─ReLU: 3-25                   [1, 64, 60, 80]           --\n",
              "│    │    └─Conv2d: 3-26                 [1, 256, 60, 80]          16,384\n",
              "│    │    └─BatchNorm2d: 3-27            [1, 256, 60, 80]          512\n",
              "│    │    └─ReLU: 3-28                   [1, 256, 60, 80]          --\n",
              "├─Sequential: 1-6                        [1, 512, 30, 40]          --\n",
              "│    └─Bottleneck: 2-4                   [1, 512, 30, 40]          --\n",
              "│    │    └─Conv2d: 3-29                 [1, 128, 60, 80]          32,768\n",
              "│    │    └─BatchNorm2d: 3-30            [1, 128, 60, 80]          256\n",
              "│    │    └─ReLU: 3-31                   [1, 128, 60, 80]          --\n",
              "│    │    └─Conv2d: 3-32                 [1, 128, 30, 40]          147,456\n",
              "│    │    └─BatchNorm2d: 3-33            [1, 128, 30, 40]          256\n",
              "│    │    └─ReLU: 3-34                   [1, 128, 30, 40]          --\n",
              "│    │    └─Conv2d: 3-35                 [1, 512, 30, 40]          65,536\n",
              "│    │    └─BatchNorm2d: 3-36            [1, 512, 30, 40]          1,024\n",
              "│    │    └─Sequential: 3-37             [1, 512, 30, 40]          132,096\n",
              "│    │    └─ReLU: 3-38                   [1, 512, 30, 40]          --\n",
              "│    └─Bottleneck: 2-5                   [1, 512, 30, 40]          --\n",
              "│    │    └─Conv2d: 3-39                 [1, 128, 30, 40]          65,536\n",
              "│    │    └─BatchNorm2d: 3-40            [1, 128, 30, 40]          256\n",
              "│    │    └─ReLU: 3-41                   [1, 128, 30, 40]          --\n",
              "│    │    └─Conv2d: 3-42                 [1, 128, 30, 40]          147,456\n",
              "│    │    └─BatchNorm2d: 3-43            [1, 128, 30, 40]          256\n",
              "│    │    └─ReLU: 3-44                   [1, 128, 30, 40]          --\n",
              "│    │    └─Conv2d: 3-45                 [1, 512, 30, 40]          65,536\n",
              "│    │    └─BatchNorm2d: 3-46            [1, 512, 30, 40]          1,024\n",
              "│    │    └─ReLU: 3-47                   [1, 512, 30, 40]          --\n",
              "│    └─Bottleneck: 2-6                   [1, 512, 30, 40]          --\n",
              "│    │    └─Conv2d: 3-48                 [1, 128, 30, 40]          65,536\n",
              "│    │    └─BatchNorm2d: 3-49            [1, 128, 30, 40]          256\n",
              "│    │    └─ReLU: 3-50                   [1, 128, 30, 40]          --\n",
              "│    │    └─Conv2d: 3-51                 [1, 128, 30, 40]          147,456\n",
              "│    │    └─BatchNorm2d: 3-52            [1, 128, 30, 40]          256\n",
              "│    │    └─ReLU: 3-53                   [1, 128, 30, 40]          --\n",
              "│    │    └─Conv2d: 3-54                 [1, 512, 30, 40]          65,536\n",
              "│    │    └─BatchNorm2d: 3-55            [1, 512, 30, 40]          1,024\n",
              "│    │    └─ReLU: 3-56                   [1, 512, 30, 40]          --\n",
              "│    └─Bottleneck: 2-7                   [1, 512, 30, 40]          --\n",
              "│    │    └─Conv2d: 3-57                 [1, 128, 30, 40]          65,536\n",
              "│    │    └─BatchNorm2d: 3-58            [1, 128, 30, 40]          256\n",
              "│    │    └─ReLU: 3-59                   [1, 128, 30, 40]          --\n",
              "│    │    └─Conv2d: 3-60                 [1, 128, 30, 40]          147,456\n",
              "│    │    └─BatchNorm2d: 3-61            [1, 128, 30, 40]          256\n",
              "│    │    └─ReLU: 3-62                   [1, 128, 30, 40]          --\n",
              "│    │    └─Conv2d: 3-63                 [1, 512, 30, 40]          65,536\n",
              "│    │    └─BatchNorm2d: 3-64            [1, 512, 30, 40]          1,024\n",
              "│    │    └─ReLU: 3-65                   [1, 512, 30, 40]          --\n",
              "├─Sequential: 1-7                        [1, 1024, 15, 20]         --\n",
              "│    └─Bottleneck: 2-8                   [1, 1024, 15, 20]         --\n",
              "│    │    └─Conv2d: 3-66                 [1, 256, 30, 40]          131,072\n",
              "│    │    └─BatchNorm2d: 3-67            [1, 256, 30, 40]          512\n",
              "│    │    └─ReLU: 3-68                   [1, 256, 30, 40]          --\n",
              "│    │    └─Conv2d: 3-69                 [1, 256, 15, 20]          589,824\n",
              "│    │    └─BatchNorm2d: 3-70            [1, 256, 15, 20]          512\n",
              "│    │    └─ReLU: 3-71                   [1, 256, 15, 20]          --\n",
              "│    │    └─Conv2d: 3-72                 [1, 1024, 15, 20]         262,144\n",
              "│    │    └─BatchNorm2d: 3-73            [1, 1024, 15, 20]         2,048\n",
              "│    │    └─Sequential: 3-74             [1, 1024, 15, 20]         526,336\n",
              "│    │    └─ReLU: 3-75                   [1, 1024, 15, 20]         --\n",
              "│    └─Bottleneck: 2-9                   [1, 1024, 15, 20]         --\n",
              "│    │    └─Conv2d: 3-76                 [1, 256, 15, 20]          262,144\n",
              "│    │    └─BatchNorm2d: 3-77            [1, 256, 15, 20]          512\n",
              "│    │    └─ReLU: 3-78                   [1, 256, 15, 20]          --\n",
              "│    │    └─Conv2d: 3-79                 [1, 256, 15, 20]          589,824\n",
              "│    │    └─BatchNorm2d: 3-80            [1, 256, 15, 20]          512\n",
              "│    │    └─ReLU: 3-81                   [1, 256, 15, 20]          --\n",
              "│    │    └─Conv2d: 3-82                 [1, 1024, 15, 20]         262,144\n",
              "│    │    └─BatchNorm2d: 3-83            [1, 1024, 15, 20]         2,048\n",
              "│    │    └─ReLU: 3-84                   [1, 1024, 15, 20]         --\n",
              "│    └─Bottleneck: 2-10                  [1, 1024, 15, 20]         --\n",
              "│    │    └─Conv2d: 3-85                 [1, 256, 15, 20]          262,144\n",
              "│    │    └─BatchNorm2d: 3-86            [1, 256, 15, 20]          512\n",
              "│    │    └─ReLU: 3-87                   [1, 256, 15, 20]          --\n",
              "│    │    └─Conv2d: 3-88                 [1, 256, 15, 20]          589,824\n",
              "│    │    └─BatchNorm2d: 3-89            [1, 256, 15, 20]          512\n",
              "│    │    └─ReLU: 3-90                   [1, 256, 15, 20]          --\n",
              "│    │    └─Conv2d: 3-91                 [1, 1024, 15, 20]         262,144\n",
              "│    │    └─BatchNorm2d: 3-92            [1, 1024, 15, 20]         2,048\n",
              "│    │    └─ReLU: 3-93                   [1, 1024, 15, 20]         --\n",
              "│    └─Bottleneck: 2-11                  [1, 1024, 15, 20]         --\n",
              "│    │    └─Conv2d: 3-94                 [1, 256, 15, 20]          262,144\n",
              "│    │    └─BatchNorm2d: 3-95            [1, 256, 15, 20]          512\n",
              "│    │    └─ReLU: 3-96                   [1, 256, 15, 20]          --\n",
              "│    │    └─Conv2d: 3-97                 [1, 256, 15, 20]          589,824\n",
              "│    │    └─BatchNorm2d: 3-98            [1, 256, 15, 20]          512\n",
              "│    │    └─ReLU: 3-99                   [1, 256, 15, 20]          --\n",
              "│    │    └─Conv2d: 3-100                [1, 1024, 15, 20]         262,144\n",
              "│    │    └─BatchNorm2d: 3-101           [1, 1024, 15, 20]         2,048\n",
              "│    │    └─ReLU: 3-102                  [1, 1024, 15, 20]         --\n",
              "│    └─Bottleneck: 2-12                  [1, 1024, 15, 20]         --\n",
              "│    │    └─Conv2d: 3-103                [1, 256, 15, 20]          262,144\n",
              "│    │    └─BatchNorm2d: 3-104           [1, 256, 15, 20]          512\n",
              "│    │    └─ReLU: 3-105                  [1, 256, 15, 20]          --\n",
              "│    │    └─Conv2d: 3-106                [1, 256, 15, 20]          589,824\n",
              "│    │    └─BatchNorm2d: 3-107           [1, 256, 15, 20]          512\n",
              "│    │    └─ReLU: 3-108                  [1, 256, 15, 20]          --\n",
              "│    │    └─Conv2d: 3-109                [1, 1024, 15, 20]         262,144\n",
              "│    │    └─BatchNorm2d: 3-110           [1, 1024, 15, 20]         2,048\n",
              "│    │    └─ReLU: 3-111                  [1, 1024, 15, 20]         --\n",
              "│    └─Bottleneck: 2-13                  [1, 1024, 15, 20]         --\n",
              "│    │    └─Conv2d: 3-112                [1, 256, 15, 20]          262,144\n",
              "│    │    └─BatchNorm2d: 3-113           [1, 256, 15, 20]          512\n",
              "│    │    └─ReLU: 3-114                  [1, 256, 15, 20]          --\n",
              "│    │    └─Conv2d: 3-115                [1, 256, 15, 20]          589,824\n",
              "│    │    └─BatchNorm2d: 3-116           [1, 256, 15, 20]          512\n",
              "│    │    └─ReLU: 3-117                  [1, 256, 15, 20]          --\n",
              "│    │    └─Conv2d: 3-118                [1, 1024, 15, 20]         262,144\n",
              "│    │    └─BatchNorm2d: 3-119           [1, 1024, 15, 20]         2,048\n",
              "│    │    └─ReLU: 3-120                  [1, 1024, 15, 20]         --\n",
              "├─Sequential: 1-8                        [1, 2048, 8, 10]          --\n",
              "│    └─Bottleneck: 2-14                  [1, 2048, 8, 10]          --\n",
              "│    │    └─Conv2d: 3-121                [1, 512, 15, 20]          524,288\n",
              "│    │    └─BatchNorm2d: 3-122           [1, 512, 15, 20]          1,024\n",
              "│    │    └─ReLU: 3-123                  [1, 512, 15, 20]          --\n",
              "│    │    └─Conv2d: 3-124                [1, 512, 8, 10]           2,359,296\n",
              "│    │    └─BatchNorm2d: 3-125           [1, 512, 8, 10]           1,024\n",
              "│    │    └─ReLU: 3-126                  [1, 512, 8, 10]           --\n",
              "│    │    └─Conv2d: 3-127                [1, 2048, 8, 10]          1,048,576\n",
              "│    │    └─BatchNorm2d: 3-128           [1, 2048, 8, 10]          4,096\n",
              "│    │    └─Sequential: 3-129            [1, 2048, 8, 10]          2,101,248\n",
              "│    │    └─ReLU: 3-130                  [1, 2048, 8, 10]          --\n",
              "│    └─Bottleneck: 2-15                  [1, 2048, 8, 10]          --\n",
              "│    │    └─Conv2d: 3-131                [1, 512, 8, 10]           1,048,576\n",
              "│    │    └─BatchNorm2d: 3-132           [1, 512, 8, 10]           1,024\n",
              "│    │    └─ReLU: 3-133                  [1, 512, 8, 10]           --\n",
              "│    │    └─Conv2d: 3-134                [1, 512, 8, 10]           2,359,296\n",
              "│    │    └─BatchNorm2d: 3-135           [1, 512, 8, 10]           1,024\n",
              "│    │    └─ReLU: 3-136                  [1, 512, 8, 10]           --\n",
              "│    │    └─Conv2d: 3-137                [1, 2048, 8, 10]          1,048,576\n",
              "│    │    └─BatchNorm2d: 3-138           [1, 2048, 8, 10]          4,096\n",
              "│    │    └─ReLU: 3-139                  [1, 2048, 8, 10]          --\n",
              "│    └─Bottleneck: 2-16                  [1, 2048, 8, 10]          --\n",
              "│    │    └─Conv2d: 3-140                [1, 512, 8, 10]           1,048,576\n",
              "│    │    └─BatchNorm2d: 3-141           [1, 512, 8, 10]           1,024\n",
              "│    │    └─ReLU: 3-142                  [1, 512, 8, 10]           --\n",
              "│    │    └─Conv2d: 3-143                [1, 512, 8, 10]           2,359,296\n",
              "│    │    └─BatchNorm2d: 3-144           [1, 512, 8, 10]           1,024\n",
              "│    │    └─ReLU: 3-145                  [1, 512, 8, 10]           --\n",
              "│    │    └─Conv2d: 3-146                [1, 2048, 8, 10]          1,048,576\n",
              "│    │    └─BatchNorm2d: 3-147           [1, 2048, 8, 10]          4,096\n",
              "│    │    └─ReLU: 3-148                  [1, 2048, 8, 10]          --\n",
              "├─AdaptiveAvgPool2d: 1-9                 [1, 2048, 1, 1]           --\n",
              "├─Linear: 1-10                           [1, 1000]                 2,049,000\n",
              "==========================================================================================\n",
              "Total params: 25,557,032\n",
              "Trainable params: 25,557,032\n",
              "Non-trainable params: 0\n",
              "Total mult-adds (G): 6.33\n",
              "==========================================================================================\n",
              "Input size (MB): 0.92\n",
              "Forward/backward pass size (MB): 273.05\n",
              "Params size (MB): 102.23\n",
              "Estimated Total Size (MB): 376.20\n",
              "=========================================================================================="
            ]
          },
          "execution_count": 52,
          "metadata": {},
          "output_type": "execute_result"
        }
      ],
      "source": [
        "summary(trained_resnet_model,input_size=(1,3,240,320))"
      ]
    },
    {
      "cell_type": "code",
      "execution_count": null,
      "metadata": {
        "id": "gjeRVI9arfVI"
      },
      "outputs": [],
      "source": [
        "kwargs = {\n",
        "    'batch_size':64,\n",
        "    'num_workers' : 4, \n",
        "    'pin_memory' : True,\n",
        "}"
      ]
    },
    {
      "cell_type": "code",
      "execution_count": null,
      "metadata": {
        "id": "cS-ZWY-Er1Dk"
      },
      "outputs": [],
      "source": [
        "train_features=[]\n",
        "train_labels=[]\n",
        "test_features=[]\n",
        "test_labels=[]"
      ]
    },
    {
      "cell_type": "code",
      "execution_count": null,
      "metadata": {
        "id": "THO9Ma-UsCVo"
      },
      "outputs": [],
      "source": [
        "for data in train_dl:\n",
        "  image, label = data\n",
        "  image = image.cuda()\n",
        "  with torch.no_grad():\n",
        "    x = trained_resnet_model(image)\n",
        "\n",
        "    train_features.extend(x.cpu().detach().tolist())\n",
        "    train_labels.extend(label.tolist())"
      ]
    },
    {
      "cell_type": "code",
      "execution_count": null,
      "metadata": {
        "id": "XoZJDFcksTGf"
      },
      "outputs": [],
      "source": [
        "for data in val_dl :\n",
        "  image, label = data\n",
        "  image = image.cuda()\n",
        "  with torch.no_grad():\n",
        "    x = trained_resnet_model(image)\n",
        "\n",
        "    test_features.extend(x.cpu().detach().tolist())\n",
        "    test_labels.extend(label.tolist())"
      ]
    },
    {
      "cell_type": "code",
      "execution_count": null,
      "metadata": {
        "id": "zOMaInPyuGD_"
      },
      "outputs": [],
      "source": [
        "train_labels_real=[]\n",
        "test_labels_real=[]\n",
        "for i in train_labels:\n",
        "  train_labels_real.append(i.index(max(i)))\n"
      ]
    },
    {
      "cell_type": "code",
      "execution_count": null,
      "metadata": {
        "id": "6z8npCTPxHYn"
      },
      "outputs": [],
      "source": [
        "for i in test_labels:\n",
        "  test_labels_real.append(i.index(max(i)))"
      ]
    },
    {
      "cell_type": "markdown",
      "metadata": {
        "id": "jd4Ws7-kfs5S"
      },
      "source": [
        ""
      ]
    },
    {
      "cell_type": "code",
      "execution_count": null,
      "metadata": {
        "colab": {
          "base_uri": "https://localhost:8080/"
        },
        "id": "cjpkxrwofdMj",
        "outputId": "c64bc043-d4df-4f28-cb6a-afaeb843285e"
      },
      "outputs": [
        {
          "data": {
            "text/plain": [
              "[[0.0, 0.0, 1.0, 0.0],\n",
              " [0.0, 0.0, 0.0, 1.0],\n",
              " [1.0, 0.0, 0.0, 0.0],\n",
              " [1.0, 0.0, 0.0, 0.0],\n",
              " [0.0, 1.0, 0.0, 0.0],\n",
              " [1.0, 0.0, 0.0, 0.0],\n",
              " [0.0, 1.0, 0.0, 0.0],\n",
              " [1.0, 0.0, 0.0, 0.0],\n",
              " [0.0, 0.0, 0.0, 1.0],\n",
              " [0.0, 1.0, 0.0, 0.0],\n",
              " [0.0, 0.0, 0.0, 1.0],\n",
              " [0.0, 0.0, 1.0, 0.0],\n",
              " [0.0, 0.0, 1.0, 0.0],\n",
              " [0.0, 0.0, 0.0, 1.0],\n",
              " [0.0, 1.0, 0.0, 0.0],\n",
              " [0.0, 1.0, 0.0, 0.0],\n",
              " [0.0, 0.0, 0.0, 1.0],\n",
              " [0.0, 0.0, 1.0, 0.0],\n",
              " [0.0, 0.0, 0.0, 1.0],\n",
              " [0.0, 1.0, 0.0, 0.0],\n",
              " [0.0, 0.0, 1.0, 0.0],\n",
              " [1.0, 0.0, 0.0, 0.0],\n",
              " [0.0, 0.0, 1.0, 0.0],\n",
              " [0.0, 1.0, 0.0, 0.0],\n",
              " [0.0, 0.0, 1.0, 0.0],\n",
              " [0.0, 1.0, 0.0, 0.0],\n",
              " [0.0, 1.0, 0.0, 0.0],\n",
              " [0.0, 0.0, 0.0, 1.0],\n",
              " [0.0, 1.0, 0.0, 0.0],\n",
              " [0.0, 1.0, 0.0, 0.0],\n",
              " [0.0, 1.0, 0.0, 0.0],\n",
              " [0.0, 0.0, 1.0, 0.0],\n",
              " [0.0, 0.0, 0.0, 1.0],\n",
              " [0.0, 1.0, 0.0, 0.0],\n",
              " [0.0, 0.0, 1.0, 0.0],\n",
              " [0.0, 0.0, 0.0, 1.0],\n",
              " [0.0, 1.0, 0.0, 0.0],\n",
              " [1.0, 0.0, 0.0, 0.0],\n",
              " [1.0, 0.0, 0.0, 0.0],\n",
              " [0.0, 0.0, 0.0, 1.0],\n",
              " [0.0, 0.0, 0.0, 1.0],\n",
              " [0.0, 1.0, 0.0, 0.0],\n",
              " [0.0, 1.0, 0.0, 0.0],\n",
              " [0.0, 1.0, 0.0, 0.0],\n",
              " [0.0, 1.0, 0.0, 0.0],\n",
              " [0.0, 0.0, 1.0, 0.0],\n",
              " [0.0, 0.0, 1.0, 0.0],\n",
              " [0.0, 0.0, 0.0, 1.0],\n",
              " [0.0, 1.0, 0.0, 0.0],\n",
              " [0.0, 1.0, 0.0, 0.0],\n",
              " [0.0, 0.0, 0.0, 1.0],\n",
              " [0.0, 1.0, 0.0, 0.0],\n",
              " [0.0, 0.0, 1.0, 0.0],\n",
              " [1.0, 0.0, 0.0, 0.0],\n",
              " [0.0, 1.0, 0.0, 0.0],\n",
              " [0.0, 0.0, 1.0, 0.0],\n",
              " [0.0, 1.0, 0.0, 0.0],\n",
              " [0.0, 0.0, 1.0, 0.0],\n",
              " [0.0, 1.0, 0.0, 0.0],\n",
              " [0.0, 0.0, 0.0, 1.0],\n",
              " [0.0, 1.0, 0.0, 0.0],\n",
              " [0.0, 0.0, 0.0, 1.0],\n",
              " [0.0, 1.0, 0.0, 0.0],\n",
              " [0.0, 0.0, 1.0, 0.0],\n",
              " [1.0, 0.0, 0.0, 0.0],\n",
              " [0.0, 0.0, 1.0, 0.0],\n",
              " [0.0, 1.0, 0.0, 0.0],\n",
              " [0.0, 1.0, 0.0, 0.0],\n",
              " [0.0, 0.0, 1.0, 0.0],\n",
              " [0.0, 0.0, 1.0, 0.0],\n",
              " [0.0, 1.0, 0.0, 0.0],\n",
              " [0.0, 1.0, 0.0, 0.0],\n",
              " [0.0, 0.0, 1.0, 0.0],\n",
              " [0.0, 1.0, 0.0, 0.0],\n",
              " [0.0, 1.0, 0.0, 0.0],\n",
              " [1.0, 0.0, 0.0, 0.0],\n",
              " [0.0, 1.0, 0.0, 0.0],\n",
              " [0.0, 0.0, 0.0, 1.0],\n",
              " [0.0, 0.0, 0.0, 1.0],\n",
              " [0.0, 0.0, 1.0, 0.0],\n",
              " [1.0, 0.0, 0.0, 0.0],\n",
              " [0.0, 0.0, 0.0, 1.0],\n",
              " [0.0, 1.0, 0.0, 0.0],\n",
              " [0.0, 0.0, 1.0, 0.0],\n",
              " [0.0, 1.0, 0.0, 0.0],\n",
              " [0.0, 0.0, 1.0, 0.0],\n",
              " [1.0, 0.0, 0.0, 0.0],\n",
              " [0.0, 1.0, 0.0, 0.0],\n",
              " [1.0, 0.0, 0.0, 0.0],\n",
              " [0.0, 1.0, 0.0, 0.0],\n",
              " [0.0, 0.0, 1.0, 0.0],\n",
              " [0.0, 0.0, 0.0, 1.0],\n",
              " [0.0, 0.0, 0.0, 1.0],\n",
              " [0.0, 0.0, 0.0, 1.0],\n",
              " [0.0, 0.0, 0.0, 1.0],\n",
              " [0.0, 0.0, 0.0, 1.0],\n",
              " [0.0, 0.0, 0.0, 1.0],\n",
              " [0.0, 0.0, 0.0, 1.0],\n",
              " [0.0, 0.0, 0.0, 1.0],\n",
              " [1.0, 0.0, 0.0, 0.0],\n",
              " [0.0, 0.0, 0.0, 1.0],\n",
              " [0.0, 0.0, 0.0, 1.0],\n",
              " [1.0, 0.0, 0.0, 0.0],\n",
              " [0.0, 0.0, 0.0, 1.0],\n",
              " [0.0, 0.0, 1.0, 0.0],\n",
              " [0.0, 0.0, 1.0, 0.0],\n",
              " [0.0, 0.0, 0.0, 1.0],\n",
              " [0.0, 0.0, 1.0, 0.0],\n",
              " [1.0, 0.0, 0.0, 0.0],\n",
              " [0.0, 0.0, 0.0, 1.0],\n",
              " [0.0, 0.0, 1.0, 0.0],\n",
              " [1.0, 0.0, 0.0, 0.0],\n",
              " [0.0, 1.0, 0.0, 0.0],\n",
              " [1.0, 0.0, 0.0, 0.0],\n",
              " [1.0, 0.0, 0.0, 0.0],\n",
              " [1.0, 0.0, 0.0, 0.0],\n",
              " [0.0, 0.0, 0.0, 1.0],\n",
              " [0.0, 0.0, 1.0, 0.0],\n",
              " [0.0, 0.0, 0.0, 1.0],\n",
              " [0.0, 0.0, 0.0, 1.0],\n",
              " [0.0, 1.0, 0.0, 0.0],\n",
              " [0.0, 0.0, 0.0, 1.0],\n",
              " [0.0, 0.0, 0.0, 1.0],\n",
              " [0.0, 0.0, 1.0, 0.0],\n",
              " [0.0, 0.0, 0.0, 1.0],\n",
              " [0.0, 1.0, 0.0, 0.0],\n",
              " [0.0, 0.0, 1.0, 0.0],\n",
              " [0.0, 1.0, 0.0, 0.0],\n",
              " [0.0, 1.0, 0.0, 0.0],\n",
              " [1.0, 0.0, 0.0, 0.0],\n",
              " [1.0, 0.0, 0.0, 0.0],\n",
              " [1.0, 0.0, 0.0, 0.0],\n",
              " [0.0, 1.0, 0.0, 0.0],\n",
              " [0.0, 1.0, 0.0, 0.0],\n",
              " [0.0, 0.0, 0.0, 1.0],\n",
              " [0.0, 1.0, 0.0, 0.0],\n",
              " [1.0, 0.0, 0.0, 0.0],\n",
              " [0.0, 0.0, 0.0, 1.0],\n",
              " [0.0, 0.0, 0.0, 1.0],\n",
              " [1.0, 0.0, 0.0, 0.0],\n",
              " [0.0, 1.0, 0.0, 0.0],\n",
              " [1.0, 0.0, 0.0, 0.0],\n",
              " [0.0, 1.0, 0.0, 0.0],\n",
              " [1.0, 0.0, 0.0, 0.0],\n",
              " [0.0, 1.0, 0.0, 0.0],\n",
              " [0.0, 1.0, 0.0, 0.0],\n",
              " [0.0, 0.0, 0.0, 1.0],\n",
              " [1.0, 0.0, 0.0, 0.0],\n",
              " [0.0, 1.0, 0.0, 0.0],\n",
              " [0.0, 0.0, 0.0, 1.0],\n",
              " [1.0, 0.0, 0.0, 0.0],\n",
              " [0.0, 0.0, 0.0, 1.0],\n",
              " [0.0, 0.0, 1.0, 0.0],\n",
              " [0.0, 1.0, 0.0, 0.0],\n",
              " [0.0, 0.0, 0.0, 1.0],\n",
              " [1.0, 0.0, 0.0, 0.0],\n",
              " [0.0, 0.0, 1.0, 0.0],\n",
              " [0.0, 0.0, 1.0, 0.0],\n",
              " [0.0, 0.0, 0.0, 1.0],\n",
              " [0.0, 0.0, 1.0, 0.0],\n",
              " [0.0, 0.0, 0.0, 1.0],\n",
              " [1.0, 0.0, 0.0, 0.0],\n",
              " [0.0, 1.0, 0.0, 0.0],\n",
              " [0.0, 1.0, 0.0, 0.0],\n",
              " [0.0, 0.0, 1.0, 0.0],\n",
              " [0.0, 1.0, 0.0, 0.0],\n",
              " [0.0, 0.0, 0.0, 1.0],\n",
              " [0.0, 0.0, 0.0, 1.0],\n",
              " [0.0, 1.0, 0.0, 0.0],\n",
              " [1.0, 0.0, 0.0, 0.0],\n",
              " [0.0, 0.0, 0.0, 1.0],\n",
              " [0.0, 1.0, 0.0, 0.0],\n",
              " [0.0, 1.0, 0.0, 0.0],\n",
              " [1.0, 0.0, 0.0, 0.0],\n",
              " [1.0, 0.0, 0.0, 0.0],\n",
              " [0.0, 0.0, 1.0, 0.0],\n",
              " [0.0, 0.0, 0.0, 1.0],\n",
              " [0.0, 1.0, 0.0, 0.0],\n",
              " [1.0, 0.0, 0.0, 0.0],\n",
              " [1.0, 0.0, 0.0, 0.0],\n",
              " [1.0, 0.0, 0.0, 0.0],\n",
              " [1.0, 0.0, 0.0, 0.0],\n",
              " [0.0, 1.0, 0.0, 0.0],\n",
              " [0.0, 1.0, 0.0, 0.0],\n",
              " [0.0, 0.0, 1.0, 0.0],\n",
              " [0.0, 0.0, 1.0, 0.0],\n",
              " [0.0, 0.0, 1.0, 0.0],\n",
              " [1.0, 0.0, 0.0, 0.0],\n",
              " [0.0, 0.0, 0.0, 1.0],\n",
              " [0.0, 0.0, 0.0, 1.0],\n",
              " [0.0, 0.0, 1.0, 0.0],\n",
              " [0.0, 1.0, 0.0, 0.0],\n",
              " [1.0, 0.0, 0.0, 0.0],\n",
              " [0.0, 0.0, 1.0, 0.0],\n",
              " [0.0, 0.0, 1.0, 0.0],\n",
              " [0.0, 0.0, 1.0, 0.0],\n",
              " [0.0, 1.0, 0.0, 0.0],\n",
              " [0.0, 1.0, 0.0, 0.0],\n",
              " [0.0, 1.0, 0.0, 0.0],\n",
              " [0.0, 1.0, 0.0, 0.0],\n",
              " [0.0, 1.0, 0.0, 0.0],\n",
              " [0.0, 1.0, 0.0, 0.0],\n",
              " [0.0, 0.0, 1.0, 0.0],\n",
              " [0.0, 0.0, 0.0, 1.0],\n",
              " [1.0, 0.0, 0.0, 0.0],\n",
              " [0.0, 1.0, 0.0, 0.0],\n",
              " [1.0, 0.0, 0.0, 0.0],\n",
              " [0.0, 1.0, 0.0, 0.0],\n",
              " [0.0, 0.0, 1.0, 0.0],\n",
              " [0.0, 0.0, 1.0, 0.0],\n",
              " [1.0, 0.0, 0.0, 0.0],\n",
              " [1.0, 0.0, 0.0, 0.0],\n",
              " [0.0, 0.0, 0.0, 1.0],\n",
              " [0.0, 0.0, 0.0, 1.0],\n",
              " [0.0, 0.0, 1.0, 0.0],\n",
              " [0.0, 0.0, 1.0, 0.0],\n",
              " [0.0, 1.0, 0.0, 0.0],\n",
              " [0.0, 1.0, 0.0, 0.0],\n",
              " [1.0, 0.0, 0.0, 0.0],\n",
              " [0.0, 0.0, 1.0, 0.0],\n",
              " [0.0, 1.0, 0.0, 0.0],\n",
              " [0.0, 0.0, 1.0, 0.0],\n",
              " [0.0, 0.0, 1.0, 0.0],\n",
              " [0.0, 0.0, 1.0, 0.0],\n",
              " [0.0, 0.0, 0.0, 1.0],\n",
              " [0.0, 1.0, 0.0, 0.0],\n",
              " [1.0, 0.0, 0.0, 0.0],\n",
              " [0.0, 0.0, 1.0, 0.0],\n",
              " [1.0, 0.0, 0.0, 0.0],\n",
              " [1.0, 0.0, 0.0, 0.0],\n",
              " [0.0, 0.0, 1.0, 0.0],\n",
              " [0.0, 0.0, 1.0, 0.0],\n",
              " [0.0, 1.0, 0.0, 0.0],\n",
              " [0.0, 0.0, 1.0, 0.0],\n",
              " [0.0, 1.0, 0.0, 0.0],\n",
              " [0.0, 0.0, 1.0, 0.0],\n",
              " [0.0, 0.0, 0.0, 1.0],\n",
              " [0.0, 1.0, 0.0, 0.0],\n",
              " [0.0, 0.0, 0.0, 1.0],\n",
              " [0.0, 0.0, 1.0, 0.0],\n",
              " [0.0, 0.0, 1.0, 0.0],\n",
              " [0.0, 1.0, 0.0, 0.0],\n",
              " [0.0, 1.0, 0.0, 0.0],\n",
              " [1.0, 0.0, 0.0, 0.0],\n",
              " [0.0, 1.0, 0.0, 0.0],\n",
              " [1.0, 0.0, 0.0, 0.0],\n",
              " [0.0, 0.0, 0.0, 1.0],\n",
              " [0.0, 1.0, 0.0, 0.0],\n",
              " [0.0, 0.0, 1.0, 0.0],\n",
              " [0.0, 1.0, 0.0, 0.0],\n",
              " [0.0, 1.0, 0.0, 0.0],\n",
              " [0.0, 0.0, 0.0, 1.0],\n",
              " [0.0, 0.0, 1.0, 0.0],\n",
              " [1.0, 0.0, 0.0, 0.0],\n",
              " [0.0, 1.0, 0.0, 0.0],\n",
              " [0.0, 0.0, 0.0, 1.0],\n",
              " [0.0, 0.0, 1.0, 0.0],\n",
              " [0.0, 1.0, 0.0, 0.0],\n",
              " [1.0, 0.0, 0.0, 0.0],\n",
              " [0.0, 0.0, 0.0, 1.0],\n",
              " [1.0, 0.0, 0.0, 0.0],\n",
              " [0.0, 1.0, 0.0, 0.0],\n",
              " [0.0, 0.0, 1.0, 0.0],\n",
              " [0.0, 0.0, 1.0, 0.0],\n",
              " [0.0, 0.0, 0.0, 1.0],\n",
              " [0.0, 0.0, 1.0, 0.0],\n",
              " [0.0, 1.0, 0.0, 0.0],\n",
              " [1.0, 0.0, 0.0, 0.0],\n",
              " [0.0, 0.0, 0.0, 1.0],\n",
              " [0.0, 0.0, 1.0, 0.0],\n",
              " [0.0, 0.0, 0.0, 1.0],\n",
              " [0.0, 0.0, 0.0, 1.0],\n",
              " [0.0, 0.0, 0.0, 1.0],\n",
              " [0.0, 0.0, 0.0, 1.0],\n",
              " [1.0, 0.0, 0.0, 0.0],\n",
              " [0.0, 1.0, 0.0, 0.0],\n",
              " [0.0, 0.0, 0.0, 1.0],\n",
              " [0.0, 1.0, 0.0, 0.0],\n",
              " [0.0, 0.0, 1.0, 0.0],\n",
              " [0.0, 1.0, 0.0, 0.0],\n",
              " [0.0, 0.0, 0.0, 1.0],\n",
              " [1.0, 0.0, 0.0, 0.0],\n",
              " [1.0, 0.0, 0.0, 0.0],\n",
              " [1.0, 0.0, 0.0, 0.0],\n",
              " [0.0, 0.0, 0.0, 1.0],\n",
              " [0.0, 1.0, 0.0, 0.0],\n",
              " [0.0, 1.0, 0.0, 0.0],\n",
              " [1.0, 0.0, 0.0, 0.0],\n",
              " [0.0, 0.0, 1.0, 0.0],\n",
              " [1.0, 0.0, 0.0, 0.0],\n",
              " [0.0, 0.0, 1.0, 0.0],\n",
              " [0.0, 0.0, 1.0, 0.0],\n",
              " [0.0, 0.0, 1.0, 0.0],\n",
              " [1.0, 0.0, 0.0, 0.0],\n",
              " [0.0, 0.0, 1.0, 0.0],\n",
              " [0.0, 1.0, 0.0, 0.0],\n",
              " [1.0, 0.0, 0.0, 0.0],\n",
              " [0.0, 0.0, 0.0, 1.0],\n",
              " [0.0, 0.0, 0.0, 1.0],\n",
              " [0.0, 1.0, 0.0, 0.0],\n",
              " [0.0, 0.0, 0.0, 1.0],\n",
              " [0.0, 1.0, 0.0, 0.0],\n",
              " [0.0, 0.0, 0.0, 1.0],\n",
              " [1.0, 0.0, 0.0, 0.0],\n",
              " [0.0, 0.0, 1.0, 0.0],\n",
              " [1.0, 0.0, 0.0, 0.0],\n",
              " [0.0, 0.0, 1.0, 0.0],\n",
              " [0.0, 0.0, 1.0, 0.0],\n",
              " [0.0, 0.0, 1.0, 0.0],\n",
              " [0.0, 0.0, 0.0, 1.0],\n",
              " [1.0, 0.0, 0.0, 0.0],\n",
              " [1.0, 0.0, 0.0, 0.0],\n",
              " [0.0, 0.0, 0.0, 1.0],\n",
              " [0.0, 1.0, 0.0, 0.0],\n",
              " [0.0, 0.0, 0.0, 1.0],\n",
              " [0.0, 0.0, 0.0, 1.0],\n",
              " [0.0, 1.0, 0.0, 0.0],\n",
              " [0.0, 1.0, 0.0, 0.0],\n",
              " [0.0, 1.0, 0.0, 0.0],\n",
              " [0.0, 1.0, 0.0, 0.0],\n",
              " [0.0, 1.0, 0.0, 0.0],\n",
              " [0.0, 0.0, 0.0, 1.0],\n",
              " [0.0, 1.0, 0.0, 0.0],\n",
              " [0.0, 0.0, 0.0, 1.0],\n",
              " [0.0, 1.0, 0.0, 0.0],\n",
              " [0.0, 1.0, 0.0, 0.0],\n",
              " [0.0, 0.0, 1.0, 0.0],\n",
              " [0.0, 1.0, 0.0, 0.0],\n",
              " [1.0, 0.0, 0.0, 0.0],\n",
              " [0.0, 1.0, 0.0, 0.0],\n",
              " [0.0, 1.0, 0.0, 0.0],\n",
              " [1.0, 0.0, 0.0, 0.0],\n",
              " [0.0, 0.0, 0.0, 1.0],\n",
              " [0.0, 0.0, 1.0, 0.0],\n",
              " [0.0, 0.0, 1.0, 0.0],\n",
              " [1.0, 0.0, 0.0, 0.0],\n",
              " [1.0, 0.0, 0.0, 0.0],\n",
              " [0.0, 0.0, 1.0, 0.0],\n",
              " [0.0, 0.0, 1.0, 0.0],\n",
              " [0.0, 1.0, 0.0, 0.0],\n",
              " [1.0, 0.0, 0.0, 0.0],\n",
              " [0.0, 0.0, 1.0, 0.0],\n",
              " [1.0, 0.0, 0.0, 0.0],\n",
              " [0.0, 1.0, 0.0, 0.0],\n",
              " [0.0, 0.0, 1.0, 0.0],\n",
              " [0.0, 0.0, 0.0, 1.0],\n",
              " [0.0, 1.0, 0.0, 0.0],\n",
              " [1.0, 0.0, 0.0, 0.0],\n",
              " [0.0, 0.0, 1.0, 0.0],\n",
              " [1.0, 0.0, 0.0, 0.0],\n",
              " [0.0, 0.0, 1.0, 0.0],\n",
              " [0.0, 1.0, 0.0, 0.0],\n",
              " [0.0, 0.0, 0.0, 1.0],\n",
              " [0.0, 1.0, 0.0, 0.0],\n",
              " [0.0, 0.0, 0.0, 1.0],\n",
              " [0.0, 1.0, 0.0, 0.0],\n",
              " [0.0, 0.0, 0.0, 1.0],\n",
              " [0.0, 1.0, 0.0, 0.0],\n",
              " [0.0, 1.0, 0.0, 0.0],\n",
              " [1.0, 0.0, 0.0, 0.0],\n",
              " [0.0, 0.0, 1.0, 0.0],\n",
              " [0.0, 1.0, 0.0, 0.0],\n",
              " [0.0, 0.0, 1.0, 0.0],\n",
              " [0.0, 0.0, 1.0, 0.0],\n",
              " [0.0, 0.0, 0.0, 1.0],\n",
              " [0.0, 0.0, 0.0, 1.0],\n",
              " [0.0, 0.0, 1.0, 0.0],\n",
              " [0.0, 0.0, 1.0, 0.0],\n",
              " [1.0, 0.0, 0.0, 0.0],\n",
              " [0.0, 0.0, 1.0, 0.0],\n",
              " [1.0, 0.0, 0.0, 0.0],\n",
              " [1.0, 0.0, 0.0, 0.0],\n",
              " [0.0, 0.0, 0.0, 1.0],\n",
              " [0.0, 0.0, 1.0, 0.0],\n",
              " [0.0, 0.0, 1.0, 0.0],\n",
              " [0.0, 0.0, 1.0, 0.0],\n",
              " [0.0, 1.0, 0.0, 0.0],\n",
              " [1.0, 0.0, 0.0, 0.0],\n",
              " [0.0, 0.0, 0.0, 1.0],\n",
              " [0.0, 0.0, 0.0, 1.0],\n",
              " [1.0, 0.0, 0.0, 0.0],\n",
              " [0.0, 0.0, 1.0, 0.0],\n",
              " [0.0, 0.0, 1.0, 0.0],\n",
              " [0.0, 0.0, 1.0, 0.0],\n",
              " [0.0, 1.0, 0.0, 0.0],\n",
              " [0.0, 0.0, 1.0, 0.0],\n",
              " [0.0, 0.0, 0.0, 1.0],\n",
              " [1.0, 0.0, 0.0, 0.0],\n",
              " [0.0, 0.0, 1.0, 0.0],\n",
              " [1.0, 0.0, 0.0, 0.0],\n",
              " [0.0, 0.0, 1.0, 0.0],\n",
              " [0.0, 1.0, 0.0, 0.0],\n",
              " [0.0, 1.0, 0.0, 0.0],\n",
              " [0.0, 0.0, 1.0, 0.0],\n",
              " [0.0, 0.0, 1.0, 0.0],\n",
              " [0.0, 0.0, 0.0, 1.0],\n",
              " [0.0, 0.0, 1.0, 0.0],\n",
              " [0.0, 0.0, 0.0, 1.0],\n",
              " [0.0, 1.0, 0.0, 0.0],\n",
              " [0.0, 0.0, 1.0, 0.0],\n",
              " [0.0, 0.0, 0.0, 1.0],\n",
              " [0.0, 0.0, 0.0, 1.0],\n",
              " [0.0, 1.0, 0.0, 0.0],\n",
              " [0.0, 0.0, 0.0, 1.0],\n",
              " [0.0, 0.0, 0.0, 1.0],\n",
              " [0.0, 0.0, 0.0, 1.0],\n",
              " [0.0, 1.0, 0.0, 0.0],\n",
              " [0.0, 1.0, 0.0, 0.0],\n",
              " [0.0, 0.0, 0.0, 1.0],\n",
              " [0.0, 0.0, 1.0, 0.0],\n",
              " [0.0, 0.0, 0.0, 1.0],\n",
              " [0.0, 0.0, 1.0, 0.0],\n",
              " [0.0, 0.0, 0.0, 1.0],\n",
              " [0.0, 1.0, 0.0, 0.0],\n",
              " [1.0, 0.0, 0.0, 0.0],\n",
              " [0.0, 1.0, 0.0, 0.0],\n",
              " [0.0, 0.0, 0.0, 1.0],\n",
              " [0.0, 0.0, 1.0, 0.0],\n",
              " [0.0, 1.0, 0.0, 0.0],\n",
              " [1.0, 0.0, 0.0, 0.0],\n",
              " [0.0, 0.0, 0.0, 1.0],\n",
              " [1.0, 0.0, 0.0, 0.0],\n",
              " [0.0, 1.0, 0.0, 0.0],\n",
              " [1.0, 0.0, 0.0, 0.0],\n",
              " [0.0, 0.0, 0.0, 1.0],\n",
              " [0.0, 0.0, 0.0, 1.0],\n",
              " [0.0, 0.0, 1.0, 0.0],\n",
              " [1.0, 0.0, 0.0, 0.0],\n",
              " [1.0, 0.0, 0.0, 0.0],\n",
              " [1.0, 0.0, 0.0, 0.0],\n",
              " [0.0, 0.0, 0.0, 1.0],\n",
              " [1.0, 0.0, 0.0, 0.0],\n",
              " [0.0, 0.0, 0.0, 1.0],\n",
              " [0.0, 0.0, 1.0, 0.0],\n",
              " [0.0, 1.0, 0.0, 0.0],\n",
              " [0.0, 0.0, 1.0, 0.0],\n",
              " [0.0, 1.0, 0.0, 0.0],\n",
              " [0.0, 1.0, 0.0, 0.0],\n",
              " [0.0, 1.0, 0.0, 0.0],\n",
              " [0.0, 0.0, 0.0, 1.0],\n",
              " [1.0, 0.0, 0.0, 0.0],\n",
              " [0.0, 0.0, 1.0, 0.0],\n",
              " [1.0, 0.0, 0.0, 0.0],\n",
              " [0.0, 0.0, 0.0, 1.0],\n",
              " [0.0, 0.0, 0.0, 1.0],\n",
              " [0.0, 0.0, 1.0, 0.0],\n",
              " [0.0, 0.0, 1.0, 0.0],\n",
              " [0.0, 0.0, 0.0, 1.0],\n",
              " [0.0, 0.0, 1.0, 0.0],\n",
              " [0.0, 0.0, 1.0, 0.0],\n",
              " [0.0, 1.0, 0.0, 0.0],\n",
              " [0.0, 0.0, 0.0, 1.0],\n",
              " [1.0, 0.0, 0.0, 0.0],\n",
              " [0.0, 1.0, 0.0, 0.0],\n",
              " [1.0, 0.0, 0.0, 0.0],\n",
              " [1.0, 0.0, 0.0, 0.0],\n",
              " [1.0, 0.0, 0.0, 0.0],\n",
              " [0.0, 1.0, 0.0, 0.0],\n",
              " [0.0, 1.0, 0.0, 0.0],\n",
              " [0.0, 0.0, 0.0, 1.0],\n",
              " [0.0, 0.0, 0.0, 1.0],\n",
              " [0.0, 1.0, 0.0, 0.0],\n",
              " [0.0, 1.0, 0.0, 0.0],\n",
              " [0.0, 0.0, 0.0, 1.0],\n",
              " [0.0, 0.0, 1.0, 0.0],\n",
              " [0.0, 0.0, 0.0, 1.0],\n",
              " [0.0, 1.0, 0.0, 0.0],\n",
              " [0.0, 0.0, 1.0, 0.0],\n",
              " [0.0, 0.0, 0.0, 1.0],\n",
              " [0.0, 0.0, 1.0, 0.0],\n",
              " [0.0, 0.0, 1.0, 0.0],\n",
              " [1.0, 0.0, 0.0, 0.0],\n",
              " [1.0, 0.0, 0.0, 0.0],\n",
              " [0.0, 0.0, 0.0, 1.0],\n",
              " [1.0, 0.0, 0.0, 0.0],\n",
              " [1.0, 0.0, 0.0, 0.0],\n",
              " [0.0, 0.0, 1.0, 0.0],\n",
              " [1.0, 0.0, 0.0, 0.0],\n",
              " [0.0, 0.0, 0.0, 1.0],\n",
              " [0.0, 1.0, 0.0, 0.0],\n",
              " [1.0, 0.0, 0.0, 0.0],\n",
              " [0.0, 1.0, 0.0, 0.0],\n",
              " [0.0, 1.0, 0.0, 0.0],\n",
              " [1.0, 0.0, 0.0, 0.0],\n",
              " [1.0, 0.0, 0.0, 0.0],\n",
              " [0.0, 0.0, 1.0, 0.0],\n",
              " [0.0, 0.0, 0.0, 1.0],\n",
              " [0.0, 0.0, 0.0, 1.0],\n",
              " [0.0, 0.0, 1.0, 0.0],\n",
              " [0.0, 1.0, 0.0, 0.0],\n",
              " [0.0, 1.0, 0.0, 0.0],\n",
              " [0.0, 1.0, 0.0, 0.0],\n",
              " [0.0, 1.0, 0.0, 0.0],\n",
              " [1.0, 0.0, 0.0, 0.0],\n",
              " [0.0, 0.0, 1.0, 0.0],\n",
              " [0.0, 0.0, 1.0, 0.0],\n",
              " [1.0, 0.0, 0.0, 0.0],\n",
              " [0.0, 0.0, 1.0, 0.0],\n",
              " [0.0, 0.0, 1.0, 0.0],\n",
              " [0.0, 1.0, 0.0, 0.0],\n",
              " [0.0, 0.0, 1.0, 0.0],\n",
              " [0.0, 1.0, 0.0, 0.0],\n",
              " [0.0, 1.0, 0.0, 0.0],\n",
              " [0.0, 0.0, 1.0, 0.0],\n",
              " [0.0, 0.0, 1.0, 0.0],\n",
              " [0.0, 0.0, 1.0, 0.0],\n",
              " [0.0, 0.0, 1.0, 0.0],\n",
              " [0.0, 0.0, 1.0, 0.0],\n",
              " [0.0, 1.0, 0.0, 0.0],\n",
              " [0.0, 1.0, 0.0, 0.0],\n",
              " [0.0, 0.0, 0.0, 1.0],\n",
              " [1.0, 0.0, 0.0, 0.0],\n",
              " [1.0, 0.0, 0.0, 0.0],\n",
              " [0.0, 1.0, 0.0, 0.0],\n",
              " [0.0, 0.0, 0.0, 1.0],\n",
              " [0.0, 0.0, 1.0, 0.0],\n",
              " [0.0, 0.0, 0.0, 1.0],\n",
              " [0.0, 0.0, 1.0, 0.0],\n",
              " [0.0, 0.0, 0.0, 1.0],\n",
              " [1.0, 0.0, 0.0, 0.0],\n",
              " [0.0, 0.0, 0.0, 1.0],\n",
              " [0.0, 0.0, 1.0, 0.0],\n",
              " [1.0, 0.0, 0.0, 0.0],\n",
              " [1.0, 0.0, 0.0, 0.0],\n",
              " [0.0, 0.0, 0.0, 1.0],\n",
              " [0.0, 0.0, 0.0, 1.0],\n",
              " [0.0, 0.0, 1.0, 0.0],\n",
              " [0.0, 0.0, 1.0, 0.0],\n",
              " [0.0, 0.0, 0.0, 1.0],\n",
              " [0.0, 0.0, 0.0, 1.0],\n",
              " [0.0, 1.0, 0.0, 0.0],\n",
              " [1.0, 0.0, 0.0, 0.0],\n",
              " [1.0, 0.0, 0.0, 0.0],\n",
              " [0.0, 1.0, 0.0, 0.0],\n",
              " [0.0, 0.0, 1.0, 0.0],\n",
              " [1.0, 0.0, 0.0, 0.0],\n",
              " [0.0, 0.0, 1.0, 0.0],\n",
              " [0.0, 1.0, 0.0, 0.0],\n",
              " [0.0, 0.0, 0.0, 1.0],\n",
              " [0.0, 0.0, 1.0, 0.0],\n",
              " [0.0, 1.0, 0.0, 0.0],\n",
              " [0.0, 1.0, 0.0, 0.0],\n",
              " [0.0, 0.0, 1.0, 0.0],\n",
              " [0.0, 1.0, 0.0, 0.0],\n",
              " [0.0, 0.0, 0.0, 1.0],\n",
              " [1.0, 0.0, 0.0, 0.0],\n",
              " [0.0, 0.0, 1.0, 0.0],\n",
              " [1.0, 0.0, 0.0, 0.0],\n",
              " [0.0, 1.0, 0.0, 0.0],\n",
              " [0.0, 1.0, 0.0, 0.0],\n",
              " [0.0, 0.0, 1.0, 0.0],\n",
              " [0.0, 1.0, 0.0, 0.0],\n",
              " [1.0, 0.0, 0.0, 0.0],\n",
              " [0.0, 0.0, 0.0, 1.0],\n",
              " [0.0, 0.0, 1.0, 0.0],\n",
              " [1.0, 0.0, 0.0, 0.0],\n",
              " [0.0, 1.0, 0.0, 0.0],\n",
              " [0.0, 0.0, 0.0, 1.0],\n",
              " [0.0, 0.0, 0.0, 1.0],\n",
              " [1.0, 0.0, 0.0, 0.0],\n",
              " [0.0, 1.0, 0.0, 0.0],\n",
              " [0.0, 0.0, 0.0, 1.0],\n",
              " [0.0, 1.0, 0.0, 0.0],\n",
              " [0.0, 0.0, 1.0, 0.0],\n",
              " [0.0, 0.0, 1.0, 0.0],\n",
              " [0.0, 0.0, 0.0, 1.0],\n",
              " [1.0, 0.0, 0.0, 0.0],\n",
              " [0.0, 0.0, 1.0, 0.0],\n",
              " [1.0, 0.0, 0.0, 0.0],\n",
              " [0.0, 1.0, 0.0, 0.0],\n",
              " [1.0, 0.0, 0.0, 0.0],\n",
              " [0.0, 0.0, 0.0, 1.0],\n",
              " [0.0, 0.0, 1.0, 0.0],\n",
              " [1.0, 0.0, 0.0, 0.0],\n",
              " [0.0, 1.0, 0.0, 0.0],\n",
              " [0.0, 1.0, 0.0, 0.0],\n",
              " [1.0, 0.0, 0.0, 0.0],\n",
              " [0.0, 0.0, 0.0, 1.0],\n",
              " [0.0, 0.0, 1.0, 0.0],\n",
              " [1.0, 0.0, 0.0, 0.0],\n",
              " [1.0, 0.0, 0.0, 0.0],\n",
              " [0.0, 1.0, 0.0, 0.0],\n",
              " [1.0, 0.0, 0.0, 0.0],\n",
              " [0.0, 0.0, 1.0, 0.0],\n",
              " [1.0, 0.0, 0.0, 0.0],\n",
              " [1.0, 0.0, 0.0, 0.0],\n",
              " [0.0, 0.0, 0.0, 1.0],\n",
              " [1.0, 0.0, 0.0, 0.0],\n",
              " [1.0, 0.0, 0.0, 0.0],\n",
              " [1.0, 0.0, 0.0, 0.0],\n",
              " [0.0, 0.0, 0.0, 1.0],\n",
              " [0.0, 0.0, 0.0, 1.0],\n",
              " [0.0, 1.0, 0.0, 0.0],\n",
              " [0.0, 0.0, 0.0, 1.0],\n",
              " [1.0, 0.0, 0.0, 0.0],\n",
              " [0.0, 1.0, 0.0, 0.0],\n",
              " [0.0, 0.0, 0.0, 1.0],\n",
              " [1.0, 0.0, 0.0, 0.0],\n",
              " [0.0, 1.0, 0.0, 0.0],\n",
              " [0.0, 1.0, 0.0, 0.0],\n",
              " [1.0, 0.0, 0.0, 0.0],\n",
              " [1.0, 0.0, 0.0, 0.0],\n",
              " [0.0, 0.0, 0.0, 1.0],\n",
              " [0.0, 0.0, 1.0, 0.0],\n",
              " [1.0, 0.0, 0.0, 0.0],\n",
              " [0.0, 0.0, 0.0, 1.0],\n",
              " [0.0, 0.0, 0.0, 1.0],\n",
              " [0.0, 0.0, 1.0, 0.0],\n",
              " [0.0, 0.0, 1.0, 0.0],\n",
              " [0.0, 0.0, 0.0, 1.0],\n",
              " [0.0, 0.0, 1.0, 0.0],\n",
              " [1.0, 0.0, 0.0, 0.0],\n",
              " [1.0, 0.0, 0.0, 0.0],\n",
              " [0.0, 0.0, 1.0, 0.0],\n",
              " [0.0, 0.0, 0.0, 1.0],\n",
              " [0.0, 0.0, 0.0, 1.0],\n",
              " [0.0, 1.0, 0.0, 0.0],\n",
              " [0.0, 0.0, 1.0, 0.0],\n",
              " [1.0, 0.0, 0.0, 0.0],\n",
              " [0.0, 1.0, 0.0, 0.0],\n",
              " [0.0, 0.0, 1.0, 0.0],\n",
              " [0.0, 0.0, 1.0, 0.0],\n",
              " [0.0, 1.0, 0.0, 0.0],\n",
              " [0.0, 0.0, 0.0, 1.0],\n",
              " [0.0, 0.0, 1.0, 0.0],\n",
              " [1.0, 0.0, 0.0, 0.0],\n",
              " [0.0, 1.0, 0.0, 0.0],\n",
              " [0.0, 0.0, 1.0, 0.0],\n",
              " [0.0, 1.0, 0.0, 0.0],\n",
              " [0.0, 0.0, 0.0, 1.0],\n",
              " [0.0, 0.0, 0.0, 1.0],\n",
              " [0.0, 0.0, 1.0, 0.0],\n",
              " [0.0, 1.0, 0.0, 0.0],\n",
              " [0.0, 0.0, 1.0, 0.0],\n",
              " [1.0, 0.0, 0.0, 0.0],\n",
              " [0.0, 1.0, 0.0, 0.0],\n",
              " [1.0, 0.0, 0.0, 0.0],\n",
              " [0.0, 0.0, 1.0, 0.0],\n",
              " [1.0, 0.0, 0.0, 0.0],\n",
              " [1.0, 0.0, 0.0, 0.0],\n",
              " [0.0, 0.0, 1.0, 0.0],\n",
              " [0.0, 0.0, 0.0, 1.0],\n",
              " [1.0, 0.0, 0.0, 0.0],\n",
              " [1.0, 0.0, 0.0, 0.0],\n",
              " [0.0, 0.0, 0.0, 1.0],\n",
              " [1.0, 0.0, 0.0, 0.0],\n",
              " [0.0, 0.0, 0.0, 1.0],\n",
              " [1.0, 0.0, 0.0, 0.0],\n",
              " [0.0, 0.0, 0.0, 1.0],\n",
              " [1.0, 0.0, 0.0, 0.0],\n",
              " [0.0, 1.0, 0.0, 0.0],\n",
              " [0.0, 0.0, 0.0, 1.0],\n",
              " [0.0, 0.0, 1.0, 0.0],\n",
              " [0.0, 0.0, 1.0, 0.0],\n",
              " [0.0, 0.0, 1.0, 0.0],\n",
              " [0.0, 0.0, 1.0, 0.0],\n",
              " [0.0, 0.0, 0.0, 1.0],\n",
              " [0.0, 1.0, 0.0, 0.0],\n",
              " [0.0, 0.0, 1.0, 0.0],\n",
              " [0.0, 0.0, 1.0, 0.0],\n",
              " [1.0, 0.0, 0.0, 0.0],\n",
              " [0.0, 0.0, 1.0, 0.0],\n",
              " [1.0, 0.0, 0.0, 0.0],\n",
              " [0.0, 1.0, 0.0, 0.0],\n",
              " [0.0, 1.0, 0.0, 0.0],\n",
              " [0.0, 0.0, 1.0, 0.0],\n",
              " [0.0, 0.0, 1.0, 0.0],\n",
              " [0.0, 0.0, 0.0, 1.0],\n",
              " [0.0, 0.0, 1.0, 0.0],\n",
              " [0.0, 0.0, 0.0, 1.0],\n",
              " [0.0, 1.0, 0.0, 0.0],\n",
              " [0.0, 1.0, 0.0, 0.0],\n",
              " [0.0, 0.0, 1.0, 0.0],\n",
              " [0.0, 1.0, 0.0, 0.0],\n",
              " [0.0, 0.0, 0.0, 1.0],\n",
              " [0.0, 0.0, 0.0, 1.0],\n",
              " [1.0, 0.0, 0.0, 0.0],\n",
              " [0.0, 0.0, 0.0, 1.0],\n",
              " [0.0, 0.0, 0.0, 1.0],\n",
              " [0.0, 0.0, 0.0, 1.0],\n",
              " [0.0, 0.0, 1.0, 0.0],\n",
              " [0.0, 1.0, 0.0, 0.0],\n",
              " [0.0, 1.0, 0.0, 0.0],\n",
              " [1.0, 0.0, 0.0, 0.0],\n",
              " [0.0, 0.0, 0.0, 1.0],\n",
              " [0.0, 0.0, 0.0, 1.0],\n",
              " [1.0, 0.0, 0.0, 0.0],\n",
              " [0.0, 0.0, 0.0, 1.0],\n",
              " [0.0, 1.0, 0.0, 0.0],\n",
              " [0.0, 1.0, 0.0, 0.0],\n",
              " [1.0, 0.0, 0.0, 0.0],\n",
              " [1.0, 0.0, 0.0, 0.0],\n",
              " [1.0, 0.0, 0.0, 0.0],\n",
              " [0.0, 1.0, 0.0, 0.0],\n",
              " [0.0, 0.0, 1.0, 0.0],\n",
              " [1.0, 0.0, 0.0, 0.0],\n",
              " [0.0, 1.0, 0.0, 0.0],\n",
              " [0.0, 1.0, 0.0, 0.0],\n",
              " [0.0, 1.0, 0.0, 0.0],\n",
              " [0.0, 0.0, 1.0, 0.0],\n",
              " [1.0, 0.0, 0.0, 0.0],\n",
              " [0.0, 0.0, 1.0, 0.0],\n",
              " [1.0, 0.0, 0.0, 0.0],\n",
              " [1.0, 0.0, 0.0, 0.0],\n",
              " [0.0, 0.0, 1.0, 0.0],\n",
              " [0.0, 1.0, 0.0, 0.0],\n",
              " [0.0, 1.0, 0.0, 0.0],\n",
              " [0.0, 0.0, 0.0, 1.0],\n",
              " [0.0, 0.0, 1.0, 0.0],\n",
              " [1.0, 0.0, 0.0, 0.0],\n",
              " [0.0, 0.0, 1.0, 0.0],\n",
              " [0.0, 0.0, 1.0, 0.0],\n",
              " [0.0, 0.0, 0.0, 1.0],\n",
              " [0.0, 0.0, 1.0, 0.0],\n",
              " [0.0, 1.0, 0.0, 0.0],\n",
              " [0.0, 0.0, 0.0, 1.0],\n",
              " [1.0, 0.0, 0.0, 0.0],\n",
              " [0.0, 1.0, 0.0, 0.0],\n",
              " [0.0, 0.0, 1.0, 0.0],\n",
              " [0.0, 0.0, 1.0, 0.0],\n",
              " [1.0, 0.0, 0.0, 0.0],\n",
              " [0.0, 0.0, 1.0, 0.0],\n",
              " [1.0, 0.0, 0.0, 0.0],\n",
              " [0.0, 0.0, 1.0, 0.0],\n",
              " [0.0, 0.0, 1.0, 0.0],\n",
              " [0.0, 1.0, 0.0, 0.0],\n",
              " [0.0, 1.0, 0.0, 0.0],\n",
              " [1.0, 0.0, 0.0, 0.0],\n",
              " [0.0, 0.0, 0.0, 1.0],\n",
              " [0.0, 0.0, 1.0, 0.0],\n",
              " [0.0, 0.0, 0.0, 1.0],\n",
              " [0.0, 0.0, 1.0, 0.0],\n",
              " [0.0, 0.0, 0.0, 1.0],\n",
              " [0.0, 0.0, 0.0, 1.0],\n",
              " [0.0, 1.0, 0.0, 0.0],\n",
              " [0.0, 0.0, 0.0, 1.0],\n",
              " [0.0, 1.0, 0.0, 0.0],\n",
              " [1.0, 0.0, 0.0, 0.0],\n",
              " [0.0, 0.0, 1.0, 0.0],\n",
              " [0.0, 0.0, 1.0, 0.0],\n",
              " [0.0, 1.0, 0.0, 0.0],\n",
              " [0.0, 1.0, 0.0, 0.0],\n",
              " [0.0, 1.0, 0.0, 0.0],\n",
              " [0.0, 0.0, 1.0, 0.0],\n",
              " [1.0, 0.0, 0.0, 0.0],\n",
              " [0.0, 0.0, 0.0, 1.0],\n",
              " [0.0, 0.0, 0.0, 1.0],\n",
              " [0.0, 0.0, 1.0, 0.0],\n",
              " [1.0, 0.0, 0.0, 0.0],\n",
              " [0.0, 1.0, 0.0, 0.0],\n",
              " [0.0, 1.0, 0.0, 0.0],\n",
              " [0.0, 0.0, 0.0, 1.0],\n",
              " [0.0, 0.0, 0.0, 1.0],\n",
              " [0.0, 0.0, 0.0, 1.0],\n",
              " [0.0, 0.0, 0.0, 1.0],\n",
              " [0.0, 0.0, 1.0, 0.0],\n",
              " [1.0, 0.0, 0.0, 0.0],\n",
              " [1.0, 0.0, 0.0, 0.0],\n",
              " [0.0, 1.0, 0.0, 0.0],\n",
              " [1.0, 0.0, 0.0, 0.0],\n",
              " [0.0, 0.0, 0.0, 1.0],\n",
              " [0.0, 0.0, 1.0, 0.0],\n",
              " [0.0, 0.0, 0.0, 1.0],\n",
              " [1.0, 0.0, 0.0, 0.0],\n",
              " [1.0, 0.0, 0.0, 0.0],\n",
              " [0.0, 0.0, 0.0, 1.0],\n",
              " [0.0, 0.0, 1.0, 0.0],\n",
              " [0.0, 0.0, 0.0, 1.0],\n",
              " [1.0, 0.0, 0.0, 0.0],\n",
              " [0.0, 0.0, 1.0, 0.0],\n",
              " [0.0, 1.0, 0.0, 0.0],\n",
              " [0.0, 1.0, 0.0, 0.0],\n",
              " [1.0, 0.0, 0.0, 0.0],\n",
              " [1.0, 0.0, 0.0, 0.0],\n",
              " [0.0, 0.0, 1.0, 0.0],\n",
              " [0.0, 0.0, 1.0, 0.0],\n",
              " [1.0, 0.0, 0.0, 0.0],\n",
              " [0.0, 1.0, 0.0, 0.0],\n",
              " [1.0, 0.0, 0.0, 0.0],\n",
              " [0.0, 0.0, 1.0, 0.0],\n",
              " [0.0, 0.0, 0.0, 1.0],\n",
              " [0.0, 1.0, 0.0, 0.0],\n",
              " [1.0, 0.0, 0.0, 0.0],\n",
              " [0.0, 0.0, 1.0, 0.0],\n",
              " [0.0, 0.0, 1.0, 0.0],\n",
              " [1.0, 0.0, 0.0, 0.0],\n",
              " [0.0, 0.0, 1.0, 0.0],\n",
              " [0.0, 0.0, 0.0, 1.0],\n",
              " [0.0, 0.0, 1.0, 0.0],\n",
              " [1.0, 0.0, 0.0, 0.0],\n",
              " [0.0, 0.0, 0.0, 1.0],\n",
              " [0.0, 0.0, 1.0, 0.0],\n",
              " [1.0, 0.0, 0.0, 0.0],\n",
              " [0.0, 0.0, 1.0, 0.0],\n",
              " [1.0, 0.0, 0.0, 0.0],\n",
              " [0.0, 0.0, 1.0, 0.0],\n",
              " [0.0, 0.0, 0.0, 1.0],\n",
              " [0.0, 0.0, 1.0, 0.0],\n",
              " [0.0, 0.0, 1.0, 0.0],\n",
              " [0.0, 0.0, 0.0, 1.0],\n",
              " [0.0, 1.0, 0.0, 0.0],\n",
              " [0.0, 1.0, 0.0, 0.0],\n",
              " [0.0, 0.0, 0.0, 1.0],\n",
              " [0.0, 0.0, 1.0, 0.0],\n",
              " [1.0, 0.0, 0.0, 0.0],\n",
              " [1.0, 0.0, 0.0, 0.0],\n",
              " [0.0, 1.0, 0.0, 0.0],\n",
              " [0.0, 1.0, 0.0, 0.0],\n",
              " [0.0, 0.0, 1.0, 0.0],\n",
              " [0.0, 1.0, 0.0, 0.0],\n",
              " [0.0, 0.0, 0.0, 1.0],\n",
              " [0.0, 1.0, 0.0, 0.0],\n",
              " [1.0, 0.0, 0.0, 0.0],\n",
              " [0.0, 0.0, 1.0, 0.0],\n",
              " [0.0, 0.0, 1.0, 0.0],\n",
              " [0.0, 1.0, 0.0, 0.0],\n",
              " [0.0, 0.0, 0.0, 1.0],\n",
              " [0.0, 0.0, 1.0, 0.0],\n",
              " [0.0, 0.0, 0.0, 1.0],\n",
              " [0.0, 0.0, 0.0, 1.0],\n",
              " [0.0, 1.0, 0.0, 0.0],\n",
              " [0.0, 1.0, 0.0, 0.0],\n",
              " [0.0, 0.0, 0.0, 1.0],\n",
              " [1.0, 0.0, 0.0, 0.0],\n",
              " [0.0, 0.0, 1.0, 0.0],\n",
              " [1.0, 0.0, 0.0, 0.0],\n",
              " [0.0, 0.0, 1.0, 0.0],\n",
              " [0.0, 1.0, 0.0, 0.0],\n",
              " [0.0, 0.0, 0.0, 1.0],\n",
              " [1.0, 0.0, 0.0, 0.0],\n",
              " [0.0, 0.0, 0.0, 1.0],\n",
              " [0.0, 1.0, 0.0, 0.0],\n",
              " [1.0, 0.0, 0.0, 0.0],\n",
              " [0.0, 1.0, 0.0, 0.0],\n",
              " [0.0, 0.0, 1.0, 0.0],\n",
              " [0.0, 0.0, 1.0, 0.0],\n",
              " [0.0, 0.0, 0.0, 1.0],\n",
              " [0.0, 1.0, 0.0, 0.0],\n",
              " [1.0, 0.0, 0.0, 0.0],\n",
              " [0.0, 1.0, 0.0, 0.0],\n",
              " [0.0, 0.0, 1.0, 0.0],\n",
              " [0.0, 1.0, 0.0, 0.0],\n",
              " [1.0, 0.0, 0.0, 0.0],\n",
              " [1.0, 0.0, 0.0, 0.0],\n",
              " [1.0, 0.0, 0.0, 0.0],\n",
              " [0.0, 0.0, 0.0, 1.0],\n",
              " [1.0, 0.0, 0.0, 0.0],\n",
              " [0.0, 0.0, 0.0, 1.0],\n",
              " [0.0, 0.0, 1.0, 0.0],\n",
              " [0.0, 0.0, 1.0, 0.0],\n",
              " [0.0, 0.0, 1.0, 0.0],\n",
              " [1.0, 0.0, 0.0, 0.0],\n",
              " [0.0, 0.0, 1.0, 0.0],\n",
              " [0.0, 1.0, 0.0, 0.0],\n",
              " [0.0, 0.0, 1.0, 0.0],\n",
              " [0.0, 0.0, 1.0, 0.0],\n",
              " [1.0, 0.0, 0.0, 0.0],\n",
              " [1.0, 0.0, 0.0, 0.0],\n",
              " [0.0, 1.0, 0.0, 0.0],\n",
              " [0.0, 1.0, 0.0, 0.0],\n",
              " [0.0, 0.0, 1.0, 0.0],\n",
              " [0.0, 0.0, 0.0, 1.0],\n",
              " [0.0, 1.0, 0.0, 0.0],\n",
              " [0.0, 0.0, 1.0, 0.0],\n",
              " [1.0, 0.0, 0.0, 0.0],\n",
              " [0.0, 0.0, 0.0, 1.0],\n",
              " [0.0, 1.0, 0.0, 0.0],\n",
              " [0.0, 0.0, 0.0, 1.0],\n",
              " [1.0, 0.0, 0.0, 0.0],\n",
              " [0.0, 0.0, 0.0, 1.0],\n",
              " [0.0, 1.0, 0.0, 0.0],\n",
              " [0.0, 0.0, 1.0, 0.0],\n",
              " [1.0, 0.0, 0.0, 0.0],\n",
              " [1.0, 0.0, 0.0, 0.0],\n",
              " [0.0, 0.0, 0.0, 1.0],\n",
              " [0.0, 0.0, 1.0, 0.0],\n",
              " [0.0, 1.0, 0.0, 0.0],\n",
              " [0.0, 1.0, 0.0, 0.0],\n",
              " [0.0, 0.0, 1.0, 0.0],\n",
              " [0.0, 1.0, 0.0, 0.0],\n",
              " [0.0, 1.0, 0.0, 0.0],\n",
              " [0.0, 1.0, 0.0, 0.0],\n",
              " [1.0, 0.0, 0.0, 0.0],\n",
              " [0.0, 1.0, 0.0, 0.0],\n",
              " [0.0, 0.0, 0.0, 1.0],\n",
              " [0.0, 0.0, 1.0, 0.0],\n",
              " [1.0, 0.0, 0.0, 0.0],\n",
              " [0.0, 1.0, 0.0, 0.0],\n",
              " [1.0, 0.0, 0.0, 0.0],\n",
              " [0.0, 1.0, 0.0, 0.0],\n",
              " [0.0, 0.0, 0.0, 1.0],\n",
              " [1.0, 0.0, 0.0, 0.0],\n",
              " [0.0, 1.0, 0.0, 0.0],\n",
              " [0.0, 0.0, 0.0, 1.0],\n",
              " [0.0, 1.0, 0.0, 0.0],\n",
              " [0.0, 0.0, 1.0, 0.0],\n",
              " [1.0, 0.0, 0.0, 0.0],\n",
              " [0.0, 0.0, 0.0, 1.0],\n",
              " [1.0, 0.0, 0.0, 0.0],\n",
              " [1.0, 0.0, 0.0, 0.0],\n",
              " [1.0, 0.0, 0.0, 0.0],\n",
              " [0.0, 0.0, 0.0, 1.0],\n",
              " [0.0, 0.0, 0.0, 1.0],\n",
              " [0.0, 0.0, 0.0, 1.0],\n",
              " [1.0, 0.0, 0.0, 0.0],\n",
              " [1.0, 0.0, 0.0, 0.0],\n",
              " [0.0, 1.0, 0.0, 0.0],\n",
              " [1.0, 0.0, 0.0, 0.0],\n",
              " [1.0, 0.0, 0.0, 0.0],\n",
              " [1.0, 0.0, 0.0, 0.0],\n",
              " [0.0, 1.0, 0.0, 0.0],\n",
              " [1.0, 0.0, 0.0, 0.0],\n",
              " [1.0, 0.0, 0.0, 0.0],\n",
              " [0.0, 0.0, 1.0, 0.0],\n",
              " [0.0, 0.0, 1.0, 0.0],\n",
              " [1.0, 0.0, 0.0, 0.0],\n",
              " [0.0, 0.0, 1.0, 0.0],\n",
              " [0.0, 0.0, 1.0, 0.0],\n",
              " [0.0, 0.0, 0.0, 1.0],\n",
              " [0.0, 0.0, 0.0, 1.0],\n",
              " [1.0, 0.0, 0.0, 0.0],\n",
              " [1.0, 0.0, 0.0, 0.0],\n",
              " [1.0, 0.0, 0.0, 0.0],\n",
              " [0.0, 0.0, 1.0, 0.0],\n",
              " [1.0, 0.0, 0.0, 0.0],\n",
              " [1.0, 0.0, 0.0, 0.0],\n",
              " [0.0, 0.0, 0.0, 1.0],\n",
              " [1.0, 0.0, 0.0, 0.0],\n",
              " [0.0, 1.0, 0.0, 0.0],\n",
              " [0.0, 0.0, 0.0, 1.0],\n",
              " [0.0, 0.0, 1.0, 0.0],\n",
              " [0.0, 0.0, 1.0, 0.0],\n",
              " [0.0, 0.0, 0.0, 1.0],\n",
              " [0.0, 0.0, 0.0, 1.0],\n",
              " [0.0, 1.0, 0.0, 0.0],\n",
              " [0.0, 0.0, 1.0, 0.0],\n",
              " [0.0, 1.0, 0.0, 0.0],\n",
              " [1.0, 0.0, 0.0, 0.0],\n",
              " [0.0, 1.0, 0.0, 0.0],\n",
              " [1.0, 0.0, 0.0, 0.0],\n",
              " [0.0, 0.0, 1.0, 0.0],\n",
              " [0.0, 0.0, 1.0, 0.0],\n",
              " [0.0, 0.0, 0.0, 1.0],\n",
              " [0.0, 0.0, 1.0, 0.0],\n",
              " [0.0, 0.0, 1.0, 0.0],\n",
              " [0.0, 0.0, 0.0, 1.0],\n",
              " [0.0, 0.0, 0.0, 1.0],\n",
              " [0.0, 1.0, 0.0, 0.0],\n",
              " [0.0, 0.0, 0.0, 1.0],\n",
              " [0.0, 1.0, 0.0, 0.0],\n",
              " [0.0, 0.0, 0.0, 1.0],\n",
              " [0.0, 0.0, 0.0, 1.0],\n",
              " [0.0, 1.0, 0.0, 0.0],\n",
              " [0.0, 0.0, 1.0, 0.0],\n",
              " [1.0, 0.0, 0.0, 0.0],\n",
              " [1.0, 0.0, 0.0, 0.0],\n",
              " [0.0, 0.0, 1.0, 0.0],\n",
              " [1.0, 0.0, 0.0, 0.0],\n",
              " [0.0, 0.0, 0.0, 1.0],\n",
              " [0.0, 0.0, 1.0, 0.0],\n",
              " [1.0, 0.0, 0.0, 0.0],\n",
              " [1.0, 0.0, 0.0, 0.0],\n",
              " [0.0, 1.0, 0.0, 0.0],\n",
              " [0.0, 0.0, 0.0, 1.0],\n",
              " [1.0, 0.0, 0.0, 0.0],\n",
              " [1.0, 0.0, 0.0, 0.0],\n",
              " [0.0, 0.0, 0.0, 1.0],\n",
              " [0.0, 1.0, 0.0, 0.0],\n",
              " [0.0, 0.0, 0.0, 1.0],\n",
              " [0.0, 1.0, 0.0, 0.0],\n",
              " [0.0, 1.0, 0.0, 0.0],\n",
              " [0.0, 0.0, 0.0, 1.0],\n",
              " [0.0, 0.0, 1.0, 0.0],\n",
              " [1.0, 0.0, 0.0, 0.0],\n",
              " [0.0, 1.0, 0.0, 0.0],\n",
              " [1.0, 0.0, 0.0, 0.0],\n",
              " [0.0, 0.0, 0.0, 1.0],\n",
              " [1.0, 0.0, 0.0, 0.0],\n",
              " [1.0, 0.0, 0.0, 0.0],\n",
              " [0.0, 0.0, 0.0, 1.0],\n",
              " [0.0, 0.0, 1.0, 0.0],\n",
              " [1.0, 0.0, 0.0, 0.0]]"
            ]
          },
          "execution_count": 59,
          "metadata": {},
          "output_type": "execute_result"
        }
      ],
      "source": [
        "test_labels"
      ]
    },
    {
      "cell_type": "code",
      "execution_count": null,
      "metadata": {
        "colab": {
          "base_uri": "https://localhost:8080/"
        },
        "id": "v3C9Fi2hs8qW",
        "outputId": "f4d20253-6711-476a-cd92-9f90b0c580d5"
      },
      "outputs": [
        {
          "data": {
            "text/plain": [
              "1000"
            ]
          },
          "execution_count": 60,
          "metadata": {},
          "output_type": "execute_result"
        }
      ],
      "source": [
        "len(train_features[0])"
      ]
    },
    {
      "cell_type": "code",
      "execution_count": null,
      "metadata": {
        "id": "MNq9WGV3tRBD"
      },
      "outputs": [],
      "source": [
        "column_name=[]\n",
        "for i in range(1000):\n",
        "  column_name.append(i)"
      ]
    },
    {
      "cell_type": "code",
      "execution_count": null,
      "metadata": {
        "id": "lLH5BKAhtXiS"
      },
      "outputs": [],
      "source": [
        "train_df= pd.DataFrame(data = train_features,columns=column_name )\n",
        "test_df= pd.DataFrame(data = test_features,  columns = column_name)"
      ]
    },
    {
      "cell_type": "code",
      "execution_count": null,
      "metadata": {
        "id": "892ZpqeOteRA"
      },
      "outputs": [],
      "source": [
        "X=train_df"
      ]
    },
    {
      "cell_type": "code",
      "execution_count": null,
      "metadata": {
        "id": "dxYxkbO5tsnA"
      },
      "outputs": [],
      "source": [
        "from sklearn.model_selection import GridSearchCV\n",
        "from sklearn.model_selection import train_test_split\n",
        "from sklearn.svm import SVC\n",
        "from sklearn.metrics import confusion_matrix\n",
        "from sklearn.model_selection import validation_curve\n",
        "from sklearn.model_selection import KFold\n",
        "from sklearn.model_selection import cross_val_score\n",
        "from sklearn.model_selection import GridSearchCV"
      ]
    },
    {
      "cell_type": "code",
      "execution_count": null,
      "metadata": {
        "id": "UotG41UltmO_"
      },
      "outputs": [],
      "source": [
        "X_train, X_validate, y_train, y_validate = train_test_split( X,train_labels_real, test_size=0.1, random_state=42)"
      ]
    },
    {
      "cell_type": "code",
      "execution_count": null,
      "metadata": {
        "id": "hDo-JtVLtxjs"
      },
      "outputs": [],
      "source": [
        "clf_svm = svm.SVC()"
      ]
    },
    {
      "cell_type": "code",
      "execution_count": null,
      "metadata": {
        "id": "_gSiHz_Wt3lg"
      },
      "outputs": [],
      "source": [
        "svc=svm.SVC(C=1,kernel='rbf')"
      ]
    },
    {
      "cell_type": "code",
      "execution_count": null,
      "metadata": {
        "id": "HVeFhXppt3ex"
      },
      "outputs": [],
      "source": [
        "from sklearn.multiclass import OneVsOneClassifier\n",
        "svc_ovo = OneVsOneClassifier(svc).fit(X,train_labels_real)"
      ]
    },
    {
      "cell_type": "code",
      "execution_count": null,
      "metadata": {
        "id": "mji3UPz1xiEV"
      },
      "outputs": [],
      "source": [
        "def accuracy(actual,predicted):\n",
        "  correct=0\n",
        "  for i in range(len(actual)):\n",
        "    if predicted[i]==actual[i]:\n",
        "      correct+=1\n",
        "  return((correct/len(actual))*100)"
      ]
    },
    {
      "cell_type": "code",
      "execution_count": null,
      "metadata": {
        "id": "bBTp_i9lxmn4"
      },
      "outputs": [],
      "source": [
        "y_pred_svc_OVO = svc_ovo.predict(test_features)"
      ]
    },
    {
      "cell_type": "code",
      "execution_count": null,
      "metadata": {
        "colab": {
          "base_uri": "https://localhost:8080/"
        },
        "id": "RGxj9gDM0Sh5",
        "outputId": "74025c99-d480-42fb-cba4-8e9729be7a92"
      },
      "outputs": [
        {
          "data": {
            "text/plain": [
              "982"
            ]
          },
          "execution_count": 71,
          "metadata": {},
          "output_type": "execute_result"
        }
      ],
      "source": [
        "len(y_pred_svc_OVO)"
      ]
    },
    {
      "cell_type": "code",
      "execution_count": null,
      "metadata": {
        "colab": {
          "base_uri": "https://localhost:8080/"
        },
        "id": "VHTWUt82fJkA",
        "outputId": "b3111d9e-2f62-4be7-adf9-162eeaa38988"
      },
      "outputs": [
        {
          "data": {
            "text/plain": [
              "982"
            ]
          },
          "execution_count": 72,
          "metadata": {},
          "output_type": "execute_result"
        }
      ],
      "source": [
        "len(test_labels_real)"
      ]
    },
    {
      "cell_type": "code",
      "execution_count": null,
      "metadata": {
        "id": "P_95o3aE0mYq"
      },
      "outputs": [],
      "source": [
        "y_validate"
      ]
    },
    {
      "cell_type": "code",
      "execution_count": null,
      "metadata": {
        "id": "K9SjLKHTe34P"
      },
      "outputs": [],
      "source": [
        "from sklearn.metrics import accuracy_score"
      ]
    },
    {
      "cell_type": "code",
      "execution_count": null,
      "metadata": {
        "colab": {
          "base_uri": "https://localhost:8080/"
        },
        "id": "Pop464FveGKU",
        "outputId": "625ce45c-7a78-4024-e04f-de42bdee704c"
      },
      "outputs": [
        {
          "data": {
            "text/plain": [
              "0.8370672097759674"
            ]
          },
          "execution_count": 75,
          "metadata": {},
          "output_type": "execute_result"
        }
      ],
      "source": [
        "accuracy_score(test_labels_real,y_pred_svc_OVO)"
      ]
    },
    {
      "cell_type": "code",
      "execution_count": null,
      "metadata": {
        "id": "yveybqV5ija8"
      },
      "outputs": [],
      "source": [
        "from sklearn.metrics import confusion_matrix"
      ]
    },
    {
      "cell_type": "code",
      "execution_count": null,
      "metadata": {
        "id": "76D1FffHinW-"
      },
      "outputs": [],
      "source": [
        "cf_matrix=confusion_matrix(test_labels_real,y_pred_svc_OVO)"
      ]
    },
    {
      "cell_type": "code",
      "execution_count": null,
      "metadata": {
        "colab": {
          "base_uri": "https://localhost:8080/"
        },
        "id": "LZDSpmbdi_Gx",
        "outputId": "b0e06bb7-872f-4383-a71d-085207390b0f"
      },
      "outputs": [
        {
          "data": {
            "text/plain": [
              "array([[216,   8,   9,   7],\n",
              "       [  9, 207,  20,  20],\n",
              "       [ 15,  45, 180,  11],\n",
              "       [  4,   7,   5, 219]])"
            ]
          },
          "execution_count": 78,
          "metadata": {},
          "output_type": "execute_result"
        }
      ],
      "source": [
        "cf_matrix"
      ]
    },
    {
      "cell_type": "code",
      "execution_count": null,
      "metadata": {
        "id": "MbcnvlnYjNec"
      },
      "outputs": [],
      "source": [
        "import seaborn as sns"
      ]
    },
    {
      "cell_type": "code",
      "execution_count": null,
      "metadata": {
        "colab": {
          "base_uri": "https://localhost:8080/",
          "height": 282
        },
        "id": "PFbc8eG3isRB",
        "outputId": "962cb99d-9932-4565-8a2c-fd26b1ce4b08"
      },
      "outputs": [
        {
          "data": {
            "text/plain": [
              "<matplotlib.axes._subplots.AxesSubplot at 0x7f0c2eb74590>"
            ]
          },
          "execution_count": 80,
          "metadata": {},
          "output_type": "execute_result"
        },
        {
          "data": {
            "image/png": "[encoded data removed]",
            "text/plain": [
              "<Figure size 432x288 with 2 Axes>"
            ]
          },
          "metadata": {},
          "output_type": "display_data"
        }
      ],
      "source": [
        "import seaborn as sns\n",
        "sns.heatmap(cf_matrix, annot=True)"
      ]
    },
    {
      "cell_type": "code",
      "execution_count": null,
      "metadata": {
        "colab": {
          "base_uri": "https://localhost:8080/",
          "height": 551
        },
        "id": "OpKbw5B9kJ-2",
        "outputId": "dc2c2ba6-9ebc-45dd-c79a-80b74c5786d2"
      },
      "outputs": [
        {
          "data": {
            "image/png": "[encoded data removed]",
            "text/plain": [
              "<Figure size 648x648 with 1 Axes>"
            ]
          },
          "metadata": {},
          "output_type": "display_data"
        }
      ],
      "source": [
        "\n",
        "labels = ['MONOCYTE','EOSINOPHIL','LYMPHOCYTE','NEUTROPHIL']\n",
        " \n",
        "\n",
        "plt.figure(figsize=(9,9))\n",
        "sns.heatmap(cf_matrix, cbar=False, xticklabels=labels, yticklabels=labels, fmt='d', annot=True, cmap='Blues')\n",
        "plt.xlabel('Predicted')\n",
        "plt.ylabel('Actual')\n",
        "plt.show()"
      ]
    },
    {
      "cell_type": "markdown",
      "metadata": {
        "id": "3x7g1YsykK_s"
      },
      "source": [
        "#Fine tuning on a Pre-Trained Model"
      ]
    },
    {
      "cell_type": "markdown",
      "metadata": {
        "id": "1uYfdAd1l0DC"
      },
      "source": [
        "#Fine Tuning on Resnet Model"
      ]
    },
    {
      "cell_type": "code",
      "execution_count": null,
      "metadata": {
        "id": "Ryf9uyfroaLf"
      },
      "outputs": [],
      "source": [
        "config = {\n",
        "    'batch_size': 128,\n",
        "    'num_workers': 4,\n",
        "    'learning_rate': 0.001,\n",
        "    'n_epochs': 5,\n",
        "    'pin_memory': True\n",
        "}"
      ]
    },
    {
      "cell_type": "code",
      "execution_count": null,
      "metadata": {
        "colab": {
          "base_uri": "https://localhost:8080/",
          "height": 1000,
          "referenced_widgets": [
            "a315687465f14513820223b80bee23d2",
            "8c8e43bca76348de9a4fd98ff630c78a",
            "521d588969844becb5c0fb355c52514a",
            "3d63cbedf0fc4a259e11f82698c2dd6b",
            "6182fbb5f2ef4478b55af3ec33565b19",
            "5b98a66f84684478a3faa6f5be388025",
            "95d9ebf0ed2b45b58ce1124a030bfda5",
            "851e93eadfd64f16a67e1cc5bbba18a8",
            "d90ffafed550456989afac13b05e67da",
            "ea09870ec32b4c79a9ebe1cffd918b68",
            "765987db505d4ec3b1c56769aab58f71"
          ]
        },
        "id": "NcR4dR450gjF",
        "outputId": "929e3636-7c9f-4331-d9d3-2f0de53ded48"
      },
      "outputs": [
        {
          "name": "stderr",
          "output_type": "stream",
          "text": [
            "Downloading: \"https://download.pytorch.org/models/resnet18-f37072fd.pth\" to /root/.cache/torch/hub/checkpoints/resnet18-f37072fd.pth\n"
          ]
        },
        {
          "data": {
            "application/vnd.jupyter.widget-view+json": {
              "model_id": "a315687465f14513820223b80bee23d2",
              "version_major": 2,
              "version_minor": 0
            },
            "text/plain": [
              "  0%|          | 0.00/44.7M [00:00<?, ?B/s]"
            ]
          },
          "metadata": {},
          "output_type": "display_data"
        },
        {
          "data": {
            "text/plain": [
              "==========================================================================================\n",
              "Layer (type:depth-idx)                   Output Shape              Param #\n",
              "==========================================================================================\n",
              "ResNet                                   --                        --\n",
              "├─Conv2d: 1-1                            [1, 64, 120, 160]         9,408\n",
              "├─BatchNorm2d: 1-2                       [1, 64, 120, 160]         128\n",
              "├─ReLU: 1-3                              [1, 64, 120, 160]         --\n",
              "├─MaxPool2d: 1-4                         [1, 64, 60, 80]           --\n",
              "├─Sequential: 1-5                        [1, 64, 60, 80]           --\n",
              "│    └─BasicBlock: 2-1                   [1, 64, 60, 80]           --\n",
              "│    │    └─Conv2d: 3-1                  [1, 64, 60, 80]           36,864\n",
              "│    │    └─BatchNorm2d: 3-2             [1, 64, 60, 80]           128\n",
              "│    │    └─ReLU: 3-3                    [1, 64, 60, 80]           --\n",
              "│    │    └─Conv2d: 3-4                  [1, 64, 60, 80]           36,864\n",
              "│    │    └─BatchNorm2d: 3-5             [1, 64, 60, 80]           128\n",
              "│    │    └─ReLU: 3-6                    [1, 64, 60, 80]           --\n",
              "│    └─BasicBlock: 2-2                   [1, 64, 60, 80]           --\n",
              "│    │    └─Conv2d: 3-7                  [1, 64, 60, 80]           36,864\n",
              "│    │    └─BatchNorm2d: 3-8             [1, 64, 60, 80]           128\n",
              "│    │    └─ReLU: 3-9                    [1, 64, 60, 80]           --\n",
              "│    │    └─Conv2d: 3-10                 [1, 64, 60, 80]           36,864\n",
              "│    │    └─BatchNorm2d: 3-11            [1, 64, 60, 80]           128\n",
              "│    │    └─ReLU: 3-12                   [1, 64, 60, 80]           --\n",
              "├─Sequential: 1-6                        [1, 128, 30, 40]          --\n",
              "│    └─BasicBlock: 2-3                   [1, 128, 30, 40]          --\n",
              "│    │    └─Conv2d: 3-13                 [1, 128, 30, 40]          73,728\n",
              "│    │    └─BatchNorm2d: 3-14            [1, 128, 30, 40]          256\n",
              "│    │    └─ReLU: 3-15                   [1, 128, 30, 40]          --\n",
              "│    │    └─Conv2d: 3-16                 [1, 128, 30, 40]          147,456\n",
              "│    │    └─BatchNorm2d: 3-17            [1, 128, 30, 40]          256\n",
              "│    │    └─Sequential: 3-18             [1, 128, 30, 40]          8,448\n",
              "│    │    └─ReLU: 3-19                   [1, 128, 30, 40]          --\n",
              "│    └─BasicBlock: 2-4                   [1, 128, 30, 40]          --\n",
              "│    │    └─Conv2d: 3-20                 [1, 128, 30, 40]          147,456\n",
              "│    │    └─BatchNorm2d: 3-21            [1, 128, 30, 40]          256\n",
              "│    │    └─ReLU: 3-22                   [1, 128, 30, 40]          --\n",
              "│    │    └─Conv2d: 3-23                 [1, 128, 30, 40]          147,456\n",
              "│    │    └─BatchNorm2d: 3-24            [1, 128, 30, 40]          256\n",
              "│    │    └─ReLU: 3-25                   [1, 128, 30, 40]          --\n",
              "├─Sequential: 1-7                        [1, 256, 15, 20]          --\n",
              "│    └─BasicBlock: 2-5                   [1, 256, 15, 20]          --\n",
              "│    │    └─Conv2d: 3-26                 [1, 256, 15, 20]          294,912\n",
              "│    │    └─BatchNorm2d: 3-27            [1, 256, 15, 20]          512\n",
              "│    │    └─ReLU: 3-28                   [1, 256, 15, 20]          --\n",
              "│    │    └─Conv2d: 3-29                 [1, 256, 15, 20]          589,824\n",
              "│    │    └─BatchNorm2d: 3-30            [1, 256, 15, 20]          512\n",
              "│    │    └─Sequential: 3-31             [1, 256, 15, 20]          33,280\n",
              "│    │    └─ReLU: 3-32                   [1, 256, 15, 20]          --\n",
              "│    └─BasicBlock: 2-6                   [1, 256, 15, 20]          --\n",
              "│    │    └─Conv2d: 3-33                 [1, 256, 15, 20]          589,824\n",
              "│    │    └─BatchNorm2d: 3-34            [1, 256, 15, 20]          512\n",
              "│    │    └─ReLU: 3-35                   [1, 256, 15, 20]          --\n",
              "│    │    └─Conv2d: 3-36                 [1, 256, 15, 20]          589,824\n",
              "│    │    └─BatchNorm2d: 3-37            [1, 256, 15, 20]          512\n",
              "│    │    └─ReLU: 3-38                   [1, 256, 15, 20]          --\n",
              "├─Sequential: 1-8                        [1, 512, 8, 10]           --\n",
              "│    └─BasicBlock: 2-7                   [1, 512, 8, 10]           --\n",
              "│    │    └─Conv2d: 3-39                 [1, 512, 8, 10]           1,179,648\n",
              "│    │    └─BatchNorm2d: 3-40            [1, 512, 8, 10]           1,024\n",
              "│    │    └─ReLU: 3-41                   [1, 512, 8, 10]           --\n",
              "│    │    └─Conv2d: 3-42                 [1, 512, 8, 10]           2,359,296\n",
              "│    │    └─BatchNorm2d: 3-43            [1, 512, 8, 10]           1,024\n",
              "│    │    └─Sequential: 3-44             [1, 512, 8, 10]           132,096\n",
              "│    │    └─ReLU: 3-45                   [1, 512, 8, 10]           --\n",
              "│    └─BasicBlock: 2-8                   [1, 512, 8, 10]           --\n",
              "│    │    └─Conv2d: 3-46                 [1, 512, 8, 10]           2,359,296\n",
              "│    │    └─BatchNorm2d: 3-47            [1, 512, 8, 10]           1,024\n",
              "│    │    └─ReLU: 3-48                   [1, 512, 8, 10]           --\n",
              "│    │    └─Conv2d: 3-49                 [1, 512, 8, 10]           2,359,296\n",
              "│    │    └─BatchNorm2d: 3-50            [1, 512, 8, 10]           1,024\n",
              "│    │    └─ReLU: 3-51                   [1, 512, 8, 10]           --\n",
              "├─AdaptiveAvgPool2d: 1-9                 [1, 512, 1, 1]            --\n",
              "├─Linear: 1-10                           [1, 4]                    2,052\n",
              "==========================================================================================\n",
              "Total params: 11,178,564\n",
              "Trainable params: 11,178,564\n",
              "Non-trainable params: 0\n",
              "Total mult-adds (G): 2.82\n",
              "==========================================================================================\n",
              "Input size (MB): 0.92\n",
              "Forward/backward pass size (MB): 61.03\n",
              "Params size (MB): 44.71\n",
              "Estimated Total Size (MB): 106.67\n",
              "=========================================================================================="
            ]
          },
          "execution_count": 83,
          "metadata": {},
          "output_type": "execute_result"
        }
      ],
      "source": [
        "import torchvision.models as models\n",
        "from torchinfo import summary\n",
        "import torch.optim as optim\n",
        "resnet_18 = models.resnet18(pretrained=True)\n",
        "last_layer = resnet_18.fc.in_features\n",
        "resnet_18.fc = nn.Linear(last_layer,4)\n",
        "if train_on_gpu:\n",
        "  resnet_18.cuda()\n",
        "\n",
        "criterion = nn.CrossEntropyLoss()\n",
        "optimizer = optim.Adam(resnet_18.parameters(),lr=config['learning_rate'])\n",
        "\n",
        "summary(resnet_18,input_size=(1,3,240,320))"
      ]
    },
    {
      "cell_type": "code",
      "execution_count": null,
      "metadata": {
        "id": "ocpaVP9fomwX"
      },
      "outputs": [],
      "source": [
        "def train_model(model ,train_dataloader,test_dataloader, training_name, optimizer,criterion,config=config):\n",
        "\n",
        "\n",
        "  train_losses = []\n",
        "  test_losses = []\n",
        "  train_acc = []\n",
        "  test_acc = []\n",
        "  min_loss = float('inf')\n",
        "  n_epochs = config['n_epochs']\n",
        "  for epoch in (range(n_epochs)):\n",
        "    training_loss = 0.0\n",
        "    train_c = 0\n",
        "    testing_loss = 0.0\n",
        "    test_c = 0\n",
        "\n",
        "    model.train()\n",
        "    for data in train_dataloader:\n",
        "\n",
        "      images,labels = data\n",
        "      images = images.cuda()\n",
        "      labels = labels.cuda() \n",
        "      outputs = model(images)\n",
        "      loss = criterion(outputs,labels)  \n",
        "      optimizer.zero_grad()\n",
        "      loss.backward()\n",
        "      optimizer.step()\n",
        "\n",
        "      _, predicted = torch.max(outputs, 1)\n",
        "      train_c += torch.sum(predicted==labels).item()\n",
        "\n",
        "      training_loss += loss.item()\n",
        "    print(f'Training accuracy in epoch  {epoch+1}  : {(train_c/len(train_dataloader.dataset))*100:.3f}')\n",
        "    print(f'Train Loss in epoch {epoch+1}  : {(training_loss/len(train_dataloader)):.3f}')\n",
        "    print('-'*80)\n",
        "    print('-'*80)\n",
        " \n",
        "    model.eval()\n",
        "    with torch.no_grad():\n",
        "      for data in test_dataloader:\n",
        "        images,labels = data\n",
        "        images = images.cuda()\n",
        "        labels = labels.cuda()\n",
        "        # Forward Pass \n",
        "        outputs = model(images)\n",
        "        loss = criterion(outputs,labels)\n",
        "\n",
        "        _, predicted = torch.max(outputs, 1)\n",
        "        test_c += torch.sum(predicted==labels).item()\n",
        "        testing_loss += loss.item()\n",
        "\n",
        "    if min_loss > testing_loss/len(test_dataloader):\n",
        "      min_loss = testing_loss/len(test_dataloader)\n",
        "      torch.save(model.state_dict(),f'{training_name}.pth')\n",
        "\n",
        "\n",
        "    train_acc.append(train_c/len(train_dataloader.dataset))\n",
        "    train_losses.append(training_loss/len(train_dataloader))\n",
        "    test_acc.append(test_c / len(test_dataloader.dataset))\n",
        "    test_losses.append(testing_loss/len(test_dataloader))\n",
        "    n_epochs = config['n_epochs']\n",
        "    print(f'Validation accuracy in epoch  {epoch+1}  : {(test_c/len(test_dataloader.dataset))*100:.3f}')\n",
        "    print(f'Validation Loss in epoch {epoch+1}  : {(testing_loss/len(test_dataloader)):.3f}')\n",
        "    print('-'*80)\n",
        "    print('-'*80)\n",
        "\n",
        "  return train_losses, test_losses, train_acc, test_acc"
      ]
    },
    {
      "cell_type": "code",
      "execution_count": null,
      "metadata": {
        "id": "itPBFG3EpHZ9"
      },
      "outputs": [],
      "source": [
        "def make_plot(train_losses, test_losses, train_acc, test_acc, model_name):\n",
        "  plt.plot(range(len(train_losses)),train_losses, label = 'Train loss')\n",
        "  plt.plot(range(len(test_losses)),test_losses, label = 'Test loss')\n",
        "  plt.title(f'Loss curve for %s' % model_name)\n",
        "  plt.xlabel('Number of Epochs')\n",
        "  plt.ylabel('Loss')\n",
        "  plt.legend()\n",
        "  plt.show()\n",
        "\n",
        "  print('\\n'*2)\n",
        "  print('\\n'*2)\n",
        "  \n",
        "  plt.plot(range(len(train_acc)),train_acc, label = 'Train accuracy')\n",
        "  plt.plot(range(len(test_acc)),test_acc, label = 'Test accuracy')\n",
        "  plt.title(f'Accuracy curve for %s' % model_name)\n",
        "  plt.xlabel('Number of Epochs')\n",
        "  plt.ylabel('Accuracy')\n",
        "  plt.legend()\n",
        "  plt.show()"
      ]
    },
    {
      "cell_type": "code",
      "execution_count": null,
      "metadata": {
        "colab": {
          "base_uri": "https://localhost:8080/"
        },
        "id": "bN5l5zT7qTMF",
        "outputId": "c601ef1b-b13d-4a46-c396-4cd08ec1aaf5"
      },
      "outputs": [
        {
          "name": "stderr",
          "output_type": "stream",
          "text": [
            "/usr/local/lib/python3.7/dist-packages/torch/utils/data/dataloader.py:490: UserWarning: This DataLoader will create 4 worker processes in total. Our suggested max number of worker in current system is 2, which is smaller than what this DataLoader is going to create. Please be aware that excessive worker creation might get DataLoader running slow or even freeze, lower the worker number to avoid potential slowness/freeze if necessary.\n",
            "  cpuset_checked))\n"
          ]
        }
      ],
      "source": [
        "train_dataloader = DataLoader(\n",
        "    train_ds2, batch_size=config['batch_size'], shuffle = True, \n",
        "    pin_memory = config['pin_memory'], num_workers = config['num_workers']\n",
        "  )\n",
        "\n",
        "test_dataloader = DataLoader(\n",
        "    val_ds2, batch_size=config['batch_size'], shuffle = True, \n",
        "    pin_memory = config['pin_memory'], num_workers = config['num_workers']\n",
        "  )"
      ]
    },
    {
      "cell_type": "code",
      "execution_count": null,
      "metadata": {
        "colab": {
          "base_uri": "https://localhost:8080/"
        },
        "id": "N2gi3vlTu85q",
        "outputId": "6e87aad2-e0e9-4cc0-b315-7ede07a7060d"
      },
      "outputs": [
        {
          "data": {
            "text/plain": [
              "(tensor([[[0.0000, 0.0000, 0.0000,  ..., 0.7529, 0.7961, 0.7961],\n",
              "          [0.0000, 0.0000, 0.0000,  ..., 0.7373, 0.7412, 0.7529],\n",
              "          [0.0000, 0.0000, 0.0000,  ..., 0.7843, 0.8275, 0.8118],\n",
              "          ...,\n",
              "          [0.0000, 0.0000, 0.0000,  ..., 0.7765, 0.7843, 0.7882],\n",
              "          [0.0000, 0.0000, 0.0000,  ..., 0.7765, 0.7843, 0.7882],\n",
              "          [0.0000, 0.0000, 0.0000,  ..., 0.7804, 0.7882, 0.7882]],\n",
              " \n",
              "         [[0.0000, 0.0000, 0.0000,  ..., 0.7490, 0.7843, 0.7843],\n",
              "          [0.0000, 0.0000, 0.0000,  ..., 0.7333, 0.7373, 0.7529],\n",
              "          [0.0000, 0.0000, 0.0000,  ..., 0.7804, 0.8235, 0.8078],\n",
              "          ...,\n",
              "          [0.0000, 0.0000, 0.0000,  ..., 0.6667, 0.6706, 0.6745],\n",
              "          [0.0000, 0.0000, 0.0000,  ..., 0.6667, 0.6706, 0.6745],\n",
              "          [0.0000, 0.0000, 0.0000,  ..., 0.6667, 0.6745, 0.6745]],\n",
              " \n",
              "         [[0.0000, 0.0000, 0.0000,  ..., 0.7294, 0.7569, 0.7569],\n",
              "          [0.0000, 0.0000, 0.0000,  ..., 0.7137, 0.7176, 0.7216],\n",
              "          [0.0000, 0.0000, 0.0000,  ..., 0.7608, 0.8039, 0.7882],\n",
              "          ...,\n",
              "          [0.0000, 0.0000, 0.0000,  ..., 0.6510, 0.6471, 0.6510],\n",
              "          [0.0000, 0.0000, 0.0000,  ..., 0.6510, 0.6471, 0.6431],\n",
              "          [0.0000, 0.0000, 0.0000,  ..., 0.6510, 0.6510, 0.6431]]]),\n",
              " tensor([1., 0., 0., 0.]))"
            ]
          },
          "execution_count": 87,
          "metadata": {},
          "output_type": "execute_result"
        }
      ],
      "source": [
        "train_ds[0]"
      ]
    },
    {
      "cell_type": "code",
      "execution_count": null,
      "metadata": {
        "colab": {
          "base_uri": "https://localhost:8080/"
        },
        "id": "RFdGdc3DpQpX",
        "outputId": "97436973-2731-4170-808a-90aa8fe9cbd0"
      },
      "outputs": [
        {
          "name": "stderr",
          "output_type": "stream",
          "text": [
            "/usr/local/lib/python3.7/dist-packages/torch/utils/data/dataloader.py:490: UserWarning: This DataLoader will create 4 worker processes in total. Our suggested max number of worker in current system is 2, which is smaller than what this DataLoader is going to create. Please be aware that excessive worker creation might get DataLoader running slow or even freeze, lower the worker number to avoid potential slowness/freeze if necessary.\n",
            "  cpuset_checked))\n"
          ]
        },
        {
          "name": "stdout",
          "output_type": "stream",
          "text": [
            "Training accuracy in epoch  1  : 92.529\n",
            "Train Loss in epoch 1  : 0.189\n",
            "--------------------------------------------------------------------------------\n",
            "--------------------------------------------------------------------------------\n",
            "Validation accuracy in epoch  1  : 89.104\n",
            "Validation Loss in epoch 1  : 0.311\n",
            "--------------------------------------------------------------------------------\n",
            "--------------------------------------------------------------------------------\n",
            "Training accuracy in epoch  2  : 98.768\n",
            "Train Loss in epoch 2  : 0.038\n",
            "--------------------------------------------------------------------------------\n",
            "--------------------------------------------------------------------------------\n",
            "Validation accuracy in epoch  2  : 99.185\n",
            "Validation Loss in epoch 2  : 0.027\n",
            "--------------------------------------------------------------------------------\n",
            "--------------------------------------------------------------------------------\n",
            "Training accuracy in epoch  3  : 98.678\n",
            "Train Loss in epoch 3  : 0.041\n",
            "--------------------------------------------------------------------------------\n",
            "--------------------------------------------------------------------------------\n",
            "Validation accuracy in epoch  3  : 96.130\n",
            "Validation Loss in epoch 3  : 0.104\n",
            "--------------------------------------------------------------------------------\n",
            "--------------------------------------------------------------------------------\n",
            "Training accuracy in epoch  4  : 98.723\n",
            "Train Loss in epoch 4  : 0.039\n",
            "--------------------------------------------------------------------------------\n",
            "--------------------------------------------------------------------------------\n",
            "Validation accuracy in epoch  4  : 99.389\n",
            "Validation Loss in epoch 4  : 0.020\n",
            "--------------------------------------------------------------------------------\n",
            "--------------------------------------------------------------------------------\n",
            "Training accuracy in epoch  5  : 99.876\n",
            "Train Loss in epoch 5  : 0.004\n",
            "--------------------------------------------------------------------------------\n",
            "--------------------------------------------------------------------------------\n",
            "Validation accuracy in epoch  5  : 99.084\n",
            "Validation Loss in epoch 5  : 0.033\n",
            "--------------------------------------------------------------------------------\n",
            "--------------------------------------------------------------------------------\n"
          ]
        }
      ],
      "source": [
        "train_losses, test_losses, train_acc, test_acc = train_model(resnet_18,train_dataloader,test_dataloader, 'Resnet 18 finetuned', optimizer, criterion)"
      ]
    },
    {
      "cell_type": "code",
      "execution_count": null,
      "metadata": {
        "id": "M0BppaviSWmt"
      },
      "outputs": [],
      "source": [
        ""
      ]
    },
    {
      "cell_type": "code",
      "execution_count": null,
      "metadata": {
        "colab": {
          "base_uri": "https://localhost:8080/",
          "height": 677
        },
        "id": "V12EpM5kSfqf",
        "outputId": "e9c2f32e-e729-49f1-d5dd-ffd322d098f1"
      },
      "outputs": [
        {
          "data": {
            "image/png": "[encoded data removed]",
            "text/plain": [
              "<Figure size 432x288 with 1 Axes>"
            ]
          },
          "metadata": {},
          "output_type": "display_data"
        },
        {
          "name": "stdout",
          "output_type": "stream",
          "text": [
            "\n",
            "\n",
            "\n",
            "\n",
            "\n",
            "\n"
          ]
        },
        {
          "data": {
            "image/png": "[encoded data removed]",
            "text/plain": [
              "<Figure size 432x288 with 1 Axes>"
            ]
          },
          "metadata": {},
          "output_type": "display_data"
        }
      ],
      "source": [
        "make_plot(train_losses, test_losses, train_acc, test_acc,\"Resnet18,pretrained\")"
      ]
    },
    {
      "cell_type": "code",
      "execution_count": null,
      "metadata": {
        "colab": {
          "base_uri": "https://localhost:8080/"
        },
        "id": "LrfGQA8cTw5z",
        "outputId": "ed33db3e-d40c-463d-e1ea-bb5cfa4bf024"
      },
      "outputs": [
        {
          "data": {
            "text/plain": [
              "==========================================================================================\n",
              "Layer (type:depth-idx)                   Output Shape              Param #\n",
              "==========================================================================================\n",
              "ResNet                                   --                        --\n",
              "├─Conv2d: 1-1                            [1, 64, 120, 160]         9,408\n",
              "├─BatchNorm2d: 1-2                       [1, 64, 120, 160]         128\n",
              "├─ReLU: 1-3                              [1, 64, 120, 160]         --\n",
              "├─MaxPool2d: 1-4                         [1, 64, 60, 80]           --\n",
              "├─Sequential: 1-5                        [1, 64, 60, 80]           --\n",
              "│    └─BasicBlock: 2-1                   [1, 64, 60, 80]           --\n",
              "│    │    └─Conv2d: 3-1                  [1, 64, 60, 80]           36,864\n",
              "│    │    └─BatchNorm2d: 3-2             [1, 64, 60, 80]           128\n",
              "│    │    └─ReLU: 3-3                    [1, 64, 60, 80]           --\n",
              "│    │    └─Conv2d: 3-4                  [1, 64, 60, 80]           36,864\n",
              "│    │    └─BatchNorm2d: 3-5             [1, 64, 60, 80]           128\n",
              "│    │    └─ReLU: 3-6                    [1, 64, 60, 80]           --\n",
              "│    └─BasicBlock: 2-2                   [1, 64, 60, 80]           --\n",
              "│    │    └─Conv2d: 3-7                  [1, 64, 60, 80]           36,864\n",
              "│    │    └─BatchNorm2d: 3-8             [1, 64, 60, 80]           128\n",
              "│    │    └─ReLU: 3-9                    [1, 64, 60, 80]           --\n",
              "│    │    └─Conv2d: 3-10                 [1, 64, 60, 80]           36,864\n",
              "│    │    └─BatchNorm2d: 3-11            [1, 64, 60, 80]           128\n",
              "│    │    └─ReLU: 3-12                   [1, 64, 60, 80]           --\n",
              "├─Sequential: 1-6                        [1, 128, 30, 40]          --\n",
              "│    └─BasicBlock: 2-3                   [1, 128, 30, 40]          --\n",
              "│    │    └─Conv2d: 3-13                 [1, 128, 30, 40]          73,728\n",
              "│    │    └─BatchNorm2d: 3-14            [1, 128, 30, 40]          256\n",
              "│    │    └─ReLU: 3-15                   [1, 128, 30, 40]          --\n",
              "│    │    └─Conv2d: 3-16                 [1, 128, 30, 40]          147,456\n",
              "│    │    └─BatchNorm2d: 3-17            [1, 128, 30, 40]          256\n",
              "│    │    └─Sequential: 3-18             [1, 128, 30, 40]          8,448\n",
              "│    │    └─ReLU: 3-19                   [1, 128, 30, 40]          --\n",
              "│    └─BasicBlock: 2-4                   [1, 128, 30, 40]          --\n",
              "│    │    └─Conv2d: 3-20                 [1, 128, 30, 40]          147,456\n",
              "│    │    └─BatchNorm2d: 3-21            [1, 128, 30, 40]          256\n",
              "│    │    └─ReLU: 3-22                   [1, 128, 30, 40]          --\n",
              "│    │    └─Conv2d: 3-23                 [1, 128, 30, 40]          147,456\n",
              "│    │    └─BatchNorm2d: 3-24            [1, 128, 30, 40]          256\n",
              "│    │    └─ReLU: 3-25                   [1, 128, 30, 40]          --\n",
              "├─Sequential: 1-7                        [1, 256, 15, 20]          --\n",
              "│    └─BasicBlock: 2-5                   [1, 256, 15, 20]          --\n",
              "│    │    └─Conv2d: 3-26                 [1, 256, 15, 20]          294,912\n",
              "│    │    └─BatchNorm2d: 3-27            [1, 256, 15, 20]          512\n",
              "│    │    └─ReLU: 3-28                   [1, 256, 15, 20]          --\n",
              "│    │    └─Conv2d: 3-29                 [1, 256, 15, 20]          589,824\n",
              "│    │    └─BatchNorm2d: 3-30            [1, 256, 15, 20]          512\n",
              "│    │    └─Sequential: 3-31             [1, 256, 15, 20]          33,280\n",
              "│    │    └─ReLU: 3-32                   [1, 256, 15, 20]          --\n",
              "│    └─BasicBlock: 2-6                   [1, 256, 15, 20]          --\n",
              "│    │    └─Conv2d: 3-33                 [1, 256, 15, 20]          589,824\n",
              "│    │    └─BatchNorm2d: 3-34            [1, 256, 15, 20]          512\n",
              "│    │    └─ReLU: 3-35                   [1, 256, 15, 20]          --\n",
              "│    │    └─Conv2d: 3-36                 [1, 256, 15, 20]          589,824\n",
              "│    │    └─BatchNorm2d: 3-37            [1, 256, 15, 20]          512\n",
              "│    │    └─ReLU: 3-38                   [1, 256, 15, 20]          --\n",
              "├─Sequential: 1-8                        [1, 512, 8, 10]           --\n",
              "│    └─BasicBlock: 2-7                   [1, 512, 8, 10]           --\n",
              "│    │    └─Conv2d: 3-39                 [1, 512, 8, 10]           1,179,648\n",
              "│    │    └─BatchNorm2d: 3-40            [1, 512, 8, 10]           1,024\n",
              "│    │    └─ReLU: 3-41                   [1, 512, 8, 10]           --\n",
              "│    │    └─Conv2d: 3-42                 [1, 512, 8, 10]           2,359,296\n",
              "│    │    └─BatchNorm2d: 3-43            [1, 512, 8, 10]           1,024\n",
              "│    │    └─Sequential: 3-44             [1, 512, 8, 10]           132,096\n",
              "│    │    └─ReLU: 3-45                   [1, 512, 8, 10]           --\n",
              "│    └─BasicBlock: 2-8                   [1, 512, 8, 10]           --\n",
              "│    │    └─Conv2d: 3-46                 [1, 512, 8, 10]           2,359,296\n",
              "│    │    └─BatchNorm2d: 3-47            [1, 512, 8, 10]           1,024\n",
              "│    │    └─ReLU: 3-48                   [1, 512, 8, 10]           --\n",
              "│    │    └─Conv2d: 3-49                 [1, 512, 8, 10]           2,359,296\n",
              "│    │    └─BatchNorm2d: 3-50            [1, 512, 8, 10]           1,024\n",
              "│    │    └─ReLU: 3-51                   [1, 512, 8, 10]           --\n",
              "├─AdaptiveAvgPool2d: 1-9                 [1, 512, 1, 1]            --\n",
              "├─Linear: 1-10                           [1, 4]                    2,052\n",
              "==========================================================================================\n",
              "Total params: 11,178,564\n",
              "Trainable params: 11,178,564\n",
              "Non-trainable params: 0\n",
              "Total mult-adds (G): 2.82\n",
              "==========================================================================================\n",
              "Input size (MB): 0.92\n",
              "Forward/backward pass size (MB): 61.03\n",
              "Params size (MB): 44.71\n",
              "Estimated Total Size (MB): 106.67\n",
              "=========================================================================================="
            ]
          },
          "execution_count": 95,
          "metadata": {},
          "output_type": "execute_result"
        }
      ],
      "source": [
        "resnet_18_notfinetuned = models.resnet18(pretrained=False)\n",
        "last_layer = resnet_18_notfinetuned.fc.in_features\n",
        "resnet_18_notfinetuned.fc = nn.Linear(last_layer,4)\n",
        "if train_on_gpu:\n",
        "  resnet_18_notfinetuned.cuda()\n",
        "\n",
        "criterion = nn.CrossEntropyLoss()\n",
        "optimizer = optim.Adam(resnet_18_notfinetuned.parameters(),lr=config['learning_rate'])\n",
        "\n",
        "summary(resnet_18_notfinetuned,input_size=(1,3,240,320))"
      ]
    },
    {
      "cell_type": "code",
      "execution_count": null,
      "metadata": {
        "colab": {
          "base_uri": "https://localhost:8080/"
        },
        "id": "q8TMZmv8Tmrh",
        "outputId": "ee15df0c-a939-4ce1-e567-3a0f1ca93945"
      },
      "outputs": [
        {
          "name": "stderr",
          "output_type": "stream",
          "text": [
            "/usr/local/lib/python3.7/dist-packages/torch/utils/data/dataloader.py:490: UserWarning: This DataLoader will create 4 worker processes in total. Our suggested max number of worker in current system is 2, which is smaller than what this DataLoader is going to create. Please be aware that excessive worker creation might get DataLoader running slow or even freeze, lower the worker number to avoid potential slowness/freeze if necessary.\n",
            "  cpuset_checked))\n"
          ]
        },
        {
          "name": "stdout",
          "output_type": "stream",
          "text": [
            "Training accuracy in epoch  1  : 72.963\n",
            "Train Loss in epoch 1  : 0.605\n",
            "--------------------------------------------------------------------------------\n",
            "--------------------------------------------------------------------------------\n",
            "Validation accuracy in epoch  1  : 25.560\n",
            "Validation Loss in epoch 1  : 39.761\n",
            "--------------------------------------------------------------------------------\n",
            "--------------------------------------------------------------------------------\n",
            "Training accuracy in epoch  2  : 91.161\n",
            "Train Loss in epoch 2  : 0.227\n",
            "--------------------------------------------------------------------------------\n",
            "--------------------------------------------------------------------------------\n",
            "Validation accuracy in epoch  2  : 40.631\n",
            "Validation Loss in epoch 2  : 13.129\n",
            "--------------------------------------------------------------------------------\n",
            "--------------------------------------------------------------------------------\n",
            "Training accuracy in epoch  3  : 93.795\n",
            "Train Loss in epoch 3  : 0.166\n",
            "--------------------------------------------------------------------------------\n",
            "--------------------------------------------------------------------------------\n",
            "Validation accuracy in epoch  3  : 36.762\n",
            "Validation Loss in epoch 3  : 4.218\n",
            "--------------------------------------------------------------------------------\n",
            "--------------------------------------------------------------------------------\n",
            "Training accuracy in epoch  4  : 95.920\n",
            "Train Loss in epoch 4  : 0.110\n",
            "--------------------------------------------------------------------------------\n",
            "--------------------------------------------------------------------------------\n",
            "Validation accuracy in epoch  4  : 79.532\n",
            "Validation Loss in epoch 4  : 0.620\n",
            "--------------------------------------------------------------------------------\n",
            "--------------------------------------------------------------------------------\n",
            "Training accuracy in epoch  5  : 97.265\n",
            "Train Loss in epoch 5  : 0.075\n",
            "--------------------------------------------------------------------------------\n",
            "--------------------------------------------------------------------------------\n",
            "Validation accuracy in epoch  5  : 79.532\n",
            "Validation Loss in epoch 5  : 0.803\n",
            "--------------------------------------------------------------------------------\n",
            "--------------------------------------------------------------------------------\n"
          ]
        }
      ],
      "source": [
        "train_losses2, test_losses2, train_acc2, test_acc2 = train_model(resnet_18_notfinetuned,train_dataloader,test_dataloader, 'Resnet 18_notfinetuned', optimizer, criterion)"
      ]
    },
    {
      "cell_type": "code",
      "execution_count": null,
      "metadata": {
        "colab": {
          "base_uri": "https://localhost:8080/",
          "height": 677
        },
        "id": "PXXKGt1hV2ps",
        "outputId": "e6d2dec5-b95b-406a-b283-c0c64410a7f5"
      },
      "outputs": [
        {
          "data": {
            "image/png": "[encoded data removed]",
            "text/plain": [
              "<Figure size 432x288 with 1 Axes>"
            ]
          },
          "metadata": {},
          "output_type": "display_data"
        },
        {
          "name": "stdout",
          "output_type": "stream",
          "text": [
            "\n",
            "\n",
            "\n",
            "\n",
            "\n",
            "\n"
          ]
        },
        {
          "data": {
            "image/png": "[encoded data removed]",
            "text/plain": [
              "<Figure size 432x288 with 1 Axes>"
            ]
          },
          "metadata": {},
          "output_type": "display_data"
        }
      ],
      "source": [
        "make_plot(train_losses2, test_losses2, train_acc2, test_acc2,\"Resnet18_not_pretrained\")"
      ]
    },
    {
      "cell_type": "markdown",
      "metadata": {
        "id": "bZgsv44mZ4GH"
      },
      "source": [
        "#Makin a MOdel from scratch\n"
      ]
    },
    {
      "cell_type": "code",
      "execution_count": null,
      "metadata": {
        "id": "XZTsO-oQZ3jC"
      },
      "outputs": [],
      "source": [
        "from torch.utils.data import DataLoader\n",
        "from sklearn.model_selection import train_test_split\n",
        "\n",
        "\n",
        "\n",
        "config = {\n",
        "    'batch_size':32,\n",
        "    'test_size':0.2,\n",
        "    'num_workers' : 2, \n",
        "    'pin_memory' : True,\n",
        "    'learning_rate' : 0.001,\n",
        "    'epochs' : 20,\n",
        "    'test_batch_size': 500\n",
        "}\n",
        "kwargs = {\n",
        "    'batch_size':32,\n",
        "    'num_workers' : 4, \n",
        "    'pin_memory' : True,\n",
        "}\n",
        "\n",
        "kwargs_ = {\n",
        "    'batch_size':500,\n",
        "    'num_workers' : 4, \n",
        "    'pin_memory' : True,\n",
        "}\n",
        "\n"
      ]
    },
    {
      "cell_type": "code",
      "execution_count": null,
      "metadata": {
        "id": "hMm1fcn3aM07"
      },
      "outputs": [],
      "source": [
        "class CNN_1(nn.Module):\n",
        "  def __init__(self):\n",
        "      super(CNN_1,self).__init__()\n",
        "    \n",
        "      self.conv1 = nn.Conv2d(3,8,3, padding=1)                     #32*32*8\n",
        "      self.conv2 = nn.Conv2d(8,16,3,padding=1)                     #32*32*16\n",
        "      self.pool = nn.MaxPool2d(2,2)                                 #16*16*16\n",
        "      self.conv3 = nn.Conv2d(16,32,3,padding=1)                     #16*16*32\n",
        "      self.conv4 = nn.Conv2d(32,64,3, padding = 1)\n",
        "      self.fc1 = nn.Linear(19200,64*8*8)   \n",
        "      self.fc2 = nn.Linear(64*8*8,64)\n",
        "      self.fc3 = nn.Linear(64,4)\n",
        "      #self.softmax = nn.Softmax()\n",
        "      #self.relu = nn.ReLU(inplace = True)\n",
        "      #self.sigmoid = nn.Sigmoid()\n",
        "        \n",
        "  def forward(self,x):\n",
        "      x =  self.conv1(x)\n",
        "      x =  (self.pool(x))\n",
        "      x =  self.conv2(x)\n",
        "      x =  (self.pool(x))\n",
        "      x =  self.conv3(x)\n",
        "      x =  (self.pool(x))\n",
        "      x =  self.conv4(x)\n",
        "      x =  (self.pool(x))\n",
        "      x =  x.reshape(x.size(0),-1)     #Flatten Layer\n",
        "      x =  self.fc1(x)\n",
        "      x =  self.fc2(x)\n",
        "      x =  self.fc3(x)\n",
        "      #x =  self.softmax(x)\n",
        "      return x"
      ]
    },
    {
      "cell_type": "code",
      "execution_count": null,
      "metadata": {
        "id": "Ufw67FWThd5R"
      },
      "outputs": [],
      "source": [
        "train_losses3, test_losses3, train_acc3, test_acc3 = train_model(CNN_1,train_dataloader,test_dataloader, 'CNN1', optimizer, criterion)"
      ]
    },
    {
      "cell_type": "code",
      "execution_count": null,
      "metadata": {
        "id": "mJHjgJ0uh3jB"
      },
      "outputs": [],
      "source": [
        "def train_model(model,train_dataloader,val_dataloader,training_name, config = config):\n",
        "    epochs = config['epochs']\n",
        "    train_losses = []\n",
        "    val_losses = []\n",
        "    val_acc = []\n",
        "    train_acc = []\n",
        "    #net = ConvNet()\n",
        "    #net.cuda()\n",
        "    #optimizer = optim.SGD(net.parameters(), lr=learning_rate, momentum=0.9)\n",
        "    for epoch in range(epochs):\n",
        "        training_loss = 0.0\n",
        "        val_loss = 0.0\n",
        "        train_c = 0\n",
        "        min_loss= 1000 \n",
        "        val_c = 0\n",
        "        optimizer = config['optimizer'] \n",
        "        criterion = config['criterion']     \n",
        "        for i, data in enumerate(train_dataloader):\n",
        "            input_data, labels = data # data is a list of 2, the first element is 4*3*32*32 (4 images) the second element is a list of 4 (classes)\n",
        "            input_data, labels = input_data.cuda(),labels.cuda()\n",
        "            optimizer.zero_grad() # every time reset the parameter gradients to zero\n",
        "            # forward backward optimize\n",
        "            output = model(input_data)\n",
        "            loss = criterion(output, labels)\n",
        "            loss.backward()\n",
        "            optimizer.step()\n",
        "            \n",
        "            _, predicted = torch.max(output, 1)\n",
        "            train_c += torch.sum(predicted==labels).item()\n",
        "            # print the loss\n",
        "            training_loss += loss.item()\n",
        "        # print the loss after every epoch\n",
        "        train_losses.append(training_loss/40000)\n",
        "        train_acc.append(train_c/len(train_dataloader.dataset))\n",
        "        print(f'Training accuracy in epoch  {epoch+1}  : {(train_c/len(train_dataloader.dataset))*100:.3f}')\n",
        "        print(f'Train Loss in epoch {epoch+1}  : {(training_loss/len(train_dataloader.dataset))*100:.3f}')    \n",
        "        \n",
        "        model.eval()\n",
        "        with torch.no_grad():\n",
        "          for data in val_dataloader:\n",
        "            images,classes = data\n",
        "            images = images.cuda()\n",
        "            classes = classes.cuda()\n",
        "            outputs = model(images)\n",
        "            loss = criterion(outputs,classes)\n",
        "\n",
        "            _, predicted = torch.max(outputs, 1)\n",
        "            val_c += torch.sum(predicted==classes).item()\n",
        "            val_loss += loss.item()\n",
        "\n",
        "        if min_loss > val_loss/len(val_dataloader):\n",
        "          min_loss = val_loss/len(val_dataloader)\n",
        "          torch.save(model.state_dict(),f'{training_name}.pth')\n",
        "\n",
        "        val_acc.append(val_c / len(val_dataloader.dataset))\n",
        "        val_losses.append(val_loss/len(val_dataloader))\n",
        "        print(f'Validation accuracy in epoch  {epoch+1}  : {(val_c/len(val_dataloader.dataset))*100:.3f}')\n",
        "        print(f'Validation Loss in epoch {epoch+1}  : {(val_loss/len(val_dataloader.dataset))*100:.3f}') \n",
        "        print(\"-\"*80)\n",
        "        print(\"-\"*80)\n",
        "\n",
        "    print(\"Training Completed!\")\n",
        "    return train_losses, val_losses, train_acc, val_acc"
      ]
    },
    {
      "cell_type": "code",
      "execution_count": null,
      "metadata": {
        "id": "-sS5FgdGiiPS"
      },
      "outputs": [],
      "source": [
        "model_1 = CNN_1().cuda()\n",
        "if train_on_gpu:\n",
        "  model_1.cuda()"
      ]
    },
    {
      "cell_type": "code",
      "execution_count": null,
      "metadata": {
        "id": "A6DIdLsDiYJg"
      },
      "outputs": [],
      "source": [
        "criterion = nn.CrossEntropyLoss()\n",
        "optimizer = optim.Adam(model_1.parameters(),lr=config['learning_rate'])\n",
        "config['optimizer'] = optimizer\n",
        "config['criterion']  = criterion"
      ]
    },
    {
      "cell_type": "markdown",
      "source": [
        ""
      ],
      "metadata": {
        "id": "btXn2hNhpfc9"
      }
    },
    {
      "cell_type": "code",
      "execution_count": null,
      "metadata": {
        "colab": {
          "background_save": true,
          "base_uri": "https://localhost:8080/"
        },
        "id": "ocdA5Yfdh83l",
        "outputId": "76d75e3b-a28a-45cf-e0bf-e8426c4303ab"
      },
      "outputs": [
        {
          "name": "stderr",
          "output_type": "stream",
          "text": [
            "/usr/local/lib/python3.7/dist-packages/torch/utils/data/dataloader.py:490: UserWarning: This DataLoader will create 4 worker processes in total. Our suggested max number of worker in current system is 2, which is smaller than what this DataLoader is going to create. Please be aware that excessive worker creation might get DataLoader running slow or even freeze, lower the worker number to avoid potential slowness/freeze if necessary.\n",
            "  cpuset_checked))\n"
          ]
        },
        {
          "name": "stdout",
          "output_type": "stream",
          "text": [
            "Training accuracy in epoch  1  : 26.619\n",
            "Train Loss in epoch 1  : 1.349\n",
            "Validation accuracy in epoch  1  : 31.059\n",
            "Validation Loss in epoch 1  : 1.108\n",
            "--------------------------------------------------------------------------------\n",
            "--------------------------------------------------------------------------------\n",
            "Training accuracy in epoch  2  : 34.305\n",
            "Train Loss in epoch 2  : 1.053\n",
            "Validation accuracy in epoch  2  : 29.837\n",
            "Validation Loss in epoch 2  : 1.180\n",
            "--------------------------------------------------------------------------------\n",
            "--------------------------------------------------------------------------------\n",
            "Training accuracy in epoch  3  : 38.352\n",
            "Train Loss in epoch 3  : 1.033\n",
            "Validation accuracy in epoch  3  : 40.631\n",
            "Validation Loss in epoch 3  : 1.071\n",
            "--------------------------------------------------------------------------------\n",
            "--------------------------------------------------------------------------------\n",
            "Training accuracy in epoch  4  : 41.698\n",
            "Train Loss in epoch 4  : 1.004\n",
            "Validation accuracy in epoch  4  : 40.733\n",
            "Validation Loss in epoch 4  : 1.040\n",
            "--------------------------------------------------------------------------------\n",
            "--------------------------------------------------------------------------------\n",
            "Training accuracy in epoch  5  : 47.948\n",
            "Train Loss in epoch 5  : 0.937\n",
            "Validation accuracy in epoch  5  : 47.658\n",
            "Validation Loss in epoch 5  : 1.007\n",
            "--------------------------------------------------------------------------------\n",
            "--------------------------------------------------------------------------------\n",
            "Training accuracy in epoch  6  : 52.312\n",
            "Train Loss in epoch 6  : 0.886\n",
            "Validation accuracy in epoch  6  : 53.666\n",
            "Validation Loss in epoch 6  : 0.963\n",
            "--------------------------------------------------------------------------------\n",
            "--------------------------------------------------------------------------------\n",
            "Training accuracy in epoch  7  : 55.431\n",
            "Train Loss in epoch 7  : 0.836\n",
            "Validation accuracy in epoch  7  : 55.601\n",
            "Validation Loss in epoch 7  : 0.940\n",
            "--------------------------------------------------------------------------------\n",
            "--------------------------------------------------------------------------------\n",
            "Training accuracy in epoch  8  : 59.602\n",
            "Train Loss in epoch 8  : 0.781\n",
            "Validation accuracy in epoch  8  : 41.548\n",
            "Validation Loss in epoch 8  : 1.240\n",
            "--------------------------------------------------------------------------------\n",
            "--------------------------------------------------------------------------------\n",
            "Training accuracy in epoch  9  : 56.889\n",
            "Train Loss in epoch 9  : 0.814\n",
            "Validation accuracy in epoch  9  : 48.676\n",
            "Validation Loss in epoch 9  : 0.982\n",
            "--------------------------------------------------------------------------------\n",
            "--------------------------------------------------------------------------------\n",
            "Training accuracy in epoch  10  : 63.004\n",
            "Train Loss in epoch 10  : 0.719\n",
            "Validation accuracy in epoch  10  : 55.703\n",
            "Validation Loss in epoch 10  : 0.924\n",
            "--------------------------------------------------------------------------------\n",
            "--------------------------------------------------------------------------------\n",
            "Training accuracy in epoch  11  : 65.875\n",
            "Train Loss in epoch 11  : 0.665\n",
            "Validation accuracy in epoch  11  : 54.888\n",
            "Validation Loss in epoch 11  : 0.969\n",
            "--------------------------------------------------------------------------------\n",
            "--------------------------------------------------------------------------------\n",
            "Training accuracy in epoch  12  : 70.069\n",
            "Train Loss in epoch 12  : 0.585\n",
            "Validation accuracy in epoch  12  : 51.527\n",
            "Validation Loss in epoch 12  : 1.040\n",
            "--------------------------------------------------------------------------------\n",
            "--------------------------------------------------------------------------------\n",
            "Training accuracy in epoch  13  : 73.550\n",
            "Train Loss in epoch 13  : 0.526\n",
            "Validation accuracy in epoch  13  : 52.342\n",
            "Validation Loss in epoch 13  : 1.041\n",
            "--------------------------------------------------------------------------------\n",
            "--------------------------------------------------------------------------------\n",
            "Training accuracy in epoch  14  : 76.930\n",
            "Train Loss in epoch 14  : 0.467\n",
            "Validation accuracy in epoch  14  : 54.277\n",
            "Validation Loss in epoch 14  : 1.144\n",
            "--------------------------------------------------------------------------------\n",
            "--------------------------------------------------------------------------------\n",
            "Training accuracy in epoch  15  : 81.124\n",
            "Train Loss in epoch 15  : 0.376\n",
            "Validation accuracy in epoch  15  : 55.499\n",
            "Validation Loss in epoch 15  : 1.158\n",
            "--------------------------------------------------------------------------------\n",
            "--------------------------------------------------------------------------------\n",
            "Training accuracy in epoch  16  : 84.978\n",
            "Train Loss in epoch 16  : 0.310\n",
            "Validation accuracy in epoch  16  : 49.491\n",
            "Validation Loss in epoch 16  : 1.694\n",
            "--------------------------------------------------------------------------------\n",
            "--------------------------------------------------------------------------------\n",
            "Training accuracy in epoch  17  : 83.576\n",
            "Train Loss in epoch 17  : 0.340\n",
            "Validation accuracy in epoch  17  : 53.666\n",
            "Validation Loss in epoch 17  : 1.390\n",
            "--------------------------------------------------------------------------------\n",
            "--------------------------------------------------------------------------------\n",
            "Training accuracy in epoch  18  : 89.025\n",
            "Train Loss in epoch 18  : 0.222\n",
            "Validation accuracy in epoch  18  : 56.415\n",
            "Validation Loss in epoch 18  : 1.487\n",
            "--------------------------------------------------------------------------------\n",
            "--------------------------------------------------------------------------------\n",
            "Training accuracy in epoch  19  : 91.850\n",
            "Train Loss in epoch 19  : 0.170\n",
            "Validation accuracy in epoch  19  : 54.990\n",
            "Validation Loss in epoch 19  : 1.632\n",
            "--------------------------------------------------------------------------------\n",
            "--------------------------------------------------------------------------------\n",
            "Training accuracy in epoch  20  : 93.862\n",
            "Train Loss in epoch 20  : 0.133\n",
            "Validation accuracy in epoch  20  : 49.185\n",
            "Validation Loss in epoch 20  : 2.201\n",
            "--------------------------------------------------------------------------------\n",
            "--------------------------------------------------------------------------------\n",
            "Training Completed!\n"
          ]
        }
      ],
      "source": [
        "train_losses3, test_losses3, train_acc3, test_acc3 = train_model(model_1,train_dataloader,test_dataloader, 'CNN1',config)"
      ]
    },
    {
      "cell_type": "code",
      "source": [
        ""
      ],
      "metadata": {
        "id": "qW8RbtSLpNkT"
      },
      "execution_count": null,
      "outputs": []
    },
    {
      "cell_type": "code",
      "execution_count": null,
      "metadata": {
        "colab": {
          "base_uri": "https://localhost:8080/"
        },
        "id": "moB2UKbkftj7",
        "outputId": "c81ab1c2-2ba5-41e9-85d1-a4db18130b17"
      },
      "outputs": [
        {
          "data": {
            "text/plain": [
              "==========================================================================================\n",
              "Layer (type:depth-idx)                   Output Shape              Param #\n",
              "==========================================================================================\n",
              "CNN_1                                    --                        --\n",
              "├─Conv2d: 1-1                            [1, 8, 240, 320]          224\n",
              "├─MaxPool2d: 1-2                         [1, 8, 120, 160]          --\n",
              "├─Conv2d: 1-3                            [1, 16, 120, 160]         1,168\n",
              "├─MaxPool2d: 1-4                         [1, 16, 60, 80]           --\n",
              "├─Conv2d: 1-5                            [1, 32, 60, 80]           4,640\n",
              "├─MaxPool2d: 1-6                         [1, 32, 30, 40]           --\n",
              "├─Conv2d: 1-7                            [1, 64, 30, 40]           18,496\n",
              "├─MaxPool2d: 1-8                         [1, 64, 15, 20]           --\n",
              "├─Linear: 1-9                            [1, 4096]                 78,647,296\n",
              "├─Linear: 1-10                           [1, 64]                   262,208\n",
              "├─Linear: 1-11                           [1, 4]                    260\n",
              "==========================================================================================\n",
              "Total params: 78,934,292\n",
              "Trainable params: 78,934,292\n",
              "Non-trainable params: 0\n",
              "Total mult-adds (M): 163.01\n",
              "==========================================================================================\n",
              "Input size (MB): 0.92\n",
              "Forward/backward pass size (MB): 9.25\n",
              "Params size (MB): 315.74\n",
              "Estimated Total Size (MB): 325.91\n",
              "=========================================================================================="
            ]
          },
          "execution_count": 110,
          "metadata": {},
          "output_type": "execute_result"
        }
      ],
      "source": [
        "import torch.optim as optim\n",
        "model_1 = CNN_1().cuda()\n",
        "if train_on_gpu:\n",
        "  model_1.cuda()\n",
        "\n",
        "criterion = nn.CrossEntropyLoss()\n",
        "optimizer = optim.Adam(model_1.parameters(),lr=config['learning_rate'])\n",
        "config['optimizer'] = optimizer\n",
        "config['criterion']  = criterion\n",
        "\n",
        "summary(model_1,input_size=(1,3,240,320))"
      ]
    }
  ],
  "metadata": {
    "accelerator": "GPU",
    "colab": {
      "collapsed_sections": [],
      "name": "TransferLearning1.ipynb",
      "provenance": []
    },
    "kernelspec": {
      "display_name": "Python 3",
      "name": "python3"
    },
    "language_info": {
      "name": "python"
    },
    "widgets": {
      "application/vnd.jupyter.widget-state+json": {
        "3d63cbedf0fc4a259e11f82698c2dd6b": {
          "model_module": "@jupyter-widgets/controls",
          "model_module_version": "1.5.0",
          "model_name": "HTMLModel",
          "state": {
            "_dom_classes": [],
            "_model_module": "@jupyter-widgets/controls",
            "_model_module_version": "1.5.0",
            "_model_name": "HTMLModel",
            "_view_count": null,
            "_view_module": "@jupyter-widgets/controls",
            "_view_module_version": "1.5.0",
            "_view_name": "HTMLView",
            "description": "",
            "description_tooltip": null,
            "layout": "IPY_MODEL_ea09870ec32b4c79a9ebe1cffd918b68",
            "placeholder": "​",
            "style": "IPY_MODEL_765987db505d4ec3b1c56769aab58f71",
            "value": " 44.7M/44.7M [00:00&lt;00:00, 138MB/s]"
          }
        },
        "505b163bd0c54a7cb93acbacc523e536": {
          "model_module": "@jupyter-widgets/controls",
          "model_module_version": "1.5.0",
          "model_name": "FloatProgressModel",
          "state": {
            "_dom_classes": [],
            "_model_module": "@jupyter-widgets/controls",
            "_model_module_version": "1.5.0",
            "_model_name": "FloatProgressModel",
            "_view_count": null,
            "_view_module": "@jupyter-widgets/controls",
            "_view_module_version": "1.5.0",
            "_view_name": "ProgressView",
            "bar_style": "success",
            "description": "",
            "description_tooltip": null,
            "layout": "IPY_MODEL_870d0b9106ae4d95acc73c354251cd09",
            "max": 102530333,
            "min": 0,
            "orientation": "horizontal",
            "style": "IPY_MODEL_d9a794cd5ddc46bd9ec38f50000b8fec",
            "value": 102530333
          }
        },
        "521d588969844becb5c0fb355c52514a": {
          "model_module": "@jupyter-widgets/controls",
          "model_module_version": "1.5.0",
          "model_name": "FloatProgressModel",
          "state": {
            "_dom_classes": [],
            "_model_module": "@jupyter-widgets/controls",
            "_model_module_version": "1.5.0",
            "_model_name": "FloatProgressModel",
            "_view_count": null,
            "_view_module": "@jupyter-widgets/controls",
            "_view_module_version": "1.5.0",
            "_view_name": "ProgressView",
            "bar_style": "success",
            "description": "",
            "description_tooltip": null,
            "layout": "IPY_MODEL_851e93eadfd64f16a67e1cc5bbba18a8",
            "max": 46830571,
            "min": 0,
            "orientation": "horizontal",
            "style": "IPY_MODEL_d90ffafed550456989afac13b05e67da",
            "value": 46830571
          }
        },
        "5b98a66f84684478a3faa6f5be388025": {
          "model_module": "@jupyter-widgets/base",
          "model_module_version": "1.2.0",
          "model_name": "LayoutModel",
          "state": {
            "_model_module": "@jupyter-widgets/base",
            "_model_module_version": "1.2.0",
            "_model_name": "LayoutModel",
            "_view_count": null,
            "_view_module": "@jupyter-widgets/base",
            "_view_module_version": "1.2.0",
            "_view_name": "LayoutView",
            "align_content": null,
            "align_items": null,
            "align_self": null,
            "border": null,
            "bottom": null,
            "display": null,
            "flex": null,
            "flex_flow": null,
            "grid_area": null,
            "grid_auto_columns": null,
            "grid_auto_flow": null,
            "grid_auto_rows": null,
            "grid_column": null,
            "grid_gap": null,
            "grid_row": null,
            "grid_template_areas": null,
            "grid_template_columns": null,
            "grid_template_rows": null,
            "height": null,
            "justify_content": null,
            "justify_items": null,
            "left": null,
            "margin": null,
            "max_height": null,
            "max_width": null,
            "min_height": null,
            "min_width": null,
            "object_fit": null,
            "object_position": null,
            "order": null,
            "overflow": null,
            "overflow_x": null,
            "overflow_y": null,
            "padding": null,
            "right": null,
            "top": null,
            "visibility": null,
            "width": null
          }
        },
        "6182fbb5f2ef4478b55af3ec33565b19": {
          "model_module": "@jupyter-widgets/base",
          "model_module_version": "1.2.0",
          "model_name": "LayoutModel",
          "state": {
            "_model_module": "@jupyter-widgets/base",
            "_model_module_version": "1.2.0",
            "_model_name": "LayoutModel",
            "_view_count": null,
            "_view_module": "@jupyter-widgets/base",
            "_view_module_version": "1.2.0",
            "_view_name": "LayoutView",
            "align_content": null,
            "align_items": null,
            "align_self": null,
            "border": null,
            "bottom": null,
            "display": null,
            "flex": null,
            "flex_flow": null,
            "grid_area": null,
            "grid_auto_columns": null,
            "grid_auto_flow": null,
            "grid_auto_rows": null,
            "grid_column": null,
            "grid_gap": null,
            "grid_row": null,
            "grid_template_areas": null,
            "grid_template_columns": null,
            "grid_template_rows": null,
            "height": null,
            "justify_content": null,
            "justify_items": null,
            "left": null,
            "margin": null,
            "max_height": null,
            "max_width": null,
            "min_height": null,
            "min_width": null,
            "object_fit": null,
            "object_position": null,
            "order": null,
            "overflow": null,
            "overflow_x": null,
            "overflow_y": null,
            "padding": null,
            "right": null,
            "top": null,
            "visibility": null,
            "width": null
          }
        },
        "6b04a3cb7da34803810de2613f45d2bd": {
          "model_module": "@jupyter-widgets/base",
          "model_module_version": "1.2.0",
          "model_name": "LayoutModel",
          "state": {
            "_model_module": "@jupyter-widgets/base",
            "_model_module_version": "1.2.0",
            "_model_name": "LayoutModel",
            "_view_count": null,
            "_view_module": "@jupyter-widgets/base",
            "_view_module_version": "1.2.0",
            "_view_name": "LayoutView",
            "align_content": null,
            "align_items": null,
            "align_self": null,
            "border": null,
            "bottom": null,
            "display": null,
            "flex": null,
            "flex_flow": null,
            "grid_area": null,
            "grid_auto_columns": null,
            "grid_auto_flow": null,
            "grid_auto_rows": null,
            "grid_column": null,
            "grid_gap": null,
            "grid_row": null,
            "grid_template_areas": null,
            "grid_template_columns": null,
            "grid_template_rows": null,
            "height": null,
            "justify_content": null,
            "justify_items": null,
            "left": null,
            "margin": null,
            "max_height": null,
            "max_width": null,
            "min_height": null,
            "min_width": null,
            "object_fit": null,
            "object_position": null,
            "order": null,
            "overflow": null,
            "overflow_x": null,
            "overflow_y": null,
            "padding": null,
            "right": null,
            "top": null,
            "visibility": null,
            "width": null
          }
        },
        "765987db505d4ec3b1c56769aab58f71": {
          "model_module": "@jupyter-widgets/controls",
          "model_module_version": "1.5.0",
          "model_name": "DescriptionStyleModel",
          "state": {
            "_model_module": "@jupyter-widgets/controls",
            "_model_module_version": "1.5.0",
            "_model_name": "DescriptionStyleModel",
            "_view_count": null,
            "_view_module": "@jupyter-widgets/base",
            "_view_module_version": "1.2.0",
            "_view_name": "StyleView",
            "description_width": ""
          }
        },
        "80e7b472a88240e7a50a1b8b3a34a0b1": {
          "model_module": "@jupyter-widgets/controls",
          "model_module_version": "1.5.0",
          "model_name": "HBoxModel",
          "state": {
            "_dom_classes": [],
            "_model_module": "@jupyter-widgets/controls",
            "_model_module_version": "1.5.0",
            "_model_name": "HBoxModel",
            "_view_count": null,
            "_view_module": "@jupyter-widgets/controls",
            "_view_module_version": "1.5.0",
            "_view_name": "HBoxView",
            "box_style": "",
            "children": [
              "IPY_MODEL_d89482eb5e8c4792be0ced708bd782d4",
              "IPY_MODEL_505b163bd0c54a7cb93acbacc523e536",
              "IPY_MODEL_c063ce77acec4d99ad85713296e0d0a2"
            ],
            "layout": "IPY_MODEL_6b04a3cb7da34803810de2613f45d2bd"
          }
        },
        "851e93eadfd64f16a67e1cc5bbba18a8": {
          "model_module": "@jupyter-widgets/base",
          "model_module_version": "1.2.0",
          "model_name": "LayoutModel",
          "state": {
            "_model_module": "@jupyter-widgets/base",
            "_model_module_version": "1.2.0",
            "_model_name": "LayoutModel",
            "_view_count": null,
            "_view_module": "@jupyter-widgets/base",
            "_view_module_version": "1.2.0",
            "_view_name": "LayoutView",
            "align_content": null,
            "align_items": null,
            "align_self": null,
            "border": null,
            "bottom": null,
            "display": null,
            "flex": null,
            "flex_flow": null,
            "grid_area": null,
            "grid_auto_columns": null,
            "grid_auto_flow": null,
            "grid_auto_rows": null,
            "grid_column": null,
            "grid_gap": null,
            "grid_row": null,
            "grid_template_areas": null,
            "grid_template_columns": null,
            "grid_template_rows": null,
            "height": null,
            "justify_content": null,
            "justify_items": null,
            "left": null,
            "margin": null,
            "max_height": null,
            "max_width": null,
            "min_height": null,
            "min_width": null,
            "object_fit": null,
            "object_position": null,
            "order": null,
            "overflow": null,
            "overflow_x": null,
            "overflow_y": null,
            "padding": null,
            "right": null,
            "top": null,
            "visibility": null,
            "width": null
          }
        },
        "86c847799bb94080ba0a35f4c1efc7c8": {
          "model_module": "@jupyter-widgets/base",
          "model_module_version": "1.2.0",
          "model_name": "LayoutModel",
          "state": {
            "_model_module": "@jupyter-widgets/base",
            "_model_module_version": "1.2.0",
            "_model_name": "LayoutModel",
            "_view_count": null,
            "_view_module": "@jupyter-widgets/base",
            "_view_module_version": "1.2.0",
            "_view_name": "LayoutView",
            "align_content": null,
            "align_items": null,
            "align_self": null,
            "border": null,
            "bottom": null,
            "display": null,
            "flex": null,
            "flex_flow": null,
            "grid_area": null,
            "grid_auto_columns": null,
            "grid_auto_flow": null,
            "grid_auto_rows": null,
            "grid_column": null,
            "grid_gap": null,
            "grid_row": null,
            "grid_template_areas": null,
            "grid_template_columns": null,
            "grid_template_rows": null,
            "height": null,
            "justify_content": null,
            "justify_items": null,
            "left": null,
            "margin": null,
            "max_height": null,
            "max_width": null,
            "min_height": null,
            "min_width": null,
            "object_fit": null,
            "object_position": null,
            "order": null,
            "overflow": null,
            "overflow_x": null,
            "overflow_y": null,
            "padding": null,
            "right": null,
            "top": null,
            "visibility": null,
            "width": null
          }
        },
        "870d0b9106ae4d95acc73c354251cd09": {
          "model_module": "@jupyter-widgets/base",
          "model_module_version": "1.2.0",
          "model_name": "LayoutModel",
          "state": {
            "_model_module": "@jupyter-widgets/base",
            "_model_module_version": "1.2.0",
            "_model_name": "LayoutModel",
            "_view_count": null,
            "_view_module": "@jupyter-widgets/base",
            "_view_module_version": "1.2.0",
            "_view_name": "LayoutView",
            "align_content": null,
            "align_items": null,
            "align_self": null,
            "border": null,
            "bottom": null,
            "display": null,
            "flex": null,
            "flex_flow": null,
            "grid_area": null,
            "grid_auto_columns": null,
            "grid_auto_flow": null,
            "grid_auto_rows": null,
            "grid_column": null,
            "grid_gap": null,
            "grid_row": null,
            "grid_template_areas": null,
            "grid_template_columns": null,
            "grid_template_rows": null,
            "height": null,
            "justify_content": null,
            "justify_items": null,
            "left": null,
            "margin": null,
            "max_height": null,
            "max_width": null,
            "min_height": null,
            "min_width": null,
            "object_fit": null,
            "object_position": null,
            "order": null,
            "overflow": null,
            "overflow_x": null,
            "overflow_y": null,
            "padding": null,
            "right": null,
            "top": null,
            "visibility": null,
            "width": null
          }
        },
        "8c8e43bca76348de9a4fd98ff630c78a": {
          "model_module": "@jupyter-widgets/controls",
          "model_module_version": "1.5.0",
          "model_name": "HTMLModel",
          "state": {
            "_dom_classes": [],
            "_model_module": "@jupyter-widgets/controls",
            "_model_module_version": "1.5.0",
            "_model_name": "HTMLModel",
            "_view_count": null,
            "_view_module": "@jupyter-widgets/controls",
            "_view_module_version": "1.5.0",
            "_view_name": "HTMLView",
            "description": "",
            "description_tooltip": null,
            "layout": "IPY_MODEL_5b98a66f84684478a3faa6f5be388025",
            "placeholder": "​",
            "style": "IPY_MODEL_95d9ebf0ed2b45b58ce1124a030bfda5",
            "value": "100%"
          }
        },
        "8cf98d04042545499bf4d9a1baa88dd2": {
          "model_module": "@jupyter-widgets/controls",
          "model_module_version": "1.5.0",
          "model_name": "DescriptionStyleModel",
          "state": {
            "_model_module": "@jupyter-widgets/controls",
            "_model_module_version": "1.5.0",
            "_model_name": "DescriptionStyleModel",
            "_view_count": null,
            "_view_module": "@jupyter-widgets/base",
            "_view_module_version": "1.2.0",
            "_view_name": "StyleView",
            "description_width": ""
          }
        },
        "95ce8a88f5c04e10974b90b87f558efe": {
          "model_module": "@jupyter-widgets/controls",
          "model_module_version": "1.5.0",
          "model_name": "DescriptionStyleModel",
          "state": {
            "_model_module": "@jupyter-widgets/controls",
            "_model_module_version": "1.5.0",
            "_model_name": "DescriptionStyleModel",
            "_view_count": null,
            "_view_module": "@jupyter-widgets/base",
            "_view_module_version": "1.2.0",
            "_view_name": "StyleView",
            "description_width": ""
          }
        },
        "95d9ebf0ed2b45b58ce1124a030bfda5": {
          "model_module": "@jupyter-widgets/controls",
          "model_module_version": "1.5.0",
          "model_name": "DescriptionStyleModel",
          "state": {
            "_model_module": "@jupyter-widgets/controls",
            "_model_module_version": "1.5.0",
            "_model_name": "DescriptionStyleModel",
            "_view_count": null,
            "_view_module": "@jupyter-widgets/base",
            "_view_module_version": "1.2.0",
            "_view_name": "StyleView",
            "description_width": ""
          }
        },
        "a315687465f14513820223b80bee23d2": {
          "model_module": "@jupyter-widgets/controls",
          "model_module_version": "1.5.0",
          "model_name": "HBoxModel",
          "state": {
            "_dom_classes": [],
            "_model_module": "@jupyter-widgets/controls",
            "_model_module_version": "1.5.0",
            "_model_name": "HBoxModel",
            "_view_count": null,
            "_view_module": "@jupyter-widgets/controls",
            "_view_module_version": "1.5.0",
            "_view_name": "HBoxView",
            "box_style": "",
            "children": [
              "IPY_MODEL_8c8e43bca76348de9a4fd98ff630c78a",
              "IPY_MODEL_521d588969844becb5c0fb355c52514a",
              "IPY_MODEL_3d63cbedf0fc4a259e11f82698c2dd6b"
            ],
            "layout": "IPY_MODEL_6182fbb5f2ef4478b55af3ec33565b19"
          }
        },
        "b405e76530b4428da912f28d07951c10": {
          "model_module": "@jupyter-widgets/base",
          "model_module_version": "1.2.0",
          "model_name": "LayoutModel",
          "state": {
            "_model_module": "@jupyter-widgets/base",
            "_model_module_version": "1.2.0",
            "_model_name": "LayoutModel",
            "_view_count": null,
            "_view_module": "@jupyter-widgets/base",
            "_view_module_version": "1.2.0",
            "_view_name": "LayoutView",
            "align_content": null,
            "align_items": null,
            "align_self": null,
            "border": null,
            "bottom": null,
            "display": null,
            "flex": null,
            "flex_flow": null,
            "grid_area": null,
            "grid_auto_columns": null,
            "grid_auto_flow": null,
            "grid_auto_rows": null,
            "grid_column": null,
            "grid_gap": null,
            "grid_row": null,
            "grid_template_areas": null,
            "grid_template_columns": null,
            "grid_template_rows": null,
            "height": null,
            "justify_content": null,
            "justify_items": null,
            "left": null,
            "margin": null,
            "max_height": null,
            "max_width": null,
            "min_height": null,
            "min_width": null,
            "object_fit": null,
            "object_position": null,
            "order": null,
            "overflow": null,
            "overflow_x": null,
            "overflow_y": null,
            "padding": null,
            "right": null,
            "top": null,
            "visibility": null,
            "width": null
          }
        },
        "c063ce77acec4d99ad85713296e0d0a2": {
          "model_module": "@jupyter-widgets/controls",
          "model_module_version": "1.5.0",
          "model_name": "HTMLModel",
          "state": {
            "_dom_classes": [],
            "_model_module": "@jupyter-widgets/controls",
            "_model_module_version": "1.5.0",
            "_model_name": "HTMLModel",
            "_view_count": null,
            "_view_module": "@jupyter-widgets/controls",
            "_view_module_version": "1.5.0",
            "_view_name": "HTMLView",
            "description": "",
            "description_tooltip": null,
            "layout": "IPY_MODEL_b405e76530b4428da912f28d07951c10",
            "placeholder": "​",
            "style": "IPY_MODEL_8cf98d04042545499bf4d9a1baa88dd2",
            "value": " 97.8M/97.8M [00:00&lt;00:00, 193MB/s]"
          }
        },
        "d89482eb5e8c4792be0ced708bd782d4": {
          "model_module": "@jupyter-widgets/controls",
          "model_module_version": "1.5.0",
          "model_name": "HTMLModel",
          "state": {
            "_dom_classes": [],
            "_model_module": "@jupyter-widgets/controls",
            "_model_module_version": "1.5.0",
            "_model_name": "HTMLModel",
            "_view_count": null,
            "_view_module": "@jupyter-widgets/controls",
            "_view_module_version": "1.5.0",
            "_view_name": "HTMLView",
            "description": "",
            "description_tooltip": null,
            "layout": "IPY_MODEL_86c847799bb94080ba0a35f4c1efc7c8",
            "placeholder": "​",
            "style": "IPY_MODEL_95ce8a88f5c04e10974b90b87f558efe",
            "value": "100%"
          }
        },
        "d90ffafed550456989afac13b05e67da": {
          "model_module": "@jupyter-widgets/controls",
          "model_module_version": "1.5.0",
          "model_name": "ProgressStyleModel",
          "state": {
            "_model_module": "@jupyter-widgets/controls",
            "_model_module_version": "1.5.0",
            "_model_name": "ProgressStyleModel",
            "_view_count": null,
            "_view_module": "@jupyter-widgets/base",
            "_view_module_version": "1.2.0",
            "_view_name": "StyleView",
            "bar_color": null,
            "description_width": ""
          }
        },
        "d9a794cd5ddc46bd9ec38f50000b8fec": {
          "model_module": "@jupyter-widgets/controls",
          "model_module_version": "1.5.0",
          "model_name": "ProgressStyleModel",
          "state": {
            "_model_module": "@jupyter-widgets/controls",
            "_model_module_version": "1.5.0",
            "_model_name": "ProgressStyleModel",
            "_view_count": null,
            "_view_module": "@jupyter-widgets/base",
            "_view_module_version": "1.2.0",
            "_view_name": "StyleView",
            "bar_color": null,
            "description_width": ""
          }
        },
        "ea09870ec32b4c79a9ebe1cffd918b68": {
          "model_module": "@jupyter-widgets/base",
          "model_module_version": "1.2.0",
          "model_name": "LayoutModel",
          "state": {
            "_model_module": "@jupyter-widgets/base",
            "_model_module_version": "1.2.0",
            "_model_name": "LayoutModel",
            "_view_count": null,
            "_view_module": "@jupyter-widgets/base",
            "_view_module_version": "1.2.0",
            "_view_name": "LayoutView",
            "align_content": null,
            "align_items": null,
            "align_self": null,
            "border": null,
            "bottom": null,
            "display": null,
            "flex": null,
            "flex_flow": null,
            "grid_area": null,
            "grid_auto_columns": null,
            "grid_auto_flow": null,
            "grid_auto_rows": null,
            "grid_column": null,
            "grid_gap": null,
            "grid_row": null,
            "grid_template_areas": null,
            "grid_template_columns": null,
            "grid_template_rows": null,
            "height": null,
            "justify_content": null,
            "justify_items": null,
            "left": null,
            "margin": null,
            "max_height": null,
            "max_width": null,
            "min_height": null,
            "min_width": null,
            "object_fit": null,
            "object_position": null,
            "order": null,
            "overflow": null,
            "overflow_x": null,
            "overflow_y": null,
            "padding": null,
            "right": null,
            "top": null,
            "visibility": null,
            "width": null
          }
        }
      }
    }
  },
  "nbformat": 4,
  "nbformat_minor": 0
}